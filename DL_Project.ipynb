{
  "nbformat": 4,
  "nbformat_minor": 0,
  "metadata": {
    "colab": {
      "name": "DL_Project.ipynb",
      "provenance": [],
      "collapsed_sections": [],
      "toc_visible": true,
      "machine_shape": "hm"
    },
    "kernelspec": {
      "name": "python3",
      "display_name": "Python 3"
    },
    "accelerator": "GPU"
  },
  "cells": [
    {
      "cell_type": "markdown",
      "metadata": {
        "id": "Xm5gvVm74EMt",
        "colab_type": "text"
      },
      "source": [
        "# _**Part 1: Data Cleaning**_"
      ]
    },
    {
      "cell_type": "code",
      "metadata": {
        "id": "zijdNeyfWy-d",
        "colab_type": "code",
        "outputId": "cddce4af-8f7f-4dd5-fd4d-bda2d5217e2d",
        "colab": {
          "base_uri": "https://localhost:8080/",
          "height": 125
        }
      },
      "source": [
        "from google.colab import drive\n",
        "drive.mount('/content/gdrive')"
      ],
      "execution_count": 0,
      "outputs": [
        {
          "output_type": "stream",
          "text": [
            "Go to this URL in a browser: https://accounts.google.com/o/oauth2/auth?client_id=947318989803-6bn6qk8qdgf4n4g3pfee6491hc0brc4i.apps.googleusercontent.com&redirect_uri=urn%3aietf%3awg%3aoauth%3a2.0%3aoob&response_type=code&scope=email%20https%3a%2f%2fwww.googleapis.com%2fauth%2fdocs.test%20https%3a%2f%2fwww.googleapis.com%2fauth%2fdrive%20https%3a%2f%2fwww.googleapis.com%2fauth%2fdrive.photos.readonly%20https%3a%2f%2fwww.googleapis.com%2fauth%2fpeopleapi.readonly\n",
            "\n",
            "Enter your authorization code:\n",
            "··········\n",
            "Mounted at /content/gdrive\n"
          ],
          "name": "stdout"
        }
      ]
    },
    {
      "cell_type": "code",
      "metadata": {
        "id": "IgoBZ9BYW-82",
        "colab_type": "code",
        "colab": {}
      },
      "source": [
        "path=\"/content/gdrive/My Drive/ashrae-energy-prediction/\""
      ],
      "execution_count": 0,
      "outputs": []
    },
    {
      "cell_type": "markdown",
      "metadata": {
        "id": "WP0M3E76YUch",
        "colab_type": "text"
      },
      "source": [
        "## **Import Libraries**"
      ]
    },
    {
      "cell_type": "code",
      "metadata": {
        "id": "tQvqgbueYH-c",
        "colab_type": "code",
        "colab": {}
      },
      "source": [
        "import pandas as pd\n",
        "import numpy as np\n",
        "import os\n",
        "import matplotlib.pyplot as plt\n",
        "%matplotlib inline\n",
        "import seaborn as sns\n",
        "from sklearn.preprocessing import OneHotEncoder,LabelEncoder"
      ],
      "execution_count": 0,
      "outputs": []
    },
    {
      "cell_type": "markdown",
      "metadata": {
        "id": "jIrjR5dxvjQF",
        "colab_type": "text"
      },
      "source": [
        "## **Data Reading**"
      ]
    },
    {
      "cell_type": "markdown",
      "metadata": {
        "id": "LkV2FKtNu6VI",
        "colab_type": "text"
      },
      "source": [
        "### Weather_train"
      ]
    },
    {
      "cell_type": "code",
      "metadata": {
        "id": "3f2nFI4uY9rr",
        "colab_type": "code",
        "colab": {}
      },
      "source": [
        "Weather_train_df = pd.read_csv(path + 'weather_train.csv')"
      ],
      "execution_count": 0,
      "outputs": []
    },
    {
      "cell_type": "code",
      "metadata": {
        "id": "DkMDfxwiZq3x",
        "colab_type": "code",
        "outputId": "9b840cf0-e646-48b7-ecaf-ad498df058f2",
        "colab": {
          "base_uri": "https://localhost:8080/",
          "height": 383
        }
      },
      "source": [
        "Weather_train_df.head()"
      ],
      "execution_count": 0,
      "outputs": [
        {
          "output_type": "execute_result",
          "data": {
            "text/html": [
              "<div>\n",
              "<style scoped>\n",
              "    .dataframe tbody tr th:only-of-type {\n",
              "        vertical-align: middle;\n",
              "    }\n",
              "\n",
              "    .dataframe tbody tr th {\n",
              "        vertical-align: top;\n",
              "    }\n",
              "\n",
              "    .dataframe thead th {\n",
              "        text-align: right;\n",
              "    }\n",
              "</style>\n",
              "<table border=\"1\" class=\"dataframe\">\n",
              "  <thead>\n",
              "    <tr style=\"text-align: right;\">\n",
              "      <th></th>\n",
              "      <th>site_id</th>\n",
              "      <th>timestamp</th>\n",
              "      <th>air_temperature</th>\n",
              "      <th>cloud_coverage</th>\n",
              "      <th>dew_temperature</th>\n",
              "      <th>precip_depth_1_hr</th>\n",
              "      <th>sea_level_pressure</th>\n",
              "      <th>wind_direction</th>\n",
              "      <th>wind_speed</th>\n",
              "    </tr>\n",
              "  </thead>\n",
              "  <tbody>\n",
              "    <tr>\n",
              "      <th>0</th>\n",
              "      <td>0</td>\n",
              "      <td>2016-01-01 00:00:00</td>\n",
              "      <td>25.0</td>\n",
              "      <td>6.0</td>\n",
              "      <td>20.0</td>\n",
              "      <td>NaN</td>\n",
              "      <td>1019.7</td>\n",
              "      <td>0.0</td>\n",
              "      <td>0.0</td>\n",
              "    </tr>\n",
              "    <tr>\n",
              "      <th>1</th>\n",
              "      <td>0</td>\n",
              "      <td>2016-01-01 01:00:00</td>\n",
              "      <td>24.4</td>\n",
              "      <td>NaN</td>\n",
              "      <td>21.1</td>\n",
              "      <td>-1.0</td>\n",
              "      <td>1020.2</td>\n",
              "      <td>70.0</td>\n",
              "      <td>1.5</td>\n",
              "    </tr>\n",
              "    <tr>\n",
              "      <th>2</th>\n",
              "      <td>0</td>\n",
              "      <td>2016-01-01 02:00:00</td>\n",
              "      <td>22.8</td>\n",
              "      <td>2.0</td>\n",
              "      <td>21.1</td>\n",
              "      <td>0.0</td>\n",
              "      <td>1020.2</td>\n",
              "      <td>0.0</td>\n",
              "      <td>0.0</td>\n",
              "    </tr>\n",
              "    <tr>\n",
              "      <th>3</th>\n",
              "      <td>0</td>\n",
              "      <td>2016-01-01 03:00:00</td>\n",
              "      <td>21.1</td>\n",
              "      <td>2.0</td>\n",
              "      <td>20.6</td>\n",
              "      <td>0.0</td>\n",
              "      <td>1020.1</td>\n",
              "      <td>0.0</td>\n",
              "      <td>0.0</td>\n",
              "    </tr>\n",
              "    <tr>\n",
              "      <th>4</th>\n",
              "      <td>0</td>\n",
              "      <td>2016-01-01 04:00:00</td>\n",
              "      <td>20.0</td>\n",
              "      <td>2.0</td>\n",
              "      <td>20.0</td>\n",
              "      <td>-1.0</td>\n",
              "      <td>1020.0</td>\n",
              "      <td>250.0</td>\n",
              "      <td>2.6</td>\n",
              "    </tr>\n",
              "  </tbody>\n",
              "</table>\n",
              "</div>"
            ],
            "text/plain": [
              "   site_id            timestamp  ...  wind_direction  wind_speed\n",
              "0        0  2016-01-01 00:00:00  ...             0.0         0.0\n",
              "1        0  2016-01-01 01:00:00  ...            70.0         1.5\n",
              "2        0  2016-01-01 02:00:00  ...             0.0         0.0\n",
              "3        0  2016-01-01 03:00:00  ...             0.0         0.0\n",
              "4        0  2016-01-01 04:00:00  ...           250.0         2.6\n",
              "\n",
              "[5 rows x 9 columns]"
            ]
          },
          "metadata": {
            "tags": []
          },
          "execution_count": 6
        }
      ]
    },
    {
      "cell_type": "code",
      "metadata": {
        "id": "QWgOBIhFZw4u",
        "colab_type": "code",
        "outputId": "ba703b01-10e1-4821-92f5-a6bf41416d04",
        "colab": {
          "base_uri": "https://localhost:8080/",
          "height": 34
        }
      },
      "source": [
        "type(Weather_train_df.timestamp[0])"
      ],
      "execution_count": 0,
      "outputs": [
        {
          "output_type": "execute_result",
          "data": {
            "text/plain": [
              "str"
            ]
          },
          "metadata": {
            "tags": []
          },
          "execution_count": 7
        }
      ]
    },
    {
      "cell_type": "code",
      "metadata": {
        "id": "enpfTqxAbP9Y",
        "colab_type": "code",
        "outputId": "18bf1d7a-e5fd-47fe-a789-92f90db6fb6d",
        "colab": {
          "base_uri": "https://localhost:8080/",
          "height": 34
        }
      },
      "source": [
        "Weather_train_df.shape"
      ],
      "execution_count": 0,
      "outputs": [
        {
          "output_type": "execute_result",
          "data": {
            "text/plain": [
              "(139773, 9)"
            ]
          },
          "metadata": {
            "tags": []
          },
          "execution_count": 8
        }
      ]
    },
    {
      "cell_type": "code",
      "metadata": {
        "id": "P7ggP-H5Z99F",
        "colab_type": "code",
        "outputId": "c9ea3b54-fd5f-4cc8-fc82-a9adac11722b",
        "colab": {
          "base_uri": "https://localhost:8080/",
          "height": 302
        }
      },
      "source": [
        "Weather_train_df.site_id.value_counts()"
      ],
      "execution_count": 0,
      "outputs": [
        {
          "output_type": "execute_result",
          "data": {
            "text/plain": [
              "8     8784\n",
              "0     8784\n",
              "13    8783\n",
              "4     8783\n",
              "2     8783\n",
              "10    8782\n",
              "6     8782\n",
              "9     8780\n",
              "3     8780\n",
              "14    8777\n",
              "1     8763\n",
              "12    8755\n",
              "5     8755\n",
              "11    8614\n",
              "7     8614\n",
              "15    8454\n",
              "Name: site_id, dtype: int64"
            ]
          },
          "metadata": {
            "tags": []
          },
          "execution_count": 9
        }
      ]
    },
    {
      "cell_type": "code",
      "metadata": {
        "id": "VWnPYI38ax9K",
        "colab_type": "code",
        "outputId": "101600f0-ed3e-4ecf-ffeb-bbf09ed3f305",
        "colab": {
          "base_uri": "https://localhost:8080/",
          "height": 218
        }
      },
      "source": [
        "Weather_train_df['timestamp'][Weather_train_df.site_id==4]"
      ],
      "execution_count": 0,
      "outputs": [
        {
          "output_type": "execute_result",
          "data": {
            "text/plain": [
              "35110    2016-01-01 01:00:00\n",
              "35111    2016-01-01 02:00:00\n",
              "35112    2016-01-01 03:00:00\n",
              "35113    2016-01-01 04:00:00\n",
              "35114    2016-01-01 05:00:00\n",
              "                ...         \n",
              "43888    2016-12-31 19:00:00\n",
              "43889    2016-12-31 20:00:00\n",
              "43890    2016-12-31 21:00:00\n",
              "43891    2016-12-31 22:00:00\n",
              "43892    2016-12-31 23:00:00\n",
              "Name: timestamp, Length: 8783, dtype: object"
            ]
          },
          "metadata": {
            "tags": []
          },
          "execution_count": 10
        }
      ]
    },
    {
      "cell_type": "code",
      "metadata": {
        "id": "2S97-x8Cv0qz",
        "colab_type": "code",
        "outputId": "e22d5580-3036-472f-8494-4a0aa3cdeffe",
        "colab": {
          "base_uri": "https://localhost:8080/",
          "height": 185
        }
      },
      "source": [
        "Weather_train_df.isnull().sum()"
      ],
      "execution_count": 0,
      "outputs": [
        {
          "output_type": "execute_result",
          "data": {
            "text/plain": [
              "site_id                   0\n",
              "timestamp                 0\n",
              "air_temperature          55\n",
              "cloud_coverage        69173\n",
              "dew_temperature         113\n",
              "precip_depth_1_hr     50289\n",
              "sea_level_pressure    10618\n",
              "wind_direction         6268\n",
              "wind_speed              304\n",
              "dtype: int64"
            ]
          },
          "metadata": {
            "tags": []
          },
          "execution_count": 11
        }
      ]
    },
    {
      "cell_type": "code",
      "metadata": {
        "id": "ikkg2onU2dz5",
        "colab_type": "code",
        "outputId": "393fccd8-0ad6-47a4-f418-755a5e424a4e",
        "colab": {
          "base_uri": "https://localhost:8080/",
          "height": 34
        }
      },
      "source": [
        "Weather_train_df.shape"
      ],
      "execution_count": 0,
      "outputs": [
        {
          "output_type": "execute_result",
          "data": {
            "text/plain": [
              "(139773, 9)"
            ]
          },
          "metadata": {
            "tags": []
          },
          "execution_count": 12
        }
      ]
    },
    {
      "cell_type": "code",
      "metadata": {
        "id": "MKguGpLu5AYe",
        "colab_type": "code",
        "outputId": "3b23abcd-8db3-4f04-ae09-08b1de7b01f6",
        "colab": {
          "base_uri": "https://localhost:8080/",
          "height": 284
        }
      },
      "source": [
        "Weather_train_df['air_temperature'].plot()"
      ],
      "execution_count": 0,
      "outputs": [
        {
          "output_type": "execute_result",
          "data": {
            "text/plain": [
              "<matplotlib.axes._subplots.AxesSubplot at 0x7f5db72b07b8>"
            ]
          },
          "metadata": {
            "tags": []
          },
          "execution_count": 13
        },
        {
          "output_type": "display_data",
          "data": {
            "image/png": "[encoded data removed]",
            "text/plain": [
              "<Figure size 432x288 with 1 Axes>"
            ]
          },
          "metadata": {
            "tags": []
          }
        }
      ]
    },
    {
      "cell_type": "code",
      "metadata": {
        "id": "Kp7Xbjvx2GhG",
        "colab_type": "code",
        "colab": {}
      },
      "source": [
        ""
      ],
      "execution_count": 0,
      "outputs": []
    },
    {
      "cell_type": "markdown",
      "metadata": {
        "id": "lG595LOovNKA",
        "colab_type": "text"
      },
      "source": [
        "### Train Data"
      ]
    },
    {
      "cell_type": "code",
      "metadata": {
        "id": "ffLGg8D5b3py",
        "colab_type": "code",
        "colab": {}
      },
      "source": [
        "Train_df = pd.read_csv(path + 'train.csv')"
      ],
      "execution_count": 0,
      "outputs": []
    },
    {
      "cell_type": "code",
      "metadata": {
        "id": "PjHUmyLtkb1v",
        "colab_type": "code",
        "outputId": "0c2dea9c-5d00-4156-fc43-25f78e381fa2",
        "colab": {
          "base_uri": "https://localhost:8080/",
          "height": 639
        }
      },
      "source": [
        "Train_df.tail(20)"
      ],
      "execution_count": 0,
      "outputs": [
        {
          "output_type": "execute_result",
          "data": {
            "text/html": [
              "<div>\n",
              "<style scoped>\n",
              "    .dataframe tbody tr th:only-of-type {\n",
              "        vertical-align: middle;\n",
              "    }\n",
              "\n",
              "    .dataframe tbody tr th {\n",
              "        vertical-align: top;\n",
              "    }\n",
              "\n",
              "    .dataframe thead th {\n",
              "        text-align: right;\n",
              "    }\n",
              "</style>\n",
              "<table border=\"1\" class=\"dataframe\">\n",
              "  <thead>\n",
              "    <tr style=\"text-align: right;\">\n",
              "      <th></th>\n",
              "      <th>building_id</th>\n",
              "      <th>meter</th>\n",
              "      <th>timestamp</th>\n",
              "      <th>meter_reading</th>\n",
              "    </tr>\n",
              "  </thead>\n",
              "  <tbody>\n",
              "    <tr>\n",
              "      <th>20216080</th>\n",
              "      <td>1434</td>\n",
              "      <td>0</td>\n",
              "      <td>2016-12-31 23:00:00</td>\n",
              "      <td>70.7250</td>\n",
              "    </tr>\n",
              "    <tr>\n",
              "      <th>20216081</th>\n",
              "      <td>1434</td>\n",
              "      <td>2</td>\n",
              "      <td>2016-12-31 23:00:00</td>\n",
              "      <td>259.0730</td>\n",
              "    </tr>\n",
              "    <tr>\n",
              "      <th>20216082</th>\n",
              "      <td>1435</td>\n",
              "      <td>0</td>\n",
              "      <td>2016-12-31 23:00:00</td>\n",
              "      <td>4.7250</td>\n",
              "    </tr>\n",
              "    <tr>\n",
              "      <th>20216083</th>\n",
              "      <td>1436</td>\n",
              "      <td>0</td>\n",
              "      <td>2016-12-31 23:00:00</td>\n",
              "      <td>11.6000</td>\n",
              "    </tr>\n",
              "    <tr>\n",
              "      <th>20216084</th>\n",
              "      <td>1436</td>\n",
              "      <td>2</td>\n",
              "      <td>2016-12-31 23:00:00</td>\n",
              "      <td>1274.6600</td>\n",
              "    </tr>\n",
              "    <tr>\n",
              "      <th>20216085</th>\n",
              "      <td>1437</td>\n",
              "      <td>0</td>\n",
              "      <td>2016-12-31 23:00:00</td>\n",
              "      <td>195.9250</td>\n",
              "    </tr>\n",
              "    <tr>\n",
              "      <th>20216086</th>\n",
              "      <td>1437</td>\n",
              "      <td>2</td>\n",
              "      <td>2016-12-31 23:00:00</td>\n",
              "      <td>1518.9200</td>\n",
              "    </tr>\n",
              "    <tr>\n",
              "      <th>20216087</th>\n",
              "      <td>1438</td>\n",
              "      <td>0</td>\n",
              "      <td>2016-12-31 23:00:00</td>\n",
              "      <td>100.6750</td>\n",
              "    </tr>\n",
              "    <tr>\n",
              "      <th>20216088</th>\n",
              "      <td>1438</td>\n",
              "      <td>2</td>\n",
              "      <td>2016-12-31 23:00:00</td>\n",
              "      <td>852.7700</td>\n",
              "    </tr>\n",
              "    <tr>\n",
              "      <th>20216089</th>\n",
              "      <td>1439</td>\n",
              "      <td>0</td>\n",
              "      <td>2016-12-31 23:00:00</td>\n",
              "      <td>167.4000</td>\n",
              "    </tr>\n",
              "    <tr>\n",
              "      <th>20216090</th>\n",
              "      <td>1440</td>\n",
              "      <td>0</td>\n",
              "      <td>2016-12-31 23:00:00</td>\n",
              "      <td>154.7500</td>\n",
              "    </tr>\n",
              "    <tr>\n",
              "      <th>20216091</th>\n",
              "      <td>1441</td>\n",
              "      <td>0</td>\n",
              "      <td>2016-12-31 23:00:00</td>\n",
              "      <td>242.9250</td>\n",
              "    </tr>\n",
              "    <tr>\n",
              "      <th>20216092</th>\n",
              "      <td>1442</td>\n",
              "      <td>0</td>\n",
              "      <td>2016-12-31 23:00:00</td>\n",
              "      <td>59.4000</td>\n",
              "    </tr>\n",
              "    <tr>\n",
              "      <th>20216093</th>\n",
              "      <td>1442</td>\n",
              "      <td>2</td>\n",
              "      <td>2016-12-31 23:00:00</td>\n",
              "      <td>55.6241</td>\n",
              "    </tr>\n",
              "    <tr>\n",
              "      <th>20216094</th>\n",
              "      <td>1443</td>\n",
              "      <td>0</td>\n",
              "      <td>2016-12-31 23:00:00</td>\n",
              "      <td>64.9500</td>\n",
              "    </tr>\n",
              "    <tr>\n",
              "      <th>20216095</th>\n",
              "      <td>1444</td>\n",
              "      <td>0</td>\n",
              "      <td>2016-12-31 23:00:00</td>\n",
              "      <td>8.7500</td>\n",
              "    </tr>\n",
              "    <tr>\n",
              "      <th>20216096</th>\n",
              "      <td>1445</td>\n",
              "      <td>0</td>\n",
              "      <td>2016-12-31 23:00:00</td>\n",
              "      <td>4.8250</td>\n",
              "    </tr>\n",
              "    <tr>\n",
              "      <th>20216097</th>\n",
              "      <td>1446</td>\n",
              "      <td>0</td>\n",
              "      <td>2016-12-31 23:00:00</td>\n",
              "      <td>0.0000</td>\n",
              "    </tr>\n",
              "    <tr>\n",
              "      <th>20216098</th>\n",
              "      <td>1447</td>\n",
              "      <td>0</td>\n",
              "      <td>2016-12-31 23:00:00</td>\n",
              "      <td>159.5750</td>\n",
              "    </tr>\n",
              "    <tr>\n",
              "      <th>20216099</th>\n",
              "      <td>1448</td>\n",
              "      <td>0</td>\n",
              "      <td>2016-12-31 23:00:00</td>\n",
              "      <td>2.8500</td>\n",
              "    </tr>\n",
              "  </tbody>\n",
              "</table>\n",
              "</div>"
            ],
            "text/plain": [
              "          building_id  meter            timestamp  meter_reading\n",
              "20216080         1434      0  2016-12-31 23:00:00        70.7250\n",
              "20216081         1434      2  2016-12-31 23:00:00       259.0730\n",
              "20216082         1435      0  2016-12-31 23:00:00         4.7250\n",
              "20216083         1436      0  2016-12-31 23:00:00        11.6000\n",
              "20216084         1436      2  2016-12-31 23:00:00      1274.6600\n",
              "20216085         1437      0  2016-12-31 23:00:00       195.9250\n",
              "20216086         1437      2  2016-12-31 23:00:00      1518.9200\n",
              "20216087         1438      0  2016-12-31 23:00:00       100.6750\n",
              "20216088         1438      2  2016-12-31 23:00:00       852.7700\n",
              "20216089         1439      0  2016-12-31 23:00:00       167.4000\n",
              "20216090         1440      0  2016-12-31 23:00:00       154.7500\n",
              "20216091         1441      0  2016-12-31 23:00:00       242.9250\n",
              "20216092         1442      0  2016-12-31 23:00:00        59.4000\n",
              "20216093         1442      2  2016-12-31 23:00:00        55.6241\n",
              "20216094         1443      0  2016-12-31 23:00:00        64.9500\n",
              "20216095         1444      0  2016-12-31 23:00:00         8.7500\n",
              "20216096         1445      0  2016-12-31 23:00:00         4.8250\n",
              "20216097         1446      0  2016-12-31 23:00:00         0.0000\n",
              "20216098         1447      0  2016-12-31 23:00:00       159.5750\n",
              "20216099         1448      0  2016-12-31 23:00:00         2.8500"
            ]
          },
          "metadata": {
            "tags": []
          },
          "execution_count": 15
        }
      ]
    },
    {
      "cell_type": "code",
      "metadata": {
        "id": "HxA76JCTkil-",
        "colab_type": "code",
        "outputId": "043a1b58-26fe-4be2-cb57-cc9bc938fdc8",
        "colab": {
          "base_uri": "https://localhost:8080/",
          "height": 34
        }
      },
      "source": [
        "Train_df.shape"
      ],
      "execution_count": 0,
      "outputs": [
        {
          "output_type": "execute_result",
          "data": {
            "text/plain": [
              "(20216100, 4)"
            ]
          },
          "metadata": {
            "tags": []
          },
          "execution_count": 16
        }
      ]
    },
    {
      "cell_type": "code",
      "metadata": {
        "id": "czA8rAt1kv2M",
        "colab_type": "code",
        "outputId": "5f9f2dcc-9001-4559-fe60-edd78ffca563",
        "colab": {
          "base_uri": "https://localhost:8080/",
          "height": 34
        }
      },
      "source": [
        "type(Train_df.timestamp[0]),Train_df.building_id.nunique()"
      ],
      "execution_count": 0,
      "outputs": [
        {
          "output_type": "execute_result",
          "data": {
            "text/plain": [
              "(str, 1449)"
            ]
          },
          "metadata": {
            "tags": []
          },
          "execution_count": 17
        }
      ]
    },
    {
      "cell_type": "code",
      "metadata": {
        "id": "jvxPbPX2wSZd",
        "colab_type": "code",
        "colab": {}
      },
      "source": [
        "# 1449 building"
      ],
      "execution_count": 0,
      "outputs": []
    },
    {
      "cell_type": "code",
      "metadata": {
        "id": "RzEOLnuWrzW4",
        "colab_type": "code",
        "outputId": "76b214e4-df07-48be-825a-77300b41ed73",
        "colab": {
          "base_uri": "https://localhost:8080/",
          "height": 101
        }
      },
      "source": [
        "Train_df.isnull().sum()"
      ],
      "execution_count": 0,
      "outputs": [
        {
          "output_type": "execute_result",
          "data": {
            "text/plain": [
              "building_id      0\n",
              "meter            0\n",
              "timestamp        0\n",
              "meter_reading    0\n",
              "dtype: int64"
            ]
          },
          "metadata": {
            "tags": []
          },
          "execution_count": 19
        }
      ]
    },
    {
      "cell_type": "code",
      "metadata": {
        "id": "6IgAghMgsqFo",
        "colab_type": "code",
        "colab": {}
      },
      "source": [
        "#train data does not contain missing values???"
      ],
      "execution_count": 0,
      "outputs": []
    },
    {
      "cell_type": "code",
      "metadata": {
        "id": "C7A2wGxKzhtj",
        "colab_type": "code",
        "outputId": "c7536971-a3bd-4e48-b0c8-ced8dae27114",
        "colab": {
          "base_uri": "https://localhost:8080/",
          "height": 101
        }
      },
      "source": [
        "Train_df.meter.value_counts()"
      ],
      "execution_count": 0,
      "outputs": [
        {
          "output_type": "execute_result",
          "data": {
            "text/plain": [
              "0    12060910\n",
              "1     4182440\n",
              "2     2708713\n",
              "3     1264037\n",
              "Name: meter, dtype: int64"
            ]
          },
          "metadata": {
            "tags": []
          },
          "execution_count": 21
        }
      ]
    },
    {
      "cell_type": "code",
      "metadata": {
        "id": "VbXnmuJ-zrQ8",
        "colab_type": "code",
        "outputId": "a951b840-de78-4b49-a75a-6a95d67b5c3c",
        "colab": {
          "base_uri": "https://localhost:8080/",
          "height": 343
        }
      },
      "source": [
        "Train_df.meter.value_counts().plot('bar')"
      ],
      "execution_count": 0,
      "outputs": [
        {
          "output_type": "stream",
          "text": [
            "/usr/local/lib/python3.6/dist-packages/ipykernel_launcher.py:1: FutureWarning: `Series.plot()` should not be called with positional arguments, only keyword arguments. The order of positional arguments will change in the future. Use `Series.plot(kind='bar')` instead of `Series.plot('bar',)`.\n",
            "  \"\"\"Entry point for launching an IPython kernel.\n"
          ],
          "name": "stderr"
        },
        {
          "output_type": "execute_result",
          "data": {
            "text/plain": [
              "<matplotlib.axes._subplots.AxesSubplot at 0x7f5db6db5cc0>"
            ]
          },
          "metadata": {
            "tags": []
          },
          "execution_count": 22
        },
        {
          "output_type": "display_data",
          "data": {
            "image/png": "[encoded data removed]",
            "text/plain": [
              "<Figure size 432x288 with 1 Axes>"
            ]
          },
          "metadata": {
            "tags": []
          }
        }
      ]
    },
    {
      "cell_type": "markdown",
      "metadata": {
        "id": "cV2oX4J8uvsj",
        "colab_type": "text"
      },
      "source": [
        "#### Visualizing Target variable"
      ]
    },
    {
      "cell_type": "code",
      "metadata": {
        "id": "4Im5MAj_2R3S",
        "colab_type": "code",
        "outputId": "2b742b5b-649d-40f8-8091-9b72e59cc222",
        "colab": {
          "base_uri": "https://localhost:8080/",
          "height": 218
        }
      },
      "source": [
        "Train_df.meter_reading.value_counts()"
      ],
      "execution_count": 0,
      "outputs": [
        {
          "output_type": "execute_result",
          "data": {
            "text/plain": [
              "0.0000       1873976\n",
              "20.0000        23363\n",
              "2.9307         23181\n",
              "36.6000        22154\n",
              "8.7921         21787\n",
              "              ...   \n",
              "72.6357            1\n",
              "2977.7000          1\n",
              "55.4186            1\n",
              "2977.4500          1\n",
              "15.3563            1\n",
              "Name: meter_reading, Length: 1688175, dtype: int64"
            ]
          },
          "metadata": {
            "tags": []
          },
          "execution_count": 23
        }
      ]
    },
    {
      "cell_type": "code",
      "metadata": {
        "id": "brZYA5pWup57",
        "colab_type": "code",
        "colab": {}
      },
      "source": [
        "#plt.figure(figsize=(8,6))\n",
        "#plt.scatter(range(Train_df.shape[0]), np.sort(Train_df['meter_reading'].values))\n",
        "#plt.xlabel('index', fontsize=12)\n",
        "#plt.ylabel('meter_reading', fontsize=12)\n",
        "#plt.title(\"Target Distribution\", fontsize=14)\n",
        "#plt.show()"
      ],
      "execution_count": 0,
      "outputs": []
    },
    {
      "cell_type": "code",
      "metadata": {
        "id": "1_AR1SdC0vxo",
        "colab_type": "code",
        "outputId": "86649543-7dae-4b33-9af7-8e56939d2285",
        "colab": {
          "base_uri": "https://localhost:8080/",
          "height": 361
        }
      },
      "source": [
        "plt.figure(figsize = (15,5))\n",
        "Train_df['meter_reading'].plot()"
      ],
      "execution_count": 0,
      "outputs": [
        {
          "output_type": "execute_result",
          "data": {
            "text/plain": [
              "<matplotlib.axes._subplots.AxesSubplot at 0x7f5db6c6ccc0>"
            ]
          },
          "metadata": {
            "tags": []
          },
          "execution_count": 25
        },
        {
          "output_type": "display_data",
          "data": {
            "image/png": "[encoded data removed]",
            "text/plain": [
              "<Figure size 1080x360 with 1 Axes>"
            ]
          },
          "metadata": {
            "tags": []
          }
        }
      ]
    },
    {
      "cell_type": "markdown",
      "metadata": {
        "id": "prK9nAhe0UL8",
        "colab_type": "text"
      },
      "source": [
        "#### Visualizing Corrolation between target variable and other variables in Train_df"
      ]
    },
    {
      "cell_type": "code",
      "metadata": {
        "id": "rKdQ4BIlYH-T",
        "colab_type": "code",
        "outputId": "25226383-933f-408f-e5ff-1a0905d27795",
        "colab": {
          "base_uri": "https://localhost:8080/",
          "height": 136
        }
      },
      "source": [
        "corrs = Train_df.corr()\n",
        "corrs"
      ],
      "execution_count": 0,
      "outputs": [
        {
          "output_type": "execute_result",
          "data": {
            "text/html": [
              "<div>\n",
              "<style scoped>\n",
              "    .dataframe tbody tr th:only-of-type {\n",
              "        vertical-align: middle;\n",
              "    }\n",
              "\n",
              "    .dataframe tbody tr th {\n",
              "        vertical-align: top;\n",
              "    }\n",
              "\n",
              "    .dataframe thead th {\n",
              "        text-align: right;\n",
              "    }\n",
              "</style>\n",
              "<table border=\"1\" class=\"dataframe\">\n",
              "  <thead>\n",
              "    <tr style=\"text-align: right;\">\n",
              "      <th></th>\n",
              "      <th>building_id</th>\n",
              "      <th>meter</th>\n",
              "      <th>meter_reading</th>\n",
              "    </tr>\n",
              "  </thead>\n",
              "  <tbody>\n",
              "    <tr>\n",
              "      <th>building_id</th>\n",
              "      <td>1.000000</td>\n",
              "      <td>0.222268</td>\n",
              "      <td>0.008761</td>\n",
              "    </tr>\n",
              "    <tr>\n",
              "      <th>meter</th>\n",
              "      <td>0.222268</td>\n",
              "      <td>1.000000</td>\n",
              "      <td>0.017672</td>\n",
              "    </tr>\n",
              "    <tr>\n",
              "      <th>meter_reading</th>\n",
              "      <td>0.008761</td>\n",
              "      <td>0.017672</td>\n",
              "      <td>1.000000</td>\n",
              "    </tr>\n",
              "  </tbody>\n",
              "</table>\n",
              "</div>"
            ],
            "text/plain": [
              "               building_id     meter  meter_reading\n",
              "building_id       1.000000  0.222268       0.008761\n",
              "meter             0.222268  1.000000       0.017672\n",
              "meter_reading     0.008761  0.017672       1.000000"
            ]
          },
          "metadata": {
            "tags": []
          },
          "execution_count": 32
        }
      ]
    },
    {
      "cell_type": "code",
      "metadata": {
        "id": "Aqcxe8gj0SGn",
        "colab_type": "code",
        "outputId": "883e16f9-b5c9-43d0-e799-db7473792692",
        "colab": {
          "base_uri": "https://localhost:8080/",
          "height": 520
        }
      },
      "source": [
        "plt.figure(figsize = (20, 8))\n",
        "\n",
        "# Heatmap of correlations\n",
        "sns.heatmap(corrs, cmap = plt.cm.RdYlBu_r, #vmin = -0.25, \n",
        "            annot = True,\n",
        "            #vmax = 0.6\n",
        "            )\n",
        "plt.title('Correlation Heatmap');"
      ],
      "execution_count": 0,
      "outputs": [
        {
          "output_type": "display_data",
          "data": {
            "image/png": "[encoded data removed]",
            "text/plain": [
              "<Figure size 1440x576 with 2 Axes>"
            ]
          },
          "metadata": {
            "tags": []
          }
        }
      ]
    },
    {
      "cell_type": "markdown",
      "metadata": {
        "id": "ZU9TU8YSACCb",
        "colab_type": "text"
      },
      "source": [
        "### Building  MetaData"
      ]
    },
    {
      "cell_type": "code",
      "metadata": {
        "id": "8wce8wDX64SV",
        "colab_type": "code",
        "colab": {}
      },
      "source": [
        "BuildingData_df=pd.read_csv(path+'building_metadata.csv')"
      ],
      "execution_count": 0,
      "outputs": []
    },
    {
      "cell_type": "code",
      "metadata": {
        "id": "EpZ9_ivoAgM2",
        "colab_type": "code",
        "outputId": "857c14e2-6c1c-48fb-901b-66ffbd8f8ab5",
        "colab": {
          "base_uri": "https://localhost:8080/",
          "height": 195
        }
      },
      "source": [
        "BuildingData_df.head()"
      ],
      "execution_count": 0,
      "outputs": [
        {
          "output_type": "execute_result",
          "data": {
            "text/html": [
              "<div>\n",
              "<style scoped>\n",
              "    .dataframe tbody tr th:only-of-type {\n",
              "        vertical-align: middle;\n",
              "    }\n",
              "\n",
              "    .dataframe tbody tr th {\n",
              "        vertical-align: top;\n",
              "    }\n",
              "\n",
              "    .dataframe thead th {\n",
              "        text-align: right;\n",
              "    }\n",
              "</style>\n",
              "<table border=\"1\" class=\"dataframe\">\n",
              "  <thead>\n",
              "    <tr style=\"text-align: right;\">\n",
              "      <th></th>\n",
              "      <th>site_id</th>\n",
              "      <th>building_id</th>\n",
              "      <th>primary_use</th>\n",
              "      <th>square_feet</th>\n",
              "      <th>year_built</th>\n",
              "      <th>floor_count</th>\n",
              "    </tr>\n",
              "  </thead>\n",
              "  <tbody>\n",
              "    <tr>\n",
              "      <th>0</th>\n",
              "      <td>0</td>\n",
              "      <td>0</td>\n",
              "      <td>Education</td>\n",
              "      <td>7432</td>\n",
              "      <td>2008.0</td>\n",
              "      <td>NaN</td>\n",
              "    </tr>\n",
              "    <tr>\n",
              "      <th>1</th>\n",
              "      <td>0</td>\n",
              "      <td>1</td>\n",
              "      <td>Education</td>\n",
              "      <td>2720</td>\n",
              "      <td>2004.0</td>\n",
              "      <td>NaN</td>\n",
              "    </tr>\n",
              "    <tr>\n",
              "      <th>2</th>\n",
              "      <td>0</td>\n",
              "      <td>2</td>\n",
              "      <td>Education</td>\n",
              "      <td>5376</td>\n",
              "      <td>1991.0</td>\n",
              "      <td>NaN</td>\n",
              "    </tr>\n",
              "    <tr>\n",
              "      <th>3</th>\n",
              "      <td>0</td>\n",
              "      <td>3</td>\n",
              "      <td>Education</td>\n",
              "      <td>23685</td>\n",
              "      <td>2002.0</td>\n",
              "      <td>NaN</td>\n",
              "    </tr>\n",
              "    <tr>\n",
              "      <th>4</th>\n",
              "      <td>0</td>\n",
              "      <td>4</td>\n",
              "      <td>Education</td>\n",
              "      <td>116607</td>\n",
              "      <td>1975.0</td>\n",
              "      <td>NaN</td>\n",
              "    </tr>\n",
              "  </tbody>\n",
              "</table>\n",
              "</div>"
            ],
            "text/plain": [
              "   site_id  building_id primary_use  square_feet  year_built  floor_count\n",
              "0        0            0   Education         7432      2008.0          NaN\n",
              "1        0            1   Education         2720      2004.0          NaN\n",
              "2        0            2   Education         5376      1991.0          NaN\n",
              "3        0            3   Education        23685      2002.0          NaN\n",
              "4        0            4   Education       116607      1975.0          NaN"
            ]
          },
          "metadata": {
            "tags": []
          },
          "execution_count": 27
        }
      ]
    },
    {
      "cell_type": "code",
      "metadata": {
        "id": "js_NNO0HAkjY",
        "colab_type": "code",
        "outputId": "ced0dcea-b405-4cab-fd86-9d6f19f75630",
        "colab": {
          "base_uri": "https://localhost:8080/",
          "height": 34
        }
      },
      "source": [
        "BuildingData_df.building_id.nunique()"
      ],
      "execution_count": 0,
      "outputs": [
        {
          "output_type": "execute_result",
          "data": {
            "text/plain": [
              "1449"
            ]
          },
          "metadata": {
            "tags": []
          },
          "execution_count": 28
        }
      ]
    },
    {
      "cell_type": "code",
      "metadata": {
        "id": "Pks1tHzTAtAs",
        "colab_type": "code",
        "outputId": "262ac574-2bb7-45da-967e-d01d50d7eefa",
        "colab": {
          "base_uri": "https://localhost:8080/",
          "height": 482
        }
      },
      "source": [
        "BuildingData_df.primary_use.value_counts().plot('bar')"
      ],
      "execution_count": 0,
      "outputs": [
        {
          "output_type": "stream",
          "text": [
            "/usr/local/lib/python3.6/dist-packages/ipykernel_launcher.py:1: FutureWarning: `Series.plot()` should not be called with positional arguments, only keyword arguments. The order of positional arguments will change in the future. Use `Series.plot(kind='bar')` instead of `Series.plot('bar',)`.\n",
            "  \"\"\"Entry point for launching an IPython kernel.\n"
          ],
          "name": "stderr"
        },
        {
          "output_type": "execute_result",
          "data": {
            "text/plain": [
              "<matplotlib.axes._subplots.AxesSubplot at 0x7f5db6c6c630>"
            ]
          },
          "metadata": {
            "tags": []
          },
          "execution_count": 29
        },
        {
          "output_type": "display_data",
          "data": {
            "image/png": "[encoded data removed]",
            "text/plain": [
              "<Figure size 432x288 with 1 Axes>"
            ]
          },
          "metadata": {
            "tags": []
          }
        }
      ]
    },
    {
      "cell_type": "code",
      "metadata": {
        "id": "OF_0JmqeA_Cc",
        "colab_type": "code",
        "outputId": "1c3e1736-4d37-4ce0-ce09-4701cd6b508c",
        "colab": {
          "base_uri": "https://localhost:8080/",
          "height": 134
        }
      },
      "source": [
        "BuildingData_df.isnull().sum()"
      ],
      "execution_count": 0,
      "outputs": [
        {
          "output_type": "execute_result",
          "data": {
            "text/plain": [
              "site_id           0\n",
              "building_id       0\n",
              "primary_use       0\n",
              "square_feet       0\n",
              "year_built      774\n",
              "floor_count    1094\n",
              "dtype: int64"
            ]
          },
          "metadata": {
            "tags": []
          },
          "execution_count": 30
        }
      ]
    },
    {
      "cell_type": "code",
      "metadata": {
        "id": "HPJxzb8rBOqa",
        "colab_type": "code",
        "outputId": "801d8f77-afc4-4b93-a2e7-efc23e03487e",
        "colab": {
          "base_uri": "https://localhost:8080/",
          "height": 34
        }
      },
      "source": [
        "BuildingData_df.shape"
      ],
      "execution_count": 0,
      "outputs": [
        {
          "output_type": "execute_result",
          "data": {
            "text/plain": [
              "(1449, 6)"
            ]
          },
          "metadata": {
            "tags": []
          },
          "execution_count": 31
        }
      ]
    },
    {
      "cell_type": "markdown",
      "metadata": {
        "id": "QouGts8FQQVe",
        "colab_type": "text"
      },
      "source": [
        "## **Data Cleaning and dealing with Missing Values** (Train Data)"
      ]
    },
    {
      "cell_type": "markdown",
      "metadata": {
        "id": "cjjCHYj2RMKM",
        "colab_type": "text"
      },
      "source": [
        "### Starting with **Building_Data_df**:\n",
        "we will remove 2 columns 'year_built' and 'floor_count'"
      ]
    },
    {
      "cell_type": "code",
      "metadata": {
        "id": "_0NAyRRA0rNu",
        "colab_type": "code",
        "colab": {}
      },
      "source": [
        "del BuildingData_df['floor_count']\n",
        "del BuildingData_df['year_built']"
      ],
      "execution_count": 0,
      "outputs": []
    },
    {
      "cell_type": "code",
      "metadata": {
        "id": "9mWY3R_mUEbV",
        "colab_type": "code",
        "outputId": "edc5658a-e35d-463b-fe13-fad29d22918f",
        "colab": {
          "base_uri": "https://localhost:8080/",
          "height": 195
        }
      },
      "source": [
        "BuildingData_df.head()"
      ],
      "execution_count": 0,
      "outputs": [
        {
          "output_type": "execute_result",
          "data": {
            "text/html": [
              "<div>\n",
              "<style scoped>\n",
              "    .dataframe tbody tr th:only-of-type {\n",
              "        vertical-align: middle;\n",
              "    }\n",
              "\n",
              "    .dataframe tbody tr th {\n",
              "        vertical-align: top;\n",
              "    }\n",
              "\n",
              "    .dataframe thead th {\n",
              "        text-align: right;\n",
              "    }\n",
              "</style>\n",
              "<table border=\"1\" class=\"dataframe\">\n",
              "  <thead>\n",
              "    <tr style=\"text-align: right;\">\n",
              "      <th></th>\n",
              "      <th>site_id</th>\n",
              "      <th>building_id</th>\n",
              "      <th>primary_use</th>\n",
              "      <th>square_feet</th>\n",
              "    </tr>\n",
              "  </thead>\n",
              "  <tbody>\n",
              "    <tr>\n",
              "      <th>0</th>\n",
              "      <td>0</td>\n",
              "      <td>0</td>\n",
              "      <td>Education</td>\n",
              "      <td>7432</td>\n",
              "    </tr>\n",
              "    <tr>\n",
              "      <th>1</th>\n",
              "      <td>0</td>\n",
              "      <td>1</td>\n",
              "      <td>Education</td>\n",
              "      <td>2720</td>\n",
              "    </tr>\n",
              "    <tr>\n",
              "      <th>2</th>\n",
              "      <td>0</td>\n",
              "      <td>2</td>\n",
              "      <td>Education</td>\n",
              "      <td>5376</td>\n",
              "    </tr>\n",
              "    <tr>\n",
              "      <th>3</th>\n",
              "      <td>0</td>\n",
              "      <td>3</td>\n",
              "      <td>Education</td>\n",
              "      <td>23685</td>\n",
              "    </tr>\n",
              "    <tr>\n",
              "      <th>4</th>\n",
              "      <td>0</td>\n",
              "      <td>4</td>\n",
              "      <td>Education</td>\n",
              "      <td>116607</td>\n",
              "    </tr>\n",
              "  </tbody>\n",
              "</table>\n",
              "</div>"
            ],
            "text/plain": [
              "   site_id  building_id primary_use  square_feet\n",
              "0        0            0   Education         7432\n",
              "1        0            1   Education         2720\n",
              "2        0            2   Education         5376\n",
              "3        0            3   Education        23685\n",
              "4        0            4   Education       116607"
            ]
          },
          "metadata": {
            "tags": []
          },
          "execution_count": 35
        }
      ]
    },
    {
      "cell_type": "markdown",
      "metadata": {
        "id": "fBLKPpCP_kc3",
        "colab_type": "text"
      },
      "source": [
        "### Dealing with **Weather_train_df**"
      ]
    },
    {
      "cell_type": "markdown",
      "metadata": {
        "id": "zvvyV3D2USM8",
        "colab_type": "text"
      },
      "source": [
        "#### Removing the following columns\n",
        "because they contains too much missing values:\n",
        "*   cloud_coverage     ===>   69173\n",
        "*   precip_depth_1_hr  ===>   50289\n",
        "*   sea_level_pressure ===>   10618\n",
        "*   wind_direction     ===>    6268      "
      ]
    },
    {
      "cell_type": "code",
      "metadata": {
        "id": "G9WVVpTFUHMt",
        "colab_type": "code",
        "colab": {}
      },
      "source": [
        "del Weather_train_df['cloud_coverage']\n",
        "del Weather_train_df['precip_depth_1_hr']\n",
        "del Weather_train_df['sea_level_pressure']\n",
        "del Weather_train_df['wind_direction']"
      ],
      "execution_count": 0,
      "outputs": []
    },
    {
      "cell_type": "code",
      "metadata": {
        "id": "0h-Y1oreV-HZ",
        "colab_type": "code",
        "outputId": "a73ed6e6-5cd4-4beb-dc67-d31786bcdda3",
        "colab": {
          "base_uri": "https://localhost:8080/",
          "height": 195
        }
      },
      "source": [
        "Weather_train_df.head()"
      ],
      "execution_count": 0,
      "outputs": [
        {
          "output_type": "execute_result",
          "data": {
            "text/html": [
              "<div>\n",
              "<style scoped>\n",
              "    .dataframe tbody tr th:only-of-type {\n",
              "        vertical-align: middle;\n",
              "    }\n",
              "\n",
              "    .dataframe tbody tr th {\n",
              "        vertical-align: top;\n",
              "    }\n",
              "\n",
              "    .dataframe thead th {\n",
              "        text-align: right;\n",
              "    }\n",
              "</style>\n",
              "<table border=\"1\" class=\"dataframe\">\n",
              "  <thead>\n",
              "    <tr style=\"text-align: right;\">\n",
              "      <th></th>\n",
              "      <th>site_id</th>\n",
              "      <th>timestamp</th>\n",
              "      <th>air_temperature</th>\n",
              "      <th>dew_temperature</th>\n",
              "      <th>wind_speed</th>\n",
              "    </tr>\n",
              "  </thead>\n",
              "  <tbody>\n",
              "    <tr>\n",
              "      <th>0</th>\n",
              "      <td>0</td>\n",
              "      <td>2016-01-01 00:00:00</td>\n",
              "      <td>25.0</td>\n",
              "      <td>20.0</td>\n",
              "      <td>0.0</td>\n",
              "    </tr>\n",
              "    <tr>\n",
              "      <th>1</th>\n",
              "      <td>0</td>\n",
              "      <td>2016-01-01 01:00:00</td>\n",
              "      <td>24.4</td>\n",
              "      <td>21.1</td>\n",
              "      <td>1.5</td>\n",
              "    </tr>\n",
              "    <tr>\n",
              "      <th>2</th>\n",
              "      <td>0</td>\n",
              "      <td>2016-01-01 02:00:00</td>\n",
              "      <td>22.8</td>\n",
              "      <td>21.1</td>\n",
              "      <td>0.0</td>\n",
              "    </tr>\n",
              "    <tr>\n",
              "      <th>3</th>\n",
              "      <td>0</td>\n",
              "      <td>2016-01-01 03:00:00</td>\n",
              "      <td>21.1</td>\n",
              "      <td>20.6</td>\n",
              "      <td>0.0</td>\n",
              "    </tr>\n",
              "    <tr>\n",
              "      <th>4</th>\n",
              "      <td>0</td>\n",
              "      <td>2016-01-01 04:00:00</td>\n",
              "      <td>20.0</td>\n",
              "      <td>20.0</td>\n",
              "      <td>2.6</td>\n",
              "    </tr>\n",
              "  </tbody>\n",
              "</table>\n",
              "</div>"
            ],
            "text/plain": [
              "   site_id            timestamp  air_temperature  dew_temperature  wind_speed\n",
              "0        0  2016-01-01 00:00:00             25.0             20.0         0.0\n",
              "1        0  2016-01-01 01:00:00             24.4             21.1         1.5\n",
              "2        0  2016-01-01 02:00:00             22.8             21.1         0.0\n",
              "3        0  2016-01-01 03:00:00             21.1             20.6         0.0\n",
              "4        0  2016-01-01 04:00:00             20.0             20.0         2.6"
            ]
          },
          "metadata": {
            "tags": []
          },
          "execution_count": 37
        }
      ]
    },
    {
      "cell_type": "code",
      "metadata": {
        "id": "lfqun45NWADZ",
        "colab_type": "code",
        "outputId": "268e4677-805a-44f1-9ee0-c361bb41f5c7",
        "colab": {
          "base_uri": "https://localhost:8080/",
          "height": 118
        }
      },
      "source": [
        "Weather_train_df.isnull().sum()"
      ],
      "execution_count": 0,
      "outputs": [
        {
          "output_type": "execute_result",
          "data": {
            "text/plain": [
              "site_id              0\n",
              "timestamp            0\n",
              "air_temperature     55\n",
              "dew_temperature    113\n",
              "wind_speed         304\n",
              "dtype: int64"
            ]
          },
          "metadata": {
            "tags": []
          },
          "execution_count": 38
        }
      ]
    },
    {
      "cell_type": "code",
      "metadata": {
        "id": "jiCl56nMaH8Y",
        "colab_type": "code",
        "outputId": "b9ee0bb3-5e0c-4e6d-92d8-5c14af5ed152",
        "colab": {
          "base_uri": "https://localhost:8080/",
          "height": 284
        }
      },
      "source": [
        "Weather_train_df.describe()"
      ],
      "execution_count": 0,
      "outputs": [
        {
          "output_type": "execute_result",
          "data": {
            "text/html": [
              "<div>\n",
              "<style scoped>\n",
              "    .dataframe tbody tr th:only-of-type {\n",
              "        vertical-align: middle;\n",
              "    }\n",
              "\n",
              "    .dataframe tbody tr th {\n",
              "        vertical-align: top;\n",
              "    }\n",
              "\n",
              "    .dataframe thead th {\n",
              "        text-align: right;\n",
              "    }\n",
              "</style>\n",
              "<table border=\"1\" class=\"dataframe\">\n",
              "  <thead>\n",
              "    <tr style=\"text-align: right;\">\n",
              "      <th></th>\n",
              "      <th>site_id</th>\n",
              "      <th>air_temperature</th>\n",
              "      <th>dew_temperature</th>\n",
              "      <th>wind_speed</th>\n",
              "    </tr>\n",
              "  </thead>\n",
              "  <tbody>\n",
              "    <tr>\n",
              "      <th>count</th>\n",
              "      <td>139773.000000</td>\n",
              "      <td>139718.000000</td>\n",
              "      <td>139660.000000</td>\n",
              "      <td>139469.000000</td>\n",
              "    </tr>\n",
              "    <tr>\n",
              "      <th>mean</th>\n",
              "      <td>7.478977</td>\n",
              "      <td>14.418106</td>\n",
              "      <td>7.350158</td>\n",
              "      <td>3.560527</td>\n",
              "    </tr>\n",
              "    <tr>\n",
              "      <th>std</th>\n",
              "      <td>4.604744</td>\n",
              "      <td>10.626595</td>\n",
              "      <td>9.790235</td>\n",
              "      <td>2.335874</td>\n",
              "    </tr>\n",
              "    <tr>\n",
              "      <th>min</th>\n",
              "      <td>0.000000</td>\n",
              "      <td>-28.900000</td>\n",
              "      <td>-35.000000</td>\n",
              "      <td>0.000000</td>\n",
              "    </tr>\n",
              "    <tr>\n",
              "      <th>25%</th>\n",
              "      <td>3.000000</td>\n",
              "      <td>7.200000</td>\n",
              "      <td>0.600000</td>\n",
              "      <td>2.100000</td>\n",
              "    </tr>\n",
              "    <tr>\n",
              "      <th>50%</th>\n",
              "      <td>7.000000</td>\n",
              "      <td>15.000000</td>\n",
              "      <td>8.300000</td>\n",
              "      <td>3.100000</td>\n",
              "    </tr>\n",
              "    <tr>\n",
              "      <th>75%</th>\n",
              "      <td>11.000000</td>\n",
              "      <td>22.200000</td>\n",
              "      <td>14.400000</td>\n",
              "      <td>5.000000</td>\n",
              "    </tr>\n",
              "    <tr>\n",
              "      <th>max</th>\n",
              "      <td>15.000000</td>\n",
              "      <td>47.200000</td>\n",
              "      <td>26.100000</td>\n",
              "      <td>19.000000</td>\n",
              "    </tr>\n",
              "  </tbody>\n",
              "</table>\n",
              "</div>"
            ],
            "text/plain": [
              "             site_id  air_temperature  dew_temperature     wind_speed\n",
              "count  139773.000000    139718.000000    139660.000000  139469.000000\n",
              "mean        7.478977        14.418106         7.350158       3.560527\n",
              "std         4.604744        10.626595         9.790235       2.335874\n",
              "min         0.000000       -28.900000       -35.000000       0.000000\n",
              "25%         3.000000         7.200000         0.600000       2.100000\n",
              "50%         7.000000        15.000000         8.300000       3.100000\n",
              "75%        11.000000        22.200000        14.400000       5.000000\n",
              "max        15.000000        47.200000        26.100000      19.000000"
            ]
          },
          "metadata": {
            "tags": []
          },
          "execution_count": 39
        }
      ]
    },
    {
      "cell_type": "markdown",
      "metadata": {
        "id": "9hHv1zroeX50",
        "colab_type": "text"
      },
      "source": [
        "#### Replacing missing values \n",
        "in 'air_temperature',  'dew_temperature',  'wind_speed' with mean value of each columns"
      ]
    },
    {
      "cell_type": "code",
      "metadata": {
        "id": "D0N4KoloaVqr",
        "colab_type": "code",
        "colab": {}
      },
      "source": [
        "M_air=np.mean(Weather_train_df['air_temperature'])\n",
        "M_dew=np.mean(Weather_train_df['dew_temperature'])\n",
        "M_wind=np.mean(Weather_train_df['wind_speed'])"
      ],
      "execution_count": 0,
      "outputs": []
    },
    {
      "cell_type": "code",
      "metadata": {
        "id": "asrZRdu4bSR9",
        "colab_type": "code",
        "colab": {}
      },
      "source": [
        "Weather_train_df['air_temperature']=Weather_train_df['air_temperature'].fillna(M_air)\n",
        "Weather_train_df['dew_temperature']=Weather_train_df['dew_temperature'].fillna(M_dew)\n",
        "Weather_train_df['wind_speed']=Weather_train_df['wind_speed'].fillna(M_wind)"
      ],
      "execution_count": 0,
      "outputs": []
    },
    {
      "cell_type": "code",
      "metadata": {
        "id": "tskBO9ACeNeN",
        "colab_type": "code",
        "outputId": "60f83692-fe7c-4bcc-b4c8-f49c6e598994",
        "colab": {
          "base_uri": "https://localhost:8080/",
          "height": 118
        }
      },
      "source": [
        "Weather_train_df.isnull().sum()"
      ],
      "execution_count": 0,
      "outputs": [
        {
          "output_type": "execute_result",
          "data": {
            "text/plain": [
              "site_id            0\n",
              "timestamp          0\n",
              "air_temperature    0\n",
              "dew_temperature    0\n",
              "wind_speed         0\n",
              "dtype: int64"
            ]
          },
          "metadata": {
            "tags": []
          },
          "execution_count": 42
        }
      ]
    },
    {
      "cell_type": "markdown",
      "metadata": {
        "id": "JBJYPkGjl4qX",
        "colab_type": "text"
      },
      "source": [
        "## **Handeling some data type**"
      ]
    },
    {
      "cell_type": "code",
      "metadata": {
        "id": "Pk6q8amYeRXU",
        "colab_type": "code",
        "outputId": "825876a7-0823-472d-de24-4886ee572184",
        "colab": {
          "base_uri": "https://localhost:8080/",
          "height": 218
        }
      },
      "source": [
        "pd.to_datetime(Train_df['timestamp'])"
      ],
      "execution_count": 0,
      "outputs": [
        {
          "output_type": "execute_result",
          "data": {
            "text/plain": [
              "0          2016-01-01 00:00:00\n",
              "1          2016-01-01 00:00:00\n",
              "2          2016-01-01 00:00:00\n",
              "3          2016-01-01 00:00:00\n",
              "4          2016-01-01 00:00:00\n",
              "                   ...        \n",
              "20216095   2016-12-31 23:00:00\n",
              "20216096   2016-12-31 23:00:00\n",
              "20216097   2016-12-31 23:00:00\n",
              "20216098   2016-12-31 23:00:00\n",
              "20216099   2016-12-31 23:00:00\n",
              "Name: timestamp, Length: 20216100, dtype: datetime64[ns]"
            ]
          },
          "metadata": {
            "tags": []
          },
          "execution_count": 43
        }
      ]
    },
    {
      "cell_type": "code",
      "metadata": {
        "id": "7SA4y578h5_k",
        "colab_type": "code",
        "outputId": "cdf9bf3c-71a3-47eb-92ca-0d0816483b2b",
        "colab": {
          "base_uri": "https://localhost:8080/",
          "height": 218
        }
      },
      "source": [
        "pd.to_datetime(Weather_train_df['timestamp'])"
      ],
      "execution_count": 0,
      "outputs": [
        {
          "output_type": "execute_result",
          "data": {
            "text/plain": [
              "0        2016-01-01 00:00:00\n",
              "1        2016-01-01 01:00:00\n",
              "2        2016-01-01 02:00:00\n",
              "3        2016-01-01 03:00:00\n",
              "4        2016-01-01 04:00:00\n",
              "                 ...        \n",
              "139768   2016-12-31 19:00:00\n",
              "139769   2016-12-31 20:00:00\n",
              "139770   2016-12-31 21:00:00\n",
              "139771   2016-12-31 22:00:00\n",
              "139772   2016-12-31 23:00:00\n",
              "Name: timestamp, Length: 139773, dtype: datetime64[ns]"
            ]
          },
          "metadata": {
            "tags": []
          },
          "execution_count": 44
        }
      ]
    },
    {
      "cell_type": "code",
      "metadata": {
        "id": "eXf_xhwciIqK",
        "colab_type": "code",
        "outputId": "b34399b7-eacd-43ef-eb69-add38ed71849",
        "colab": {
          "base_uri": "https://localhost:8080/",
          "height": 34
        }
      },
      "source": [
        "type(BuildingData_df['primary_use'][0])"
      ],
      "execution_count": 0,
      "outputs": [
        {
          "output_type": "execute_result",
          "data": {
            "text/plain": [
              "str"
            ]
          },
          "metadata": {
            "tags": []
          },
          "execution_count": 45
        }
      ]
    },
    {
      "cell_type": "code",
      "metadata": {
        "id": "v6S26Fuhly5r",
        "colab_type": "code",
        "colab": {}
      },
      "source": [
        "Train_df['timestamp'] = pd.to_datetime(Train_df['timestamp'])\n",
        "Weather_train_df['timestamp'] = pd.to_datetime(Weather_train_df['timestamp'])\n",
        "#BuildingData_df['primary_use'] = BuildingData_df['primary_use'].astype('category')"
      ],
      "execution_count": 0,
      "outputs": []
    },
    {
      "cell_type": "code",
      "metadata": {
        "id": "yzjLgD3amofb",
        "colab_type": "code",
        "outputId": "e0abbfe1-7017-40bc-a634-1b39c7860a6f",
        "colab": {
          "base_uri": "https://localhost:8080/",
          "height": 218
        }
      },
      "source": [
        "BuildingData_df['primary_use'] "
      ],
      "execution_count": 0,
      "outputs": [
        {
          "output_type": "execute_result",
          "data": {
            "text/plain": [
              "0                           Education\n",
              "1                           Education\n",
              "2                           Education\n",
              "3                           Education\n",
              "4                           Education\n",
              "                    ...              \n",
              "1444    Entertainment/public assembly\n",
              "1445                        Education\n",
              "1446    Entertainment/public assembly\n",
              "1447              Lodging/residential\n",
              "1448                           Office\n",
              "Name: primary_use, Length: 1449, dtype: object"
            ]
          },
          "metadata": {
            "tags": []
          },
          "execution_count": 47
        }
      ]
    },
    {
      "cell_type": "markdown",
      "metadata": {
        "id": "osr88iV-0TiI",
        "colab_type": "text"
      },
      "source": [
        "## **Ploting some data distribution**"
      ]
    },
    {
      "cell_type": "code",
      "metadata": {
        "id": "FrTT2SsQm70X",
        "colab_type": "code",
        "outputId": "46672f73-cf6c-48ca-ab5e-b0cd04ea6553",
        "colab": {
          "base_uri": "https://localhost:8080/",
          "height": 282
        }
      },
      "source": [
        "BuildingData_df['square_feet'].plot.hist()"
      ],
      "execution_count": 0,
      "outputs": [
        {
          "output_type": "execute_result",
          "data": {
            "text/plain": [
              "<matplotlib.axes._subplots.AxesSubplot at 0x7f5db101ea58>"
            ]
          },
          "metadata": {
            "tags": []
          },
          "execution_count": 48
        },
        {
          "output_type": "display_data",
          "data": {
            "image/png": "[encoded data removed]",
            "text/plain": [
              "<Figure size 432x288 with 1 Axes>"
            ]
          },
          "metadata": {
            "tags": []
          }
        }
      ]
    },
    {
      "cell_type": "code",
      "metadata": {
        "id": "OfAFybecuDMb",
        "colab_type": "code",
        "outputId": "2badee8d-4ea8-45af-aeb3-1cafa0f38a84",
        "colab": {
          "base_uri": "https://localhost:8080/",
          "height": 337
        }
      },
      "source": [
        "BuildingData_df['square_feet'].plot('box')\n"
      ],
      "execution_count": 0,
      "outputs": [
        {
          "output_type": "stream",
          "text": [
            "/usr/local/lib/python3.6/dist-packages/ipykernel_launcher.py:1: FutureWarning: `Series.plot()` should not be called with positional arguments, only keyword arguments. The order of positional arguments will change in the future. Use `Series.plot(kind='box')` instead of `Series.plot('box',)`.\n",
            "  \"\"\"Entry point for launching an IPython kernel.\n"
          ],
          "name": "stderr"
        },
        {
          "output_type": "execute_result",
          "data": {
            "text/plain": [
              "<matplotlib.axes._subplots.AxesSubplot at 0x7f5db0ffccc0>"
            ]
          },
          "metadata": {
            "tags": []
          },
          "execution_count": 49
        },
        {
          "output_type": "display_data",
          "data": {
            "image/png": "[encoded data removed]",
            "text/plain": [
              "<Figure size 432x288 with 1 Axes>"
            ]
          },
          "metadata": {
            "tags": []
          }
        }
      ]
    },
    {
      "cell_type": "markdown",
      "metadata": {
        "id": "twvuSHxP0ZWk",
        "colab_type": "text"
      },
      "source": [
        "## **Merge the 3 data frame together into Train_df**"
      ]
    },
    {
      "cell_type": "code",
      "metadata": {
        "id": "8mW0Kn9DvbOi",
        "colab_type": "code",
        "colab": {}
      },
      "source": [
        "temp_df = Train_df[['building_id']]\n",
        "temp_df = temp_df.merge(BuildingData_df, on=['building_id'], how='left')\n",
        "del temp_df['building_id']\n",
        "Train_df = pd.concat([Train_df, temp_df], axis=1)"
      ],
      "execution_count": 0,
      "outputs": []
    },
    {
      "cell_type": "code",
      "metadata": {
        "id": "DU-ObPZE2BVo",
        "colab_type": "code",
        "outputId": "240a2d89-5b0d-46d6-8316-d0888480b895",
        "colab": {
          "base_uri": "https://localhost:8080/",
          "height": 402
        }
      },
      "source": [
        "Train_df"
      ],
      "execution_count": 0,
      "outputs": [
        {
          "output_type": "execute_result",
          "data": {
            "text/html": [
              "<div>\n",
              "<style scoped>\n",
              "    .dataframe tbody tr th:only-of-type {\n",
              "        vertical-align: middle;\n",
              "    }\n",
              "\n",
              "    .dataframe tbody tr th {\n",
              "        vertical-align: top;\n",
              "    }\n",
              "\n",
              "    .dataframe thead th {\n",
              "        text-align: right;\n",
              "    }\n",
              "</style>\n",
              "<table border=\"1\" class=\"dataframe\">\n",
              "  <thead>\n",
              "    <tr style=\"text-align: right;\">\n",
              "      <th></th>\n",
              "      <th>building_id</th>\n",
              "      <th>meter</th>\n",
              "      <th>timestamp</th>\n",
              "      <th>meter_reading</th>\n",
              "      <th>site_id</th>\n",
              "      <th>primary_use</th>\n",
              "      <th>square_feet</th>\n",
              "    </tr>\n",
              "  </thead>\n",
              "  <tbody>\n",
              "    <tr>\n",
              "      <th>0</th>\n",
              "      <td>0</td>\n",
              "      <td>0</td>\n",
              "      <td>2016-01-01 00:00:00</td>\n",
              "      <td>0.000</td>\n",
              "      <td>0</td>\n",
              "      <td>Education</td>\n",
              "      <td>7432</td>\n",
              "    </tr>\n",
              "    <tr>\n",
              "      <th>1</th>\n",
              "      <td>1</td>\n",
              "      <td>0</td>\n",
              "      <td>2016-01-01 00:00:00</td>\n",
              "      <td>0.000</td>\n",
              "      <td>0</td>\n",
              "      <td>Education</td>\n",
              "      <td>2720</td>\n",
              "    </tr>\n",
              "    <tr>\n",
              "      <th>2</th>\n",
              "      <td>2</td>\n",
              "      <td>0</td>\n",
              "      <td>2016-01-01 00:00:00</td>\n",
              "      <td>0.000</td>\n",
              "      <td>0</td>\n",
              "      <td>Education</td>\n",
              "      <td>5376</td>\n",
              "    </tr>\n",
              "    <tr>\n",
              "      <th>3</th>\n",
              "      <td>3</td>\n",
              "      <td>0</td>\n",
              "      <td>2016-01-01 00:00:00</td>\n",
              "      <td>0.000</td>\n",
              "      <td>0</td>\n",
              "      <td>Education</td>\n",
              "      <td>23685</td>\n",
              "    </tr>\n",
              "    <tr>\n",
              "      <th>4</th>\n",
              "      <td>4</td>\n",
              "      <td>0</td>\n",
              "      <td>2016-01-01 00:00:00</td>\n",
              "      <td>0.000</td>\n",
              "      <td>0</td>\n",
              "      <td>Education</td>\n",
              "      <td>116607</td>\n",
              "    </tr>\n",
              "    <tr>\n",
              "      <th>...</th>\n",
              "      <td>...</td>\n",
              "      <td>...</td>\n",
              "      <td>...</td>\n",
              "      <td>...</td>\n",
              "      <td>...</td>\n",
              "      <td>...</td>\n",
              "      <td>...</td>\n",
              "    </tr>\n",
              "    <tr>\n",
              "      <th>20216095</th>\n",
              "      <td>1444</td>\n",
              "      <td>0</td>\n",
              "      <td>2016-12-31 23:00:00</td>\n",
              "      <td>8.750</td>\n",
              "      <td>15</td>\n",
              "      <td>Entertainment/public assembly</td>\n",
              "      <td>19619</td>\n",
              "    </tr>\n",
              "    <tr>\n",
              "      <th>20216096</th>\n",
              "      <td>1445</td>\n",
              "      <td>0</td>\n",
              "      <td>2016-12-31 23:00:00</td>\n",
              "      <td>4.825</td>\n",
              "      <td>15</td>\n",
              "      <td>Education</td>\n",
              "      <td>4298</td>\n",
              "    </tr>\n",
              "    <tr>\n",
              "      <th>20216097</th>\n",
              "      <td>1446</td>\n",
              "      <td>0</td>\n",
              "      <td>2016-12-31 23:00:00</td>\n",
              "      <td>0.000</td>\n",
              "      <td>15</td>\n",
              "      <td>Entertainment/public assembly</td>\n",
              "      <td>11265</td>\n",
              "    </tr>\n",
              "    <tr>\n",
              "      <th>20216098</th>\n",
              "      <td>1447</td>\n",
              "      <td>0</td>\n",
              "      <td>2016-12-31 23:00:00</td>\n",
              "      <td>159.575</td>\n",
              "      <td>15</td>\n",
              "      <td>Lodging/residential</td>\n",
              "      <td>29775</td>\n",
              "    </tr>\n",
              "    <tr>\n",
              "      <th>20216099</th>\n",
              "      <td>1448</td>\n",
              "      <td>0</td>\n",
              "      <td>2016-12-31 23:00:00</td>\n",
              "      <td>2.850</td>\n",
              "      <td>15</td>\n",
              "      <td>Office</td>\n",
              "      <td>92271</td>\n",
              "    </tr>\n",
              "  </tbody>\n",
              "</table>\n",
              "<p>20216100 rows × 7 columns</p>\n",
              "</div>"
            ],
            "text/plain": [
              "          building_id  meter  ...                    primary_use  square_feet\n",
              "0                   0      0  ...                      Education         7432\n",
              "1                   1      0  ...                      Education         2720\n",
              "2                   2      0  ...                      Education         5376\n",
              "3                   3      0  ...                      Education        23685\n",
              "4                   4      0  ...                      Education       116607\n",
              "...               ...    ...  ...                            ...          ...\n",
              "20216095         1444      0  ...  Entertainment/public assembly        19619\n",
              "20216096         1445      0  ...                      Education         4298\n",
              "20216097         1446      0  ...  Entertainment/public assembly        11265\n",
              "20216098         1447      0  ...            Lodging/residential        29775\n",
              "20216099         1448      0  ...                         Office        92271\n",
              "\n",
              "[20216100 rows x 7 columns]"
            ]
          },
          "metadata": {
            "tags": []
          },
          "execution_count": 51
        }
      ]
    },
    {
      "cell_type": "code",
      "metadata": {
        "id": "PaIEEv2e1ZHI",
        "colab_type": "code",
        "colab": {}
      },
      "source": [
        "del temp_df"
      ],
      "execution_count": 0,
      "outputs": []
    },
    {
      "cell_type": "code",
      "metadata": {
        "id": "ES6JNqjj24KY",
        "colab_type": "code",
        "colab": {}
      },
      "source": [
        "temp_df = Train_df[['site_id','timestamp']]\n",
        "temp_df = temp_df.merge(Weather_train_df, on=['site_id','timestamp'], how='left')\n",
        "del temp_df['site_id'], temp_df['timestamp']\n",
        "Train_df = pd.concat([Train_df, temp_df], axis=1)"
      ],
      "execution_count": 0,
      "outputs": []
    },
    {
      "cell_type": "code",
      "metadata": {
        "id": "udocEmPn3bxO",
        "colab_type": "code",
        "colab": {}
      },
      "source": [
        "del temp_df"
      ],
      "execution_count": 0,
      "outputs": []
    },
    {
      "cell_type": "code",
      "metadata": {
        "id": "vTrXvPGn3NSt",
        "colab_type": "code",
        "outputId": "49540807-d3f0-4f89-e751-36532c1bdf15",
        "colab": {
          "base_uri": "https://localhost:8080/",
          "height": 758
        }
      },
      "source": [
        "Train_df"
      ],
      "execution_count": 0,
      "outputs": [
        {
          "output_type": "execute_result",
          "data": {
            "text/html": [
              "<div>\n",
              "<style scoped>\n",
              "    .dataframe tbody tr th:only-of-type {\n",
              "        vertical-align: middle;\n",
              "    }\n",
              "\n",
              "    .dataframe tbody tr th {\n",
              "        vertical-align: top;\n",
              "    }\n",
              "\n",
              "    .dataframe thead th {\n",
              "        text-align: right;\n",
              "    }\n",
              "</style>\n",
              "<table border=\"1\" class=\"dataframe\">\n",
              "  <thead>\n",
              "    <tr style=\"text-align: right;\">\n",
              "      <th></th>\n",
              "      <th>building_id</th>\n",
              "      <th>meter</th>\n",
              "      <th>timestamp</th>\n",
              "      <th>meter_reading</th>\n",
              "      <th>site_id</th>\n",
              "      <th>primary_use</th>\n",
              "      <th>square_feet</th>\n",
              "      <th>air_temperature</th>\n",
              "      <th>dew_temperature</th>\n",
              "      <th>wind_speed</th>\n",
              "    </tr>\n",
              "  </thead>\n",
              "  <tbody>\n",
              "    <tr>\n",
              "      <th>0</th>\n",
              "      <td>0</td>\n",
              "      <td>0</td>\n",
              "      <td>2016-01-01 00:00:00</td>\n",
              "      <td>0.000</td>\n",
              "      <td>0</td>\n",
              "      <td>Education</td>\n",
              "      <td>7432</td>\n",
              "      <td>25.0</td>\n",
              "      <td>20.0</td>\n",
              "      <td>0.0</td>\n",
              "    </tr>\n",
              "    <tr>\n",
              "      <th>1</th>\n",
              "      <td>1</td>\n",
              "      <td>0</td>\n",
              "      <td>2016-01-01 00:00:00</td>\n",
              "      <td>0.000</td>\n",
              "      <td>0</td>\n",
              "      <td>Education</td>\n",
              "      <td>2720</td>\n",
              "      <td>25.0</td>\n",
              "      <td>20.0</td>\n",
              "      <td>0.0</td>\n",
              "    </tr>\n",
              "    <tr>\n",
              "      <th>2</th>\n",
              "      <td>2</td>\n",
              "      <td>0</td>\n",
              "      <td>2016-01-01 00:00:00</td>\n",
              "      <td>0.000</td>\n",
              "      <td>0</td>\n",
              "      <td>Education</td>\n",
              "      <td>5376</td>\n",
              "      <td>25.0</td>\n",
              "      <td>20.0</td>\n",
              "      <td>0.0</td>\n",
              "    </tr>\n",
              "    <tr>\n",
              "      <th>3</th>\n",
              "      <td>3</td>\n",
              "      <td>0</td>\n",
              "      <td>2016-01-01 00:00:00</td>\n",
              "      <td>0.000</td>\n",
              "      <td>0</td>\n",
              "      <td>Education</td>\n",
              "      <td>23685</td>\n",
              "      <td>25.0</td>\n",
              "      <td>20.0</td>\n",
              "      <td>0.0</td>\n",
              "    </tr>\n",
              "    <tr>\n",
              "      <th>4</th>\n",
              "      <td>4</td>\n",
              "      <td>0</td>\n",
              "      <td>2016-01-01 00:00:00</td>\n",
              "      <td>0.000</td>\n",
              "      <td>0</td>\n",
              "      <td>Education</td>\n",
              "      <td>116607</td>\n",
              "      <td>25.0</td>\n",
              "      <td>20.0</td>\n",
              "      <td>0.0</td>\n",
              "    </tr>\n",
              "    <tr>\n",
              "      <th>...</th>\n",
              "      <td>...</td>\n",
              "      <td>...</td>\n",
              "      <td>...</td>\n",
              "      <td>...</td>\n",
              "      <td>...</td>\n",
              "      <td>...</td>\n",
              "      <td>...</td>\n",
              "      <td>...</td>\n",
              "      <td>...</td>\n",
              "      <td>...</td>\n",
              "    </tr>\n",
              "    <tr>\n",
              "      <th>20216095</th>\n",
              "      <td>1444</td>\n",
              "      <td>0</td>\n",
              "      <td>2016-12-31 23:00:00</td>\n",
              "      <td>8.750</td>\n",
              "      <td>15</td>\n",
              "      <td>Entertainment/public assembly</td>\n",
              "      <td>19619</td>\n",
              "      <td>1.7</td>\n",
              "      <td>-5.6</td>\n",
              "      <td>8.8</td>\n",
              "    </tr>\n",
              "    <tr>\n",
              "      <th>20216096</th>\n",
              "      <td>1445</td>\n",
              "      <td>0</td>\n",
              "      <td>2016-12-31 23:00:00</td>\n",
              "      <td>4.825</td>\n",
              "      <td>15</td>\n",
              "      <td>Education</td>\n",
              "      <td>4298</td>\n",
              "      <td>1.7</td>\n",
              "      <td>-5.6</td>\n",
              "      <td>8.8</td>\n",
              "    </tr>\n",
              "    <tr>\n",
              "      <th>20216097</th>\n",
              "      <td>1446</td>\n",
              "      <td>0</td>\n",
              "      <td>2016-12-31 23:00:00</td>\n",
              "      <td>0.000</td>\n",
              "      <td>15</td>\n",
              "      <td>Entertainment/public assembly</td>\n",
              "      <td>11265</td>\n",
              "      <td>1.7</td>\n",
              "      <td>-5.6</td>\n",
              "      <td>8.8</td>\n",
              "    </tr>\n",
              "    <tr>\n",
              "      <th>20216098</th>\n",
              "      <td>1447</td>\n",
              "      <td>0</td>\n",
              "      <td>2016-12-31 23:00:00</td>\n",
              "      <td>159.575</td>\n",
              "      <td>15</td>\n",
              "      <td>Lodging/residential</td>\n",
              "      <td>29775</td>\n",
              "      <td>1.7</td>\n",
              "      <td>-5.6</td>\n",
              "      <td>8.8</td>\n",
              "    </tr>\n",
              "    <tr>\n",
              "      <th>20216099</th>\n",
              "      <td>1448</td>\n",
              "      <td>0</td>\n",
              "      <td>2016-12-31 23:00:00</td>\n",
              "      <td>2.850</td>\n",
              "      <td>15</td>\n",
              "      <td>Office</td>\n",
              "      <td>92271</td>\n",
              "      <td>1.7</td>\n",
              "      <td>-5.6</td>\n",
              "      <td>8.8</td>\n",
              "    </tr>\n",
              "  </tbody>\n",
              "</table>\n",
              "<p>20216100 rows × 10 columns</p>\n",
              "</div>"
            ],
            "text/plain": [
              "          building_id  meter  ... dew_temperature  wind_speed\n",
              "0                   0      0  ...            20.0         0.0\n",
              "1                   1      0  ...            20.0         0.0\n",
              "2                   2      0  ...            20.0         0.0\n",
              "3                   3      0  ...            20.0         0.0\n",
              "4                   4      0  ...            20.0         0.0\n",
              "...               ...    ...  ...             ...         ...\n",
              "20216095         1444      0  ...            -5.6         8.8\n",
              "20216096         1445      0  ...            -5.6         8.8\n",
              "20216097         1446      0  ...            -5.6         8.8\n",
              "20216098         1447      0  ...            -5.6         8.8\n",
              "20216099         1448      0  ...            -5.6         8.8\n",
              "\n",
              "[20216100 rows x 10 columns]"
            ]
          },
          "metadata": {
            "tags": []
          },
          "execution_count": 55
        }
      ]
    },
    {
      "cell_type": "code",
      "metadata": {
        "id": "iha-eurZ3Sbi",
        "colab_type": "code",
        "outputId": "c6473b43-55f5-4a79-c7bb-e06f835d42fb",
        "colab": {
          "base_uri": "https://localhost:8080/",
          "height": 202
        }
      },
      "source": [
        "Train_df.isnull().sum()"
      ],
      "execution_count": 0,
      "outputs": [
        {
          "output_type": "execute_result",
          "data": {
            "text/plain": [
              "building_id            0\n",
              "meter                  0\n",
              "timestamp              0\n",
              "meter_reading          0\n",
              "site_id                0\n",
              "primary_use            0\n",
              "square_feet            0\n",
              "air_temperature    90495\n",
              "dew_temperature    90495\n",
              "wind_speed         90495\n",
              "dtype: int64"
            ]
          },
          "metadata": {
            "tags": []
          },
          "execution_count": 56
        }
      ]
    },
    {
      "cell_type": "markdown",
      "metadata": {
        "id": "7H3Wv4DI9ndD",
        "colab_type": "text"
      },
      "source": [
        "## **Apply Label Encoding method on primary_use variable**"
      ]
    },
    {
      "cell_type": "code",
      "metadata": {
        "id": "ZMC3UjIOCVio",
        "colab_type": "code",
        "outputId": "724476f6-582f-43b4-8153-138a30132362",
        "colab": {
          "base_uri": "https://localhost:8080/",
          "height": 428
        }
      },
      "source": [
        "Train_df.primary_use.value_counts().plot.bar()"
      ],
      "execution_count": 0,
      "outputs": [
        {
          "output_type": "execute_result",
          "data": {
            "text/plain": [
              "<matplotlib.axes._subplots.AxesSubplot at 0x7f5db0f0d550>"
            ]
          },
          "metadata": {
            "tags": []
          },
          "execution_count": 57
        },
        {
          "output_type": "display_data",
          "data": {
            "image/png": "[encoded data removed]",
            "text/plain": [
              "<Figure size 432x288 with 1 Axes>"
            ]
          },
          "metadata": {
            "tags": []
          }
        }
      ]
    },
    {
      "cell_type": "code",
      "metadata": {
        "id": "aEOFoQ4BGMoA",
        "colab_type": "code",
        "outputId": "e6ae46c2-29fb-4e2a-af9c-cc7f4e515f0d",
        "colab": {
          "base_uri": "https://localhost:8080/",
          "height": 121
        }
      },
      "source": [
        "idx = Train_df.primary_use.isin(['Parking','Manufacturing/industrial','Food sales and service','Retail','Warehouse/storage','Services','Technology/science','Utility','Religious worship'])\n",
        "Train_df.primary_use[idx] = 'Other'"
      ],
      "execution_count": 0,
      "outputs": [
        {
          "output_type": "stream",
          "text": [
            "/usr/local/lib/python3.6/dist-packages/ipykernel_launcher.py:2: SettingWithCopyWarning: \n",
            "A value is trying to be set on a copy of a slice from a DataFrame\n",
            "\n",
            "See the caveats in the documentation: http://pandas.pydata.org/pandas-docs/stable/user_guide/indexing.html#returning-a-view-versus-a-copy\n",
            "  \n"
          ],
          "name": "stderr"
        }
      ]
    },
    {
      "cell_type": "code",
      "metadata": {
        "id": "_9BnuHRGGg5l",
        "colab_type": "code",
        "outputId": "e9e54cb2-2c99-4f21-ad2f-18b0145b9961",
        "colab": {
          "base_uri": "https://localhost:8080/",
          "height": 428
        }
      },
      "source": [
        "Train_df.primary_use.value_counts().plot.bar()"
      ],
      "execution_count": 0,
      "outputs": [
        {
          "output_type": "execute_result",
          "data": {
            "text/plain": [
              "<matplotlib.axes._subplots.AxesSubplot at 0x7f5db100bef0>"
            ]
          },
          "metadata": {
            "tags": []
          },
          "execution_count": 59
        },
        {
          "output_type": "display_data",
          "data": {
            "image/png": "[encoded data removed]",
            "text/plain": [
              "<Figure size 432x288 with 1 Axes>"
            ]
          },
          "metadata": {
            "tags": []
          }
        }
      ]
    },
    {
      "cell_type": "code",
      "metadata": {
        "id": "wdw2dWalETMV",
        "colab_type": "code",
        "outputId": "15aa4ba6-13a3-4c01-fdf3-2089ea5f0931",
        "colab": {
          "base_uri": "https://localhost:8080/",
          "height": 279
        }
      },
      "source": [
        "label_encoder = LabelEncoder()\n",
        "Train_df['primary_use']=label_encoder.fit_transform(Train_df.primary_use).astype(np.int8)\n",
        "Train_df.primary_use.value_counts().plot.bar()\n",
        "#integer_encoded = label_encoder.fit_transform(Train_df.primary_use)\n",
        "#print(integer_encoded)"
      ],
      "execution_count": 0,
      "outputs": [
        {
          "output_type": "execute_result",
          "data": {
            "text/plain": [
              "<matplotlib.axes._subplots.AxesSubplot at 0x7f5db0e37710>"
            ]
          },
          "metadata": {
            "tags": []
          },
          "execution_count": 60
        },
        {
          "output_type": "display_data",
          "data": {
            "image/png": "[encoded data removed]",
            "text/plain": [
              "<Figure size 432x288 with 1 Axes>"
            ]
          },
          "metadata": {
            "tags": []
          }
        }
      ]
    },
    {
      "cell_type": "code",
      "metadata": {
        "id": "ZSTyn0nV98Ja",
        "colab_type": "code",
        "colab": {}
      },
      "source": [
        "#onehot_encoder = OneHotEncoder(sparse=False)\n",
        "#integer_encoded = integer_encoded.reshape(len(integer_encoded), 1)\n",
        "#onehot_encoded = onehot_encoder.fit_transform(integer_encoded)\n",
        "#onehot_encoded"
      ],
      "execution_count": 0,
      "outputs": []
    },
    {
      "cell_type": "markdown",
      "metadata": {
        "id": "oK46azlMlL9N",
        "colab_type": "text"
      },
      "source": [
        "## **Dealing with missing values after merge in all train data**"
      ]
    },
    {
      "cell_type": "code",
      "metadata": {
        "id": "IxztUahpmj2f",
        "colab_type": "code",
        "outputId": "20031fc7-d463-44ee-9598-59dee09d7bf6",
        "colab": {
          "base_uri": "https://localhost:8080/",
          "height": 67
        }
      },
      "source": [
        "print(Train_df.dew_temperature.median())\n",
        "print(Train_df.air_temperature.median())\n",
        "print(Train_df.wind_speed.median())"
      ],
      "execution_count": 0,
      "outputs": [
        {
          "output_type": "stream",
          "text": [
            "8.9\n",
            "16.7\n",
            "3.1\n"
          ],
          "name": "stdout"
        }
      ]
    },
    {
      "cell_type": "code",
      "metadata": {
        "id": "b-cVcY5nmHSW",
        "colab_type": "code",
        "colab": {}
      },
      "source": [
        "Train_df['dew_temperature']=Train_df['dew_temperature'].fillna(Train_df.dew_temperature.median())\n",
        "Train_df['air_temperature']=Train_df['dew_temperature'].fillna(Train_df.air_temperature.median())\n",
        "Train_df['wind_speed']=Train_df['wind_speed'].fillna(Train_df.wind_speed.median())\n"
      ],
      "execution_count": 0,
      "outputs": []
    },
    {
      "cell_type": "code",
      "metadata": {
        "id": "ELXvZlrbmHO0",
        "colab_type": "code",
        "outputId": "5137d2a3-6e9a-49e8-819a-d0a924d093b8",
        "colab": {
          "base_uri": "https://localhost:8080/",
          "height": 202
        }
      },
      "source": [
        "Train_df.isnull().sum()"
      ],
      "execution_count": 0,
      "outputs": [
        {
          "output_type": "execute_result",
          "data": {
            "text/plain": [
              "building_id        0\n",
              "meter              0\n",
              "timestamp          0\n",
              "meter_reading      0\n",
              "site_id            0\n",
              "primary_use        0\n",
              "square_feet        0\n",
              "air_temperature    0\n",
              "dew_temperature    0\n",
              "wind_speed         0\n",
              "dtype: int64"
            ]
          },
          "metadata": {
            "tags": []
          },
          "execution_count": 64
        }
      ]
    },
    {
      "cell_type": "code",
      "metadata": {
        "id": "6hNPQOFvmHMu",
        "colab_type": "code",
        "colab": {}
      },
      "source": [
        ""
      ],
      "execution_count": 0,
      "outputs": []
    },
    {
      "cell_type": "markdown",
      "metadata": {
        "id": "plr7GFDoknR7",
        "colab_type": "text"
      },
      "source": [
        "## **Dealing with skewed variables**"
      ]
    },
    {
      "cell_type": "code",
      "metadata": {
        "id": "iCpR04vI3xzX",
        "colab_type": "code",
        "outputId": "c1df3c8e-3d5c-4731-b4c3-476e853017ee",
        "colab": {
          "base_uri": "https://localhost:8080/",
          "height": 337
        }
      },
      "source": [
        "Train_df.square_feet.plot('box')"
      ],
      "execution_count": 0,
      "outputs": [
        {
          "output_type": "stream",
          "text": [
            "/usr/local/lib/python3.6/dist-packages/ipykernel_launcher.py:1: FutureWarning: `Series.plot()` should not be called with positional arguments, only keyword arguments. The order of positional arguments will change in the future. Use `Series.plot(kind='box')` instead of `Series.plot('box',)`.\n",
            "  \"\"\"Entry point for launching an IPython kernel.\n"
          ],
          "name": "stderr"
        },
        {
          "output_type": "execute_result",
          "data": {
            "text/plain": [
              "<matplotlib.axes._subplots.AxesSubplot at 0x7f5db0ef03c8>"
            ]
          },
          "metadata": {
            "tags": []
          },
          "execution_count": 65
        },
        {
          "output_type": "display_data",
          "data": {
            "image/png": "[encoded data removed]",
            "text/plain": [
              "<Figure size 432x288 with 1 Axes>"
            ]
          },
          "metadata": {
            "tags": []
          }
        }
      ]
    },
    {
      "cell_type": "code",
      "metadata": {
        "id": "DQwQOca_uT2P",
        "colab_type": "code",
        "colab": {}
      },
      "source": [
        "Train_df['square_feet']=Train_df['square_feet'].map(np.log)"
      ],
      "execution_count": 0,
      "outputs": []
    },
    {
      "cell_type": "code",
      "metadata": {
        "id": "t2J0SFG-uuAG",
        "colab_type": "code",
        "outputId": "d612c937-5d7d-494e-c243-b5e6567ab486",
        "colab": {
          "base_uri": "https://localhost:8080/",
          "height": 338
        }
      },
      "source": [
        "Train_df.square_feet.plot('box')"
      ],
      "execution_count": 0,
      "outputs": [
        {
          "output_type": "stream",
          "text": [
            "/usr/local/lib/python3.6/dist-packages/ipykernel_launcher.py:1: FutureWarning: `Series.plot()` should not be called with positional arguments, only keyword arguments. The order of positional arguments will change in the future. Use `Series.plot(kind='box')` instead of `Series.plot('box',)`.\n",
            "  \"\"\"Entry point for launching an IPython kernel.\n"
          ],
          "name": "stderr"
        },
        {
          "output_type": "execute_result",
          "data": {
            "text/plain": [
              "<matplotlib.axes._subplots.AxesSubplot at 0x7f5db0d0a668>"
            ]
          },
          "metadata": {
            "tags": []
          },
          "execution_count": 67
        },
        {
          "output_type": "display_data",
          "data": {
            "image/png": "[encoded data removed]",
            "text/plain": [
              "<Figure size 432x288 with 1 Axes>"
            ]
          },
          "metadata": {
            "tags": []
          }
        }
      ]
    },
    {
      "cell_type": "code",
      "metadata": {
        "id": "wDkDfpTD5pqu",
        "colab_type": "code",
        "outputId": "c41f9dc0-f311-4930-8ebe-11ca7ef7b602",
        "colab": {
          "base_uri": "https://localhost:8080/",
          "height": 337
        }
      },
      "source": [
        "Train_df.air_temperature.plot('box')"
      ],
      "execution_count": 0,
      "outputs": [
        {
          "output_type": "stream",
          "text": [
            "/usr/local/lib/python3.6/dist-packages/ipykernel_launcher.py:1: FutureWarning: `Series.plot()` should not be called with positional arguments, only keyword arguments. The order of positional arguments will change in the future. Use `Series.plot(kind='box')` instead of `Series.plot('box',)`.\n",
            "  \"\"\"Entry point for launching an IPython kernel.\n"
          ],
          "name": "stderr"
        },
        {
          "output_type": "execute_result",
          "data": {
            "text/plain": [
              "<matplotlib.axes._subplots.AxesSubplot at 0x7f5db0cf0ac8>"
            ]
          },
          "metadata": {
            "tags": []
          },
          "execution_count": 68
        },
        {
          "output_type": "display_data",
          "data": {
            "image/png": "[encoded data removed]",
            "text/plain": [
              "<Figure size 432x288 with 1 Axes>"
            ]
          },
          "metadata": {
            "tags": []
          }
        }
      ]
    },
    {
      "cell_type": "code",
      "metadata": {
        "id": "k5fy62z7nmRv",
        "colab_type": "code",
        "outputId": "c28ac486-2c12-49b4-b7df-1bd4881aba5c",
        "colab": {
          "base_uri": "https://localhost:8080/",
          "height": 282
        }
      },
      "source": [
        "Train_df.air_temperature.hist()"
      ],
      "execution_count": 0,
      "outputs": [
        {
          "output_type": "execute_result",
          "data": {
            "text/plain": [
              "<matplotlib.axes._subplots.AxesSubplot at 0x7f5db6db5940>"
            ]
          },
          "metadata": {
            "tags": []
          },
          "execution_count": 69
        },
        {
          "output_type": "display_data",
          "data": {
            "image/png": "[encoded data removed]",
            "text/plain": [
              "<Figure size 432x288 with 1 Axes>"
            ]
          },
          "metadata": {
            "tags": []
          }
        }
      ]
    },
    {
      "cell_type": "code",
      "metadata": {
        "id": "JJQyQwUfnz80",
        "colab_type": "code",
        "outputId": "4b83bc88-26c5-44bf-d8f0-b39112802309",
        "colab": {
          "base_uri": "https://localhost:8080/",
          "height": 282
        }
      },
      "source": [
        "Train_df.dew_temperature.hist()"
      ],
      "execution_count": 0,
      "outputs": [
        {
          "output_type": "execute_result",
          "data": {
            "text/plain": [
              "<matplotlib.axes._subplots.AxesSubplot at 0x7f5db0cb60f0>"
            ]
          },
          "metadata": {
            "tags": []
          },
          "execution_count": 70
        },
        {
          "output_type": "display_data",
          "data": {
            "image/png": "[encoded data removed]",
            "text/plain": [
              "<Figure size 432x288 with 1 Axes>"
            ]
          },
          "metadata": {
            "tags": []
          }
        }
      ]
    },
    {
      "cell_type": "code",
      "metadata": {
        "id": "WYb5tSZzuEC0",
        "colab_type": "code",
        "outputId": "2668afde-2b87-411b-9277-3c8b9f8a4c2c",
        "colab": {
          "base_uri": "https://localhost:8080/",
          "height": 282
        }
      },
      "source": [
        "Train_df.wind_speed.hist()"
      ],
      "execution_count": 0,
      "outputs": [
        {
          "output_type": "execute_result",
          "data": {
            "text/plain": [
              "<matplotlib.axes._subplots.AxesSubplot at 0x7f5db0cf0be0>"
            ]
          },
          "metadata": {
            "tags": []
          },
          "execution_count": 71
        },
        {
          "output_type": "display_data",
          "data": {
            "image/png": "[encoded data removed]",
            "text/plain": [
              "<Figure size 432x288 with 1 Axes>"
            ]
          },
          "metadata": {
            "tags": []
          }
        }
      ]
    },
    {
      "cell_type": "markdown",
      "metadata": {
        "id": "2rG9tHh6AppV",
        "colab_type": "text"
      },
      "source": [
        "After Visualisation we gonna apply MinMaxScaler written by myself"
      ]
    },
    {
      "cell_type": "code",
      "metadata": {
        "id": "GsJcRZsHxqXZ",
        "colab_type": "code",
        "colab": {}
      },
      "source": [
        "max_air=Train_df.air_temperature.max()\n",
        "min_air=Train_df.air_temperature.min()\n",
        "max_dew=Train_df.dew_temperature.max()\n",
        "min_dew=Train_df.dew_temperature.min()\n",
        "max_wind=Train_df.wind_speed.max()\n",
        "min_wind=Train_df.wind_speed.min()"
      ],
      "execution_count": 0,
      "outputs": []
    },
    {
      "cell_type": "code",
      "metadata": {
        "id": "CWXwjwFSuN63",
        "colab_type": "code",
        "colab": {}
      },
      "source": [
        "def min_max_air_normalization(x):\n",
        "  return ((x-min_air)/(max_air-min_air))\n",
        "def min_max_dew_normalization(x):\n",
        "  return ((x-min_dew)/(max_dew-min_dew))\n",
        "def min_max_wind_normalization(x):\n",
        "  return ((x-min_wind)/(max_wind-min_wind))"
      ],
      "execution_count": 0,
      "outputs": []
    },
    {
      "cell_type": "code",
      "metadata": {
        "id": "AwfIia52vqxa",
        "colab_type": "code",
        "colab": {}
      },
      "source": [
        "Train_df['air_temperature']=Train_df['air_temperature'].map(min_max_air_normalization)\n",
        "Train_df['dew_temperature']=Train_df['dew_temperature'].map(min_max_dew_normalization)\n",
        "Train_df['wind_speed']=Train_df['wind_speed'].map(min_max_wind_normalization)"
      ],
      "execution_count": 0,
      "outputs": []
    },
    {
      "cell_type": "code",
      "metadata": {
        "id": "y4YHnPuIv7qq",
        "colab_type": "code",
        "outputId": "c3c3a62e-58d8-436f-cfe4-0bdeca52f634",
        "colab": {
          "base_uri": "https://localhost:8080/",
          "height": 282
        }
      },
      "source": [
        "Train_df.air_temperature.hist()"
      ],
      "execution_count": 0,
      "outputs": [
        {
          "output_type": "execute_result",
          "data": {
            "text/plain": [
              "<matplotlib.axes._subplots.AxesSubplot at 0x7f5db0bace48>"
            ]
          },
          "metadata": {
            "tags": []
          },
          "execution_count": 75
        },
        {
          "output_type": "display_data",
          "data": {
            "image/png": "[encoded data removed]",
            "text/plain": [
              "<Figure size 432x288 with 1 Axes>"
            ]
          },
          "metadata": {
            "tags": []
          }
        }
      ]
    },
    {
      "cell_type": "code",
      "metadata": {
        "id": "lij8J5l21JRg",
        "colab_type": "code",
        "outputId": "9a8470ee-dc37-4cb0-cf66-6b5923d0facc",
        "colab": {
          "base_uri": "https://localhost:8080/",
          "height": 282
        }
      },
      "source": [
        "Train_df.dew_temperature.hist()"
      ],
      "execution_count": 0,
      "outputs": [
        {
          "output_type": "execute_result",
          "data": {
            "text/plain": [
              "<matplotlib.axes._subplots.AxesSubplot at 0x7f5d93563390>"
            ]
          },
          "metadata": {
            "tags": []
          },
          "execution_count": 76
        },
        {
          "output_type": "display_data",
          "data": {
            "image/png": "[encoded data removed]",
            "text/plain": [
              "<Figure size 432x288 with 1 Axes>"
            ]
          },
          "metadata": {
            "tags": []
          }
        }
      ]
    },
    {
      "cell_type": "code",
      "metadata": {
        "id": "2E6w3FOy1MTh",
        "colab_type": "code",
        "outputId": "a6bd7eec-a31a-4093-f03d-a781c95e3bbd",
        "colab": {
          "base_uri": "https://localhost:8080/",
          "height": 282
        }
      },
      "source": [
        "Train_df.wind_speed.hist()"
      ],
      "execution_count": 0,
      "outputs": [
        {
          "output_type": "execute_result",
          "data": {
            "text/plain": [
              "<matplotlib.axes._subplots.AxesSubplot at 0x7f5db0cb6e80>"
            ]
          },
          "metadata": {
            "tags": []
          },
          "execution_count": 77
        },
        {
          "output_type": "display_data",
          "data": {
            "image/png": "[encoded data removed]",
            "text/plain": [
              "<Figure size 432x288 with 1 Axes>"
            ]
          },
          "metadata": {
            "tags": []
          }
        }
      ]
    },
    {
      "cell_type": "markdown",
      "metadata": {
        "id": "REAmjlLpnoHz",
        "colab_type": "text"
      },
      "source": [
        "## **Preparing Test Data**\n",
        "We gonna apply the same previous steps to test data"
      ]
    },
    {
      "cell_type": "markdown",
      "metadata": {
        "id": "KOnvYWD-BOdX",
        "colab_type": "text"
      },
      "source": [
        "### Data reading"
      ]
    },
    {
      "cell_type": "code",
      "metadata": {
        "id": "Ax8SxwOe1Rh6",
        "colab_type": "code",
        "colab": {}
      },
      "source": [
        "Test_df=pd.read_csv(path+'test.csv')\n",
        "Weather_test_df=pd.read_csv(path+'weather_test.csv')"
      ],
      "execution_count": 0,
      "outputs": []
    },
    {
      "cell_type": "code",
      "metadata": {
        "id": "f_2kecFCoaAk",
        "colab_type": "code",
        "outputId": "da0ab136-854e-4277-f180-e2674e7b3081",
        "colab": {
          "base_uri": "https://localhost:8080/",
          "height": 34
        }
      },
      "source": [
        "Test_df.shape, Weather_test_df.shape"
      ],
      "execution_count": 0,
      "outputs": [
        {
          "output_type": "execute_result",
          "data": {
            "text/plain": [
              "((41697600, 4), (277243, 9))"
            ]
          },
          "metadata": {
            "tags": []
          },
          "execution_count": 79
        }
      ]
    },
    {
      "cell_type": "code",
      "metadata": {
        "id": "jPA07JeQomiV",
        "colab_type": "code",
        "outputId": "d02f74ba-683d-42e6-b610-c6265c280974",
        "colab": {
          "base_uri": "https://localhost:8080/",
          "height": 195
        }
      },
      "source": [
        "Test_df.head()"
      ],
      "execution_count": 0,
      "outputs": [
        {
          "output_type": "execute_result",
          "data": {
            "text/html": [
              "<div>\n",
              "<style scoped>\n",
              "    .dataframe tbody tr th:only-of-type {\n",
              "        vertical-align: middle;\n",
              "    }\n",
              "\n",
              "    .dataframe tbody tr th {\n",
              "        vertical-align: top;\n",
              "    }\n",
              "\n",
              "    .dataframe thead th {\n",
              "        text-align: right;\n",
              "    }\n",
              "</style>\n",
              "<table border=\"1\" class=\"dataframe\">\n",
              "  <thead>\n",
              "    <tr style=\"text-align: right;\">\n",
              "      <th></th>\n",
              "      <th>row_id</th>\n",
              "      <th>building_id</th>\n",
              "      <th>meter</th>\n",
              "      <th>timestamp</th>\n",
              "    </tr>\n",
              "  </thead>\n",
              "  <tbody>\n",
              "    <tr>\n",
              "      <th>0</th>\n",
              "      <td>0</td>\n",
              "      <td>0</td>\n",
              "      <td>0</td>\n",
              "      <td>2017-01-01 00:00:00</td>\n",
              "    </tr>\n",
              "    <tr>\n",
              "      <th>1</th>\n",
              "      <td>1</td>\n",
              "      <td>1</td>\n",
              "      <td>0</td>\n",
              "      <td>2017-01-01 00:00:00</td>\n",
              "    </tr>\n",
              "    <tr>\n",
              "      <th>2</th>\n",
              "      <td>2</td>\n",
              "      <td>2</td>\n",
              "      <td>0</td>\n",
              "      <td>2017-01-01 00:00:00</td>\n",
              "    </tr>\n",
              "    <tr>\n",
              "      <th>3</th>\n",
              "      <td>3</td>\n",
              "      <td>3</td>\n",
              "      <td>0</td>\n",
              "      <td>2017-01-01 00:00:00</td>\n",
              "    </tr>\n",
              "    <tr>\n",
              "      <th>4</th>\n",
              "      <td>4</td>\n",
              "      <td>4</td>\n",
              "      <td>0</td>\n",
              "      <td>2017-01-01 00:00:00</td>\n",
              "    </tr>\n",
              "  </tbody>\n",
              "</table>\n",
              "</div>"
            ],
            "text/plain": [
              "   row_id  building_id  meter            timestamp\n",
              "0       0            0      0  2017-01-01 00:00:00\n",
              "1       1            1      0  2017-01-01 00:00:00\n",
              "2       2            2      0  2017-01-01 00:00:00\n",
              "3       3            3      0  2017-01-01 00:00:00\n",
              "4       4            4      0  2017-01-01 00:00:00"
            ]
          },
          "metadata": {
            "tags": []
          },
          "execution_count": 80
        }
      ]
    },
    {
      "cell_type": "code",
      "metadata": {
        "id": "XdEW9UG0oqPt",
        "colab_type": "code",
        "outputId": "00d2f4df-ff75-4af4-db61-172a79b7fc72",
        "colab": {
          "base_uri": "https://localhost:8080/",
          "height": 383
        }
      },
      "source": [
        "Weather_test_df.head()"
      ],
      "execution_count": 0,
      "outputs": [
        {
          "output_type": "execute_result",
          "data": {
            "text/html": [
              "<div>\n",
              "<style scoped>\n",
              "    .dataframe tbody tr th:only-of-type {\n",
              "        vertical-align: middle;\n",
              "    }\n",
              "\n",
              "    .dataframe tbody tr th {\n",
              "        vertical-align: top;\n",
              "    }\n",
              "\n",
              "    .dataframe thead th {\n",
              "        text-align: right;\n",
              "    }\n",
              "</style>\n",
              "<table border=\"1\" class=\"dataframe\">\n",
              "  <thead>\n",
              "    <tr style=\"text-align: right;\">\n",
              "      <th></th>\n",
              "      <th>site_id</th>\n",
              "      <th>timestamp</th>\n",
              "      <th>air_temperature</th>\n",
              "      <th>cloud_coverage</th>\n",
              "      <th>dew_temperature</th>\n",
              "      <th>precip_depth_1_hr</th>\n",
              "      <th>sea_level_pressure</th>\n",
              "      <th>wind_direction</th>\n",
              "      <th>wind_speed</th>\n",
              "    </tr>\n",
              "  </thead>\n",
              "  <tbody>\n",
              "    <tr>\n",
              "      <th>0</th>\n",
              "      <td>0</td>\n",
              "      <td>2017-01-01 00:00:00</td>\n",
              "      <td>17.8</td>\n",
              "      <td>4.0</td>\n",
              "      <td>11.7</td>\n",
              "      <td>NaN</td>\n",
              "      <td>1021.4</td>\n",
              "      <td>100.0</td>\n",
              "      <td>3.6</td>\n",
              "    </tr>\n",
              "    <tr>\n",
              "      <th>1</th>\n",
              "      <td>0</td>\n",
              "      <td>2017-01-01 01:00:00</td>\n",
              "      <td>17.8</td>\n",
              "      <td>2.0</td>\n",
              "      <td>12.8</td>\n",
              "      <td>0.0</td>\n",
              "      <td>1022.0</td>\n",
              "      <td>130.0</td>\n",
              "      <td>3.1</td>\n",
              "    </tr>\n",
              "    <tr>\n",
              "      <th>2</th>\n",
              "      <td>0</td>\n",
              "      <td>2017-01-01 02:00:00</td>\n",
              "      <td>16.1</td>\n",
              "      <td>0.0</td>\n",
              "      <td>12.8</td>\n",
              "      <td>0.0</td>\n",
              "      <td>1021.9</td>\n",
              "      <td>140.0</td>\n",
              "      <td>3.1</td>\n",
              "    </tr>\n",
              "    <tr>\n",
              "      <th>3</th>\n",
              "      <td>0</td>\n",
              "      <td>2017-01-01 03:00:00</td>\n",
              "      <td>17.2</td>\n",
              "      <td>0.0</td>\n",
              "      <td>13.3</td>\n",
              "      <td>0.0</td>\n",
              "      <td>1022.2</td>\n",
              "      <td>140.0</td>\n",
              "      <td>3.1</td>\n",
              "    </tr>\n",
              "    <tr>\n",
              "      <th>4</th>\n",
              "      <td>0</td>\n",
              "      <td>2017-01-01 04:00:00</td>\n",
              "      <td>16.7</td>\n",
              "      <td>2.0</td>\n",
              "      <td>13.3</td>\n",
              "      <td>0.0</td>\n",
              "      <td>1022.3</td>\n",
              "      <td>130.0</td>\n",
              "      <td>2.6</td>\n",
              "    </tr>\n",
              "  </tbody>\n",
              "</table>\n",
              "</div>"
            ],
            "text/plain": [
              "   site_id            timestamp  ...  wind_direction  wind_speed\n",
              "0        0  2017-01-01 00:00:00  ...           100.0         3.6\n",
              "1        0  2017-01-01 01:00:00  ...           130.0         3.1\n",
              "2        0  2017-01-01 02:00:00  ...           140.0         3.1\n",
              "3        0  2017-01-01 03:00:00  ...           140.0         3.1\n",
              "4        0  2017-01-01 04:00:00  ...           130.0         2.6\n",
              "\n",
              "[5 rows x 9 columns]"
            ]
          },
          "metadata": {
            "tags": []
          },
          "execution_count": 81
        }
      ]
    },
    {
      "cell_type": "markdown",
      "metadata": {
        "id": "aS7UqUkSBR-x",
        "colab_type": "text"
      },
      "source": [
        "### Missing Values"
      ]
    },
    {
      "cell_type": "code",
      "metadata": {
        "id": "YEp0YJiFqAYy",
        "colab_type": "code",
        "outputId": "6e25f5eb-5b30-481d-d551-367a79b9ab77",
        "colab": {
          "base_uri": "https://localhost:8080/",
          "height": 185
        }
      },
      "source": [
        "Weather_test_df.isnull().sum()"
      ],
      "execution_count": 0,
      "outputs": [
        {
          "output_type": "execute_result",
          "data": {
            "text/plain": [
              "site_id                    0\n",
              "timestamp                  0\n",
              "air_temperature          104\n",
              "cloud_coverage        140448\n",
              "dew_temperature          327\n",
              "precip_depth_1_hr      95588\n",
              "sea_level_pressure     21265\n",
              "wind_direction         12370\n",
              "wind_speed               460\n",
              "dtype: int64"
            ]
          },
          "metadata": {
            "tags": []
          },
          "execution_count": 82
        }
      ]
    },
    {
      "cell_type": "code",
      "metadata": {
        "id": "dQtQLNcIsRHw",
        "colab_type": "code",
        "colab": {}
      },
      "source": [
        "del Weather_test_df['cloud_coverage']\n",
        "del Weather_test_df['precip_depth_1_hr']\n",
        "del Weather_test_df['sea_level_pressure']\n",
        "del Weather_test_df['wind_direction']"
      ],
      "execution_count": 0,
      "outputs": []
    },
    {
      "cell_type": "code",
      "metadata": {
        "id": "YAGxV-abs7uX",
        "colab_type": "code",
        "outputId": "a41316d7-93a2-40d3-c1d1-62f4a9889dd6",
        "colab": {
          "base_uri": "https://localhost:8080/",
          "height": 195
        }
      },
      "source": [
        "Weather_test_df.head()"
      ],
      "execution_count": 0,
      "outputs": [
        {
          "output_type": "execute_result",
          "data": {
            "text/html": [
              "<div>\n",
              "<style scoped>\n",
              "    .dataframe tbody tr th:only-of-type {\n",
              "        vertical-align: middle;\n",
              "    }\n",
              "\n",
              "    .dataframe tbody tr th {\n",
              "        vertical-align: top;\n",
              "    }\n",
              "\n",
              "    .dataframe thead th {\n",
              "        text-align: right;\n",
              "    }\n",
              "</style>\n",
              "<table border=\"1\" class=\"dataframe\">\n",
              "  <thead>\n",
              "    <tr style=\"text-align: right;\">\n",
              "      <th></th>\n",
              "      <th>site_id</th>\n",
              "      <th>timestamp</th>\n",
              "      <th>air_temperature</th>\n",
              "      <th>dew_temperature</th>\n",
              "      <th>wind_speed</th>\n",
              "    </tr>\n",
              "  </thead>\n",
              "  <tbody>\n",
              "    <tr>\n",
              "      <th>0</th>\n",
              "      <td>0</td>\n",
              "      <td>2017-01-01 00:00:00</td>\n",
              "      <td>17.8</td>\n",
              "      <td>11.7</td>\n",
              "      <td>3.6</td>\n",
              "    </tr>\n",
              "    <tr>\n",
              "      <th>1</th>\n",
              "      <td>0</td>\n",
              "      <td>2017-01-01 01:00:00</td>\n",
              "      <td>17.8</td>\n",
              "      <td>12.8</td>\n",
              "      <td>3.1</td>\n",
              "    </tr>\n",
              "    <tr>\n",
              "      <th>2</th>\n",
              "      <td>0</td>\n",
              "      <td>2017-01-01 02:00:00</td>\n",
              "      <td>16.1</td>\n",
              "      <td>12.8</td>\n",
              "      <td>3.1</td>\n",
              "    </tr>\n",
              "    <tr>\n",
              "      <th>3</th>\n",
              "      <td>0</td>\n",
              "      <td>2017-01-01 03:00:00</td>\n",
              "      <td>17.2</td>\n",
              "      <td>13.3</td>\n",
              "      <td>3.1</td>\n",
              "    </tr>\n",
              "    <tr>\n",
              "      <th>4</th>\n",
              "      <td>0</td>\n",
              "      <td>2017-01-01 04:00:00</td>\n",
              "      <td>16.7</td>\n",
              "      <td>13.3</td>\n",
              "      <td>2.6</td>\n",
              "    </tr>\n",
              "  </tbody>\n",
              "</table>\n",
              "</div>"
            ],
            "text/plain": [
              "   site_id            timestamp  air_temperature  dew_temperature  wind_speed\n",
              "0        0  2017-01-01 00:00:00             17.8             11.7         3.6\n",
              "1        0  2017-01-01 01:00:00             17.8             12.8         3.1\n",
              "2        0  2017-01-01 02:00:00             16.1             12.8         3.1\n",
              "3        0  2017-01-01 03:00:00             17.2             13.3         3.1\n",
              "4        0  2017-01-01 04:00:00             16.7             13.3         2.6"
            ]
          },
          "metadata": {
            "tags": []
          },
          "execution_count": 84
        }
      ]
    },
    {
      "cell_type": "code",
      "metadata": {
        "id": "oRiciwQrs-UV",
        "colab_type": "code",
        "outputId": "3f773f86-87e8-439f-cbe7-33aef7eb7ee5",
        "colab": {
          "base_uri": "https://localhost:8080/",
          "height": 284
        }
      },
      "source": [
        "Weather_test_df.describe()"
      ],
      "execution_count": 0,
      "outputs": [
        {
          "output_type": "execute_result",
          "data": {
            "text/html": [
              "<div>\n",
              "<style scoped>\n",
              "    .dataframe tbody tr th:only-of-type {\n",
              "        vertical-align: middle;\n",
              "    }\n",
              "\n",
              "    .dataframe tbody tr th {\n",
              "        vertical-align: top;\n",
              "    }\n",
              "\n",
              "    .dataframe thead th {\n",
              "        text-align: right;\n",
              "    }\n",
              "</style>\n",
              "<table border=\"1\" class=\"dataframe\">\n",
              "  <thead>\n",
              "    <tr style=\"text-align: right;\">\n",
              "      <th></th>\n",
              "      <th>site_id</th>\n",
              "      <th>air_temperature</th>\n",
              "      <th>dew_temperature</th>\n",
              "      <th>wind_speed</th>\n",
              "    </tr>\n",
              "  </thead>\n",
              "  <tbody>\n",
              "    <tr>\n",
              "      <th>count</th>\n",
              "      <td>277243.000000</td>\n",
              "      <td>277139.000000</td>\n",
              "      <td>276916.000000</td>\n",
              "      <td>276783.000000</td>\n",
              "    </tr>\n",
              "    <tr>\n",
              "      <th>mean</th>\n",
              "      <td>7.484654</td>\n",
              "      <td>14.276863</td>\n",
              "      <td>7.487658</td>\n",
              "      <td>3.548873</td>\n",
              "    </tr>\n",
              "    <tr>\n",
              "      <th>std</th>\n",
              "      <td>4.616959</td>\n",
              "      <td>10.741605</td>\n",
              "      <td>10.153973</td>\n",
              "      <td>2.317184</td>\n",
              "    </tr>\n",
              "    <tr>\n",
              "      <th>min</th>\n",
              "      <td>0.000000</td>\n",
              "      <td>-28.100000</td>\n",
              "      <td>-31.600000</td>\n",
              "      <td>0.000000</td>\n",
              "    </tr>\n",
              "    <tr>\n",
              "      <th>25%</th>\n",
              "      <td>3.000000</td>\n",
              "      <td>7.200000</td>\n",
              "      <td>0.600000</td>\n",
              "      <td>2.100000</td>\n",
              "    </tr>\n",
              "    <tr>\n",
              "      <th>50%</th>\n",
              "      <td>7.000000</td>\n",
              "      <td>15.000000</td>\n",
              "      <td>8.400000</td>\n",
              "      <td>3.100000</td>\n",
              "    </tr>\n",
              "    <tr>\n",
              "      <th>75%</th>\n",
              "      <td>12.000000</td>\n",
              "      <td>22.200000</td>\n",
              "      <td>15.000000</td>\n",
              "      <td>4.600000</td>\n",
              "    </tr>\n",
              "    <tr>\n",
              "      <th>max</th>\n",
              "      <td>15.000000</td>\n",
              "      <td>48.300000</td>\n",
              "      <td>26.700000</td>\n",
              "      <td>24.200000</td>\n",
              "    </tr>\n",
              "  </tbody>\n",
              "</table>\n",
              "</div>"
            ],
            "text/plain": [
              "             site_id  air_temperature  dew_temperature     wind_speed\n",
              "count  277243.000000    277139.000000    276916.000000  276783.000000\n",
              "mean        7.484654        14.276863         7.487658       3.548873\n",
              "std         4.616959        10.741605        10.153973       2.317184\n",
              "min         0.000000       -28.100000       -31.600000       0.000000\n",
              "25%         3.000000         7.200000         0.600000       2.100000\n",
              "50%         7.000000        15.000000         8.400000       3.100000\n",
              "75%        12.000000        22.200000        15.000000       4.600000\n",
              "max        15.000000        48.300000        26.700000      24.200000"
            ]
          },
          "metadata": {
            "tags": []
          },
          "execution_count": 86
        }
      ]
    },
    {
      "cell_type": "code",
      "metadata": {
        "id": "kX-eDTxJ9DgL",
        "colab_type": "code",
        "colab": {}
      },
      "source": [
        "M_air_test=np.mean(Weather_test_df['air_temperature'])\n",
        "M_dew_test=np.mean(Weather_test_df['dew_temperature'])\n",
        "M_wind_test=np.mean(Weather_test_df['wind_speed'])"
      ],
      "execution_count": 0,
      "outputs": []
    },
    {
      "cell_type": "code",
      "metadata": {
        "id": "kSJGMTjC9Uh_",
        "colab_type": "code",
        "colab": {}
      },
      "source": [
        "Weather_test_df['air_temperature']=Weather_test_df['air_temperature'].fillna(M_air_test)\n",
        "Weather_test_df['dew_temperature']=Weather_test_df['dew_temperature'].fillna(M_dew_test)\n",
        "Weather_test_df['wind_speed']=Weather_test_df['wind_speed'].fillna(M_wind_test)"
      ],
      "execution_count": 0,
      "outputs": []
    },
    {
      "cell_type": "code",
      "metadata": {
        "id": "00hsQnuw9r5m",
        "colab_type": "code",
        "outputId": "19e2a87e-1a88-45ff-a12e-a20ee93749df",
        "colab": {
          "base_uri": "https://localhost:8080/",
          "height": 118
        }
      },
      "source": [
        "Weather_test_df.isnull().sum()"
      ],
      "execution_count": 0,
      "outputs": [
        {
          "output_type": "execute_result",
          "data": {
            "text/plain": [
              "site_id            0\n",
              "timestamp          0\n",
              "air_temperature    0\n",
              "dew_temperature    0\n",
              "wind_speed         0\n",
              "dtype: int64"
            ]
          },
          "metadata": {
            "tags": []
          },
          "execution_count": 89
        }
      ]
    },
    {
      "cell_type": "code",
      "metadata": {
        "id": "AOWAyFtK9v0I",
        "colab_type": "code",
        "colab": {}
      },
      "source": [
        "Test_df['timestamp'] = pd.to_datetime(Test_df['timestamp'])\n",
        "Weather_test_df['timestamp'] = pd.to_datetime(Weather_test_df['timestamp'])"
      ],
      "execution_count": 0,
      "outputs": []
    },
    {
      "cell_type": "markdown",
      "metadata": {
        "id": "6ne7vxLyBfMM",
        "colab_type": "text"
      },
      "source": [
        "### Merge"
      ]
    },
    {
      "cell_type": "code",
      "metadata": {
        "id": "l9iZ4l5D-W3J",
        "colab_type": "code",
        "colab": {}
      },
      "source": [
        "temp_df = Test_df[['building_id']]\n",
        "temp_df = temp_df.merge(BuildingData_df, on=['building_id'], how='left')\n",
        "del temp_df['building_id']\n",
        "Test_df = pd.concat([Test_df, temp_df], axis=1)"
      ],
      "execution_count": 0,
      "outputs": []
    },
    {
      "cell_type": "code",
      "metadata": {
        "id": "d242l1kO-yU1",
        "colab_type": "code",
        "outputId": "b17a67af-3008-4de2-b39c-d5e3de1be5e8",
        "colab": {
          "base_uri": "https://localhost:8080/",
          "height": 402
        }
      },
      "source": [
        "Test_df"
      ],
      "execution_count": 0,
      "outputs": [
        {
          "output_type": "execute_result",
          "data": {
            "text/html": [
              "<div>\n",
              "<style scoped>\n",
              "    .dataframe tbody tr th:only-of-type {\n",
              "        vertical-align: middle;\n",
              "    }\n",
              "\n",
              "    .dataframe tbody tr th {\n",
              "        vertical-align: top;\n",
              "    }\n",
              "\n",
              "    .dataframe thead th {\n",
              "        text-align: right;\n",
              "    }\n",
              "</style>\n",
              "<table border=\"1\" class=\"dataframe\">\n",
              "  <thead>\n",
              "    <tr style=\"text-align: right;\">\n",
              "      <th></th>\n",
              "      <th>row_id</th>\n",
              "      <th>building_id</th>\n",
              "      <th>meter</th>\n",
              "      <th>timestamp</th>\n",
              "      <th>site_id</th>\n",
              "      <th>primary_use</th>\n",
              "      <th>square_feet</th>\n",
              "    </tr>\n",
              "  </thead>\n",
              "  <tbody>\n",
              "    <tr>\n",
              "      <th>0</th>\n",
              "      <td>0</td>\n",
              "      <td>0</td>\n",
              "      <td>0</td>\n",
              "      <td>2017-01-01 00:00:00</td>\n",
              "      <td>0</td>\n",
              "      <td>Education</td>\n",
              "      <td>7432</td>\n",
              "    </tr>\n",
              "    <tr>\n",
              "      <th>1</th>\n",
              "      <td>1</td>\n",
              "      <td>1</td>\n",
              "      <td>0</td>\n",
              "      <td>2017-01-01 00:00:00</td>\n",
              "      <td>0</td>\n",
              "      <td>Education</td>\n",
              "      <td>2720</td>\n",
              "    </tr>\n",
              "    <tr>\n",
              "      <th>2</th>\n",
              "      <td>2</td>\n",
              "      <td>2</td>\n",
              "      <td>0</td>\n",
              "      <td>2017-01-01 00:00:00</td>\n",
              "      <td>0</td>\n",
              "      <td>Education</td>\n",
              "      <td>5376</td>\n",
              "    </tr>\n",
              "    <tr>\n",
              "      <th>3</th>\n",
              "      <td>3</td>\n",
              "      <td>3</td>\n",
              "      <td>0</td>\n",
              "      <td>2017-01-01 00:00:00</td>\n",
              "      <td>0</td>\n",
              "      <td>Education</td>\n",
              "      <td>23685</td>\n",
              "    </tr>\n",
              "    <tr>\n",
              "      <th>4</th>\n",
              "      <td>4</td>\n",
              "      <td>4</td>\n",
              "      <td>0</td>\n",
              "      <td>2017-01-01 00:00:00</td>\n",
              "      <td>0</td>\n",
              "      <td>Education</td>\n",
              "      <td>116607</td>\n",
              "    </tr>\n",
              "    <tr>\n",
              "      <th>...</th>\n",
              "      <td>...</td>\n",
              "      <td>...</td>\n",
              "      <td>...</td>\n",
              "      <td>...</td>\n",
              "      <td>...</td>\n",
              "      <td>...</td>\n",
              "      <td>...</td>\n",
              "    </tr>\n",
              "    <tr>\n",
              "      <th>41697595</th>\n",
              "      <td>41697595</td>\n",
              "      <td>1444</td>\n",
              "      <td>0</td>\n",
              "      <td>2018-05-09 07:00:00</td>\n",
              "      <td>15</td>\n",
              "      <td>Entertainment/public assembly</td>\n",
              "      <td>19619</td>\n",
              "    </tr>\n",
              "    <tr>\n",
              "      <th>41697596</th>\n",
              "      <td>41697596</td>\n",
              "      <td>1445</td>\n",
              "      <td>0</td>\n",
              "      <td>2018-05-09 07:00:00</td>\n",
              "      <td>15</td>\n",
              "      <td>Education</td>\n",
              "      <td>4298</td>\n",
              "    </tr>\n",
              "    <tr>\n",
              "      <th>41697597</th>\n",
              "      <td>41697597</td>\n",
              "      <td>1446</td>\n",
              "      <td>0</td>\n",
              "      <td>2018-05-09 07:00:00</td>\n",
              "      <td>15</td>\n",
              "      <td>Entertainment/public assembly</td>\n",
              "      <td>11265</td>\n",
              "    </tr>\n",
              "    <tr>\n",
              "      <th>41697598</th>\n",
              "      <td>41697598</td>\n",
              "      <td>1447</td>\n",
              "      <td>0</td>\n",
              "      <td>2018-05-09 07:00:00</td>\n",
              "      <td>15</td>\n",
              "      <td>Lodging/residential</td>\n",
              "      <td>29775</td>\n",
              "    </tr>\n",
              "    <tr>\n",
              "      <th>41697599</th>\n",
              "      <td>41697599</td>\n",
              "      <td>1448</td>\n",
              "      <td>0</td>\n",
              "      <td>2018-05-09 07:00:00</td>\n",
              "      <td>15</td>\n",
              "      <td>Office</td>\n",
              "      <td>92271</td>\n",
              "    </tr>\n",
              "  </tbody>\n",
              "</table>\n",
              "<p>41697600 rows × 7 columns</p>\n",
              "</div>"
            ],
            "text/plain": [
              "            row_id  building_id  ...                    primary_use square_feet\n",
              "0                0            0  ...                      Education        7432\n",
              "1                1            1  ...                      Education        2720\n",
              "2                2            2  ...                      Education        5376\n",
              "3                3            3  ...                      Education       23685\n",
              "4                4            4  ...                      Education      116607\n",
              "...            ...          ...  ...                            ...         ...\n",
              "41697595  41697595         1444  ...  Entertainment/public assembly       19619\n",
              "41697596  41697596         1445  ...                      Education        4298\n",
              "41697597  41697597         1446  ...  Entertainment/public assembly       11265\n",
              "41697598  41697598         1447  ...            Lodging/residential       29775\n",
              "41697599  41697599         1448  ...                         Office       92271\n",
              "\n",
              "[41697600 rows x 7 columns]"
            ]
          },
          "metadata": {
            "tags": []
          },
          "execution_count": 92
        }
      ]
    },
    {
      "cell_type": "code",
      "metadata": {
        "id": "uYU6Sd6w-1fb",
        "colab_type": "code",
        "colab": {}
      },
      "source": [
        "del temp_df"
      ],
      "execution_count": 0,
      "outputs": []
    },
    {
      "cell_type": "code",
      "metadata": {
        "id": "BF9yLdUH-6lF",
        "colab_type": "code",
        "outputId": "214c771f-0af5-48e3-c6db-e9d26df1dd1f",
        "colab": {
          "base_uri": "https://localhost:8080/",
          "height": 758
        }
      },
      "source": [
        "temp_df = Test_df[['site_id','timestamp']]\n",
        "temp_df = temp_df.merge(Weather_test_df, on=['site_id','timestamp'], how='left')\n",
        "del temp_df['site_id'], temp_df['timestamp']\n",
        "Test_df = pd.concat([Test_df, temp_df], axis=1)\n",
        "del temp_df\n",
        "Test_df"
      ],
      "execution_count": 0,
      "outputs": [
        {
          "output_type": "execute_result",
          "data": {
            "text/html": [
              "<div>\n",
              "<style scoped>\n",
              "    .dataframe tbody tr th:only-of-type {\n",
              "        vertical-align: middle;\n",
              "    }\n",
              "\n",
              "    .dataframe tbody tr th {\n",
              "        vertical-align: top;\n",
              "    }\n",
              "\n",
              "    .dataframe thead th {\n",
              "        text-align: right;\n",
              "    }\n",
              "</style>\n",
              "<table border=\"1\" class=\"dataframe\">\n",
              "  <thead>\n",
              "    <tr style=\"text-align: right;\">\n",
              "      <th></th>\n",
              "      <th>row_id</th>\n",
              "      <th>building_id</th>\n",
              "      <th>meter</th>\n",
              "      <th>timestamp</th>\n",
              "      <th>site_id</th>\n",
              "      <th>primary_use</th>\n",
              "      <th>square_feet</th>\n",
              "      <th>air_temperature</th>\n",
              "      <th>dew_temperature</th>\n",
              "      <th>wind_speed</th>\n",
              "    </tr>\n",
              "  </thead>\n",
              "  <tbody>\n",
              "    <tr>\n",
              "      <th>0</th>\n",
              "      <td>0</td>\n",
              "      <td>0</td>\n",
              "      <td>0</td>\n",
              "      <td>2017-01-01 00:00:00</td>\n",
              "      <td>0</td>\n",
              "      <td>Education</td>\n",
              "      <td>7432</td>\n",
              "      <td>17.8</td>\n",
              "      <td>11.7</td>\n",
              "      <td>3.6</td>\n",
              "    </tr>\n",
              "    <tr>\n",
              "      <th>1</th>\n",
              "      <td>1</td>\n",
              "      <td>1</td>\n",
              "      <td>0</td>\n",
              "      <td>2017-01-01 00:00:00</td>\n",
              "      <td>0</td>\n",
              "      <td>Education</td>\n",
              "      <td>2720</td>\n",
              "      <td>17.8</td>\n",
              "      <td>11.7</td>\n",
              "      <td>3.6</td>\n",
              "    </tr>\n",
              "    <tr>\n",
              "      <th>2</th>\n",
              "      <td>2</td>\n",
              "      <td>2</td>\n",
              "      <td>0</td>\n",
              "      <td>2017-01-01 00:00:00</td>\n",
              "      <td>0</td>\n",
              "      <td>Education</td>\n",
              "      <td>5376</td>\n",
              "      <td>17.8</td>\n",
              "      <td>11.7</td>\n",
              "      <td>3.6</td>\n",
              "    </tr>\n",
              "    <tr>\n",
              "      <th>3</th>\n",
              "      <td>3</td>\n",
              "      <td>3</td>\n",
              "      <td>0</td>\n",
              "      <td>2017-01-01 00:00:00</td>\n",
              "      <td>0</td>\n",
              "      <td>Education</td>\n",
              "      <td>23685</td>\n",
              "      <td>17.8</td>\n",
              "      <td>11.7</td>\n",
              "      <td>3.6</td>\n",
              "    </tr>\n",
              "    <tr>\n",
              "      <th>4</th>\n",
              "      <td>4</td>\n",
              "      <td>4</td>\n",
              "      <td>0</td>\n",
              "      <td>2017-01-01 00:00:00</td>\n",
              "      <td>0</td>\n",
              "      <td>Education</td>\n",
              "      <td>116607</td>\n",
              "      <td>17.8</td>\n",
              "      <td>11.7</td>\n",
              "      <td>3.6</td>\n",
              "    </tr>\n",
              "    <tr>\n",
              "      <th>...</th>\n",
              "      <td>...</td>\n",
              "      <td>...</td>\n",
              "      <td>...</td>\n",
              "      <td>...</td>\n",
              "      <td>...</td>\n",
              "      <td>...</td>\n",
              "      <td>...</td>\n",
              "      <td>...</td>\n",
              "      <td>...</td>\n",
              "      <td>...</td>\n",
              "    </tr>\n",
              "    <tr>\n",
              "      <th>41697595</th>\n",
              "      <td>41697595</td>\n",
              "      <td>1444</td>\n",
              "      <td>0</td>\n",
              "      <td>2018-05-09 07:00:00</td>\n",
              "      <td>15</td>\n",
              "      <td>Entertainment/public assembly</td>\n",
              "      <td>19619</td>\n",
              "      <td>NaN</td>\n",
              "      <td>NaN</td>\n",
              "      <td>NaN</td>\n",
              "    </tr>\n",
              "    <tr>\n",
              "      <th>41697596</th>\n",
              "      <td>41697596</td>\n",
              "      <td>1445</td>\n",
              "      <td>0</td>\n",
              "      <td>2018-05-09 07:00:00</td>\n",
              "      <td>15</td>\n",
              "      <td>Education</td>\n",
              "      <td>4298</td>\n",
              "      <td>NaN</td>\n",
              "      <td>NaN</td>\n",
              "      <td>NaN</td>\n",
              "    </tr>\n",
              "    <tr>\n",
              "      <th>41697597</th>\n",
              "      <td>41697597</td>\n",
              "      <td>1446</td>\n",
              "      <td>0</td>\n",
              "      <td>2018-05-09 07:00:00</td>\n",
              "      <td>15</td>\n",
              "      <td>Entertainment/public assembly</td>\n",
              "      <td>11265</td>\n",
              "      <td>NaN</td>\n",
              "      <td>NaN</td>\n",
              "      <td>NaN</td>\n",
              "    </tr>\n",
              "    <tr>\n",
              "      <th>41697598</th>\n",
              "      <td>41697598</td>\n",
              "      <td>1447</td>\n",
              "      <td>0</td>\n",
              "      <td>2018-05-09 07:00:00</td>\n",
              "      <td>15</td>\n",
              "      <td>Lodging/residential</td>\n",
              "      <td>29775</td>\n",
              "      <td>NaN</td>\n",
              "      <td>NaN</td>\n",
              "      <td>NaN</td>\n",
              "    </tr>\n",
              "    <tr>\n",
              "      <th>41697599</th>\n",
              "      <td>41697599</td>\n",
              "      <td>1448</td>\n",
              "      <td>0</td>\n",
              "      <td>2018-05-09 07:00:00</td>\n",
              "      <td>15</td>\n",
              "      <td>Office</td>\n",
              "      <td>92271</td>\n",
              "      <td>NaN</td>\n",
              "      <td>NaN</td>\n",
              "      <td>NaN</td>\n",
              "    </tr>\n",
              "  </tbody>\n",
              "</table>\n",
              "<p>41697600 rows × 10 columns</p>\n",
              "</div>"
            ],
            "text/plain": [
              "            row_id  building_id  ...  dew_temperature wind_speed\n",
              "0                0            0  ...             11.7        3.6\n",
              "1                1            1  ...             11.7        3.6\n",
              "2                2            2  ...             11.7        3.6\n",
              "3                3            3  ...             11.7        3.6\n",
              "4                4            4  ...             11.7        3.6\n",
              "...            ...          ...  ...              ...        ...\n",
              "41697595  41697595         1444  ...              NaN        NaN\n",
              "41697596  41697596         1445  ...              NaN        NaN\n",
              "41697597  41697597         1446  ...              NaN        NaN\n",
              "41697598  41697598         1447  ...              NaN        NaN\n",
              "41697599  41697599         1448  ...              NaN        NaN\n",
              "\n",
              "[41697600 rows x 10 columns]"
            ]
          },
          "metadata": {
            "tags": []
          },
          "execution_count": 94
        }
      ]
    },
    {
      "cell_type": "markdown",
      "metadata": {
        "id": "_PCDh5FeBn1f",
        "colab_type": "text"
      },
      "source": [
        "### Missing Values after merge"
      ]
    },
    {
      "cell_type": "code",
      "metadata": {
        "id": "cm74PpRy_XFa",
        "colab_type": "code",
        "outputId": "7c8ce6d2-cef6-4fe3-811c-7ace7f4504f5",
        "colab": {
          "base_uri": "https://localhost:8080/",
          "height": 202
        }
      },
      "source": [
        "Test_df.isnull().sum()"
      ],
      "execution_count": 0,
      "outputs": [
        {
          "output_type": "execute_result",
          "data": {
            "text/plain": [
              "row_id                  0\n",
              "building_id             0\n",
              "meter                   0\n",
              "timestamp               0\n",
              "site_id                 0\n",
              "primary_use             0\n",
              "square_feet             0\n",
              "air_temperature    199029\n",
              "dew_temperature    199029\n",
              "wind_speed         199029\n",
              "dtype: int64"
            ]
          },
          "metadata": {
            "tags": []
          },
          "execution_count": 95
        }
      ]
    },
    {
      "cell_type": "code",
      "metadata": {
        "id": "Q0ws3KlK_d5i",
        "colab_type": "code",
        "outputId": "6f60fe7e-ca76-4cdd-f21e-20ea7b5df950",
        "colab": {
          "base_uri": "https://localhost:8080/",
          "height": 439
        }
      },
      "source": [
        "Test_df.primary_use.value_counts().plot.bar()"
      ],
      "execution_count": 0,
      "outputs": [
        {
          "output_type": "execute_result",
          "data": {
            "text/plain": [
              "<matplotlib.axes._subplots.AxesSubplot at 0x7f5daee0d4e0>"
            ]
          },
          "metadata": {
            "tags": []
          },
          "execution_count": 97
        },
        {
          "output_type": "display_data",
          "data": {
            "image/png": "[encoded data removed]",
            "text/plain": [
              "<Figure size 432x288 with 1 Axes>"
            ]
          },
          "metadata": {
            "tags": []
          }
        }
      ]
    },
    {
      "cell_type": "code",
      "metadata": {
        "id": "wmGXDJWD_0Nz",
        "colab_type": "code",
        "outputId": "e6ed6557-635c-4b5e-813f-7f2a83de81e1",
        "colab": {
          "base_uri": "https://localhost:8080/",
          "height": 121
        }
      },
      "source": [
        "idx_test = Test_df.primary_use.isin(['Parking','Manufacturing/industrial','Food sales and service','Retail','Warehouse/storage','Services','Technology/science','Utility','Religious worship'])\n",
        "Test_df.primary_use[idx_test] = 'Other'"
      ],
      "execution_count": 0,
      "outputs": [
        {
          "output_type": "stream",
          "text": [
            "/usr/local/lib/python3.6/dist-packages/ipykernel_launcher.py:2: SettingWithCopyWarning: \n",
            "A value is trying to be set on a copy of a slice from a DataFrame\n",
            "\n",
            "See the caveats in the documentation: http://pandas.pydata.org/pandas-docs/stable/user_guide/indexing.html#returning-a-view-versus-a-copy\n",
            "  \n"
          ],
          "name": "stderr"
        }
      ]
    },
    {
      "cell_type": "code",
      "metadata": {
        "id": "eAvzVlWgAKKU",
        "colab_type": "code",
        "outputId": "04038c96-ea6a-4c3e-c33d-65cf5797161a",
        "colab": {
          "base_uri": "https://localhost:8080/",
          "height": 439
        }
      },
      "source": [
        "Test_df.primary_use.value_counts().plot.bar()"
      ],
      "execution_count": 0,
      "outputs": [
        {
          "output_type": "execute_result",
          "data": {
            "text/plain": [
              "<matplotlib.axes._subplots.AxesSubplot at 0x7f5daed2e748>"
            ]
          },
          "metadata": {
            "tags": []
          },
          "execution_count": 99
        },
        {
          "output_type": "display_data",
          "data": {
            "image/png": "[encoded data removed]",
            "text/plain": [
              "<Figure size 432x288 with 1 Axes>"
            ]
          },
          "metadata": {
            "tags": []
          }
        }
      ]
    },
    {
      "cell_type": "code",
      "metadata": {
        "id": "OnJxgFoYAUAy",
        "colab_type": "code",
        "outputId": "b131ada9-eef2-4677-94f9-9614bf53d037",
        "colab": {
          "base_uri": "https://localhost:8080/",
          "height": 290
        }
      },
      "source": [
        "Test_df['primary_use']=label_encoder.fit_transform(Test_df.primary_use).astype(np.int8)\n",
        "Test_df.primary_use.value_counts().plot.bar()"
      ],
      "execution_count": 0,
      "outputs": [
        {
          "output_type": "execute_result",
          "data": {
            "text/plain": [
              "<matplotlib.axes._subplots.AxesSubplot at 0x7f5daecc6358>"
            ]
          },
          "metadata": {
            "tags": []
          },
          "execution_count": 100
        },
        {
          "output_type": "display_data",
          "data": {
            "image/png": "[encoded data removed]",
            "text/plain": [
              "<Figure size 432x288 with 1 Axes>"
            ]
          },
          "metadata": {
            "tags": []
          }
        }
      ]
    },
    {
      "cell_type": "code",
      "metadata": {
        "id": "mBgbqDQCAjxG",
        "colab_type": "code",
        "colab": {}
      },
      "source": [
        "Test_df['dew_temperature']=Test_df['dew_temperature'].fillna(Test_df.dew_temperature.median())\n",
        "Test_df['air_temperature']=Test_df['dew_temperature'].fillna(Test_df.air_temperature.median())\n",
        "Test_df['wind_speed']=Test_df['wind_speed'].fillna(Test_df.wind_speed.median())\n"
      ],
      "execution_count": 0,
      "outputs": []
    },
    {
      "cell_type": "code",
      "metadata": {
        "id": "Rtpr64PjBCSQ",
        "colab_type": "code",
        "outputId": "0dad4caf-a768-440d-e044-94696d14630b",
        "colab": {
          "base_uri": "https://localhost:8080/",
          "height": 202
        }
      },
      "source": [
        "Test_df.isnull().sum()"
      ],
      "execution_count": 0,
      "outputs": [
        {
          "output_type": "execute_result",
          "data": {
            "text/plain": [
              "row_id             0\n",
              "building_id        0\n",
              "meter              0\n",
              "timestamp          0\n",
              "site_id            0\n",
              "primary_use        0\n",
              "square_feet        0\n",
              "air_temperature    0\n",
              "dew_temperature    0\n",
              "wind_speed         0\n",
              "dtype: int64"
            ]
          },
          "metadata": {
            "tags": []
          },
          "execution_count": 102
        }
      ]
    },
    {
      "cell_type": "markdown",
      "metadata": {
        "id": "VaXmhd6MB1Td",
        "colab_type": "text"
      },
      "source": [
        "### Skewed Variables"
      ]
    },
    {
      "cell_type": "code",
      "metadata": {
        "id": "RWcIFteaBF3S",
        "colab_type": "code",
        "outputId": "69e4993c-eacb-4200-c336-ce34f7773c07",
        "colab": {
          "base_uri": "https://localhost:8080/",
          "height": 337
        }
      },
      "source": [
        "Test_df.square_feet.plot('box')"
      ],
      "execution_count": 0,
      "outputs": [
        {
          "output_type": "stream",
          "text": [
            "/usr/local/lib/python3.6/dist-packages/ipykernel_launcher.py:1: FutureWarning: `Series.plot()` should not be called with positional arguments, only keyword arguments. The order of positional arguments will change in the future. Use `Series.plot(kind='box')` instead of `Series.plot('box',)`.\n",
            "  \"\"\"Entry point for launching an IPython kernel.\n"
          ],
          "name": "stderr"
        },
        {
          "output_type": "execute_result",
          "data": {
            "text/plain": [
              "<matplotlib.axes._subplots.AxesSubplot at 0x7f5daed358d0>"
            ]
          },
          "metadata": {
            "tags": []
          },
          "execution_count": 103
        },
        {
          "output_type": "display_data",
          "data": {
            "image/png": "[encoded data removed]",
            "text/plain": [
              "<Figure size 432x288 with 1 Axes>"
            ]
          },
          "metadata": {
            "tags": []
          }
        }
      ]
    },
    {
      "cell_type": "code",
      "metadata": {
        "id": "dOdA0RL7BhhC",
        "colab_type": "code",
        "colab": {}
      },
      "source": [
        "Test_df['square_feet']=Test_df['square_feet'].map(np.log)"
      ],
      "execution_count": 0,
      "outputs": []
    },
    {
      "cell_type": "code",
      "metadata": {
        "id": "hZJ6R8Z-Bv4o",
        "colab_type": "code",
        "outputId": "67638004-c91d-4935-d3bc-61c6ab64c483",
        "colab": {
          "base_uri": "https://localhost:8080/",
          "height": 338
        }
      },
      "source": [
        "Test_df.square_feet.plot('box')"
      ],
      "execution_count": 0,
      "outputs": [
        {
          "output_type": "stream",
          "text": [
            "/usr/local/lib/python3.6/dist-packages/ipykernel_launcher.py:1: FutureWarning: `Series.plot()` should not be called with positional arguments, only keyword arguments. The order of positional arguments will change in the future. Use `Series.plot(kind='box')` instead of `Series.plot('box',)`.\n",
            "  \"\"\"Entry point for launching an IPython kernel.\n"
          ],
          "name": "stderr"
        },
        {
          "output_type": "execute_result",
          "data": {
            "text/plain": [
              "<matplotlib.axes._subplots.AxesSubplot at 0x7f5daebb6eb8>"
            ]
          },
          "metadata": {
            "tags": []
          },
          "execution_count": 105
        },
        {
          "output_type": "display_data",
          "data": {
            "image/png": "[encoded data removed]",
            "text/plain": [
              "<Figure size 432x288 with 1 Axes>"
            ]
          },
          "metadata": {
            "tags": []
          }
        }
      ]
    },
    {
      "cell_type": "code",
      "metadata": {
        "id": "uvivS1l4CAGi",
        "colab_type": "code",
        "outputId": "3a31ef24-023f-47fe-a2f7-deeb922c81e4",
        "colab": {
          "base_uri": "https://localhost:8080/",
          "height": 337
        }
      },
      "source": [
        "Test_df.air_temperature.plot('box')"
      ],
      "execution_count": 0,
      "outputs": [
        {
          "output_type": "stream",
          "text": [
            "/usr/local/lib/python3.6/dist-packages/ipykernel_launcher.py:1: FutureWarning: `Series.plot()` should not be called with positional arguments, only keyword arguments. The order of positional arguments will change in the future. Use `Series.plot(kind='box')` instead of `Series.plot('box',)`.\n",
            "  \"\"\"Entry point for launching an IPython kernel.\n"
          ],
          "name": "stderr"
        },
        {
          "output_type": "execute_result",
          "data": {
            "text/plain": [
              "<matplotlib.axes._subplots.AxesSubplot at 0x7f5daeb178d0>"
            ]
          },
          "metadata": {
            "tags": []
          },
          "execution_count": 106
        },
        {
          "output_type": "display_data",
          "data": {
            "image/png": "[encoded data removed]",
            "text/plain": [
              "<Figure size 432x288 with 1 Axes>"
            ]
          },
          "metadata": {
            "tags": []
          }
        }
      ]
    },
    {
      "cell_type": "code",
      "metadata": {
        "id": "EdX8wpOnCWye",
        "colab_type": "code",
        "outputId": "61ad97ad-fbcf-43ad-9e53-834820434fc3",
        "colab": {
          "base_uri": "https://localhost:8080/",
          "height": 337
        }
      },
      "source": [
        "Test_df.dew_temperature.plot('box')"
      ],
      "execution_count": 0,
      "outputs": [
        {
          "output_type": "stream",
          "text": [
            "/usr/local/lib/python3.6/dist-packages/ipykernel_launcher.py:1: FutureWarning: `Series.plot()` should not be called with positional arguments, only keyword arguments. The order of positional arguments will change in the future. Use `Series.plot(kind='box')` instead of `Series.plot('box',)`.\n",
            "  \"\"\"Entry point for launching an IPython kernel.\n"
          ],
          "name": "stderr"
        },
        {
          "output_type": "execute_result",
          "data": {
            "text/plain": [
              "<matplotlib.axes._subplots.AxesSubplot at 0x7f5daeae0710>"
            ]
          },
          "metadata": {
            "tags": []
          },
          "execution_count": 107
        },
        {
          "output_type": "display_data",
          "data": {
            "image/png": "[encoded data removed]",
            "text/plain": [
              "<Figure size 432x288 with 1 Axes>"
            ]
          },
          "metadata": {
            "tags": []
          }
        }
      ]
    },
    {
      "cell_type": "code",
      "metadata": {
        "id": "ncSnTYTaCa2h",
        "colab_type": "code",
        "outputId": "68529ff4-bf8c-482d-f09b-b6745852785c",
        "colab": {
          "base_uri": "https://localhost:8080/",
          "height": 338
        }
      },
      "source": [
        "Test_df.wind_speed.plot('box')"
      ],
      "execution_count": 0,
      "outputs": [
        {
          "output_type": "stream",
          "text": [
            "/usr/local/lib/python3.6/dist-packages/ipykernel_launcher.py:1: FutureWarning: `Series.plot()` should not be called with positional arguments, only keyword arguments. The order of positional arguments will change in the future. Use `Series.plot(kind='box')` instead of `Series.plot('box',)`.\n",
            "  \"\"\"Entry point for launching an IPython kernel.\n"
          ],
          "name": "stderr"
        },
        {
          "output_type": "execute_result",
          "data": {
            "text/plain": [
              "<matplotlib.axes._subplots.AxesSubplot at 0x7f5daea54e48>"
            ]
          },
          "metadata": {
            "tags": []
          },
          "execution_count": 108
        },
        {
          "output_type": "display_data",
          "data": {
            "image/png": "[encoded data removed]",
            "text/plain": [
              "<Figure size 432x288 with 1 Axes>"
            ]
          },
          "metadata": {
            "tags": []
          }
        }
      ]
    },
    {
      "cell_type": "code",
      "metadata": {
        "id": "YG2nWOXYChwX",
        "colab_type": "code",
        "colab": {}
      },
      "source": [
        "max_air=Test_df.air_temperature.max()\n",
        "min_air=Test_df.air_temperature.min()\n",
        "max_dew=Test_df.dew_temperature.max()\n",
        "min_dew=Test_df.dew_temperature.min()\n",
        "max_wind=Test_df.wind_speed.max()\n",
        "min_wind=Test_df.wind_speed.min()"
      ],
      "execution_count": 0,
      "outputs": []
    },
    {
      "cell_type": "code",
      "metadata": {
        "id": "qbN2ZtXiC_QD",
        "colab_type": "code",
        "colab": {}
      },
      "source": [
        "Test_df['air_temperature']=Test_df['air_temperature'].map(min_max_air_normalization)\n",
        "Test_df['dew_temperature']=Test_df['dew_temperature'].map(min_max_dew_normalization)\n",
        "Test_df['wind_speed']=Test_df['wind_speed'].map(min_max_wind_normalization)"
      ],
      "execution_count": 0,
      "outputs": []
    },
    {
      "cell_type": "code",
      "metadata": {
        "id": "33sqLcurDJvI",
        "colab_type": "code",
        "outputId": "1be6d920-8ee6-484e-fd84-c01d9ed6085b",
        "colab": {
          "base_uri": "https://localhost:8080/",
          "height": 282
        }
      },
      "source": [
        "Test_df.air_temperature.hist()"
      ],
      "execution_count": 0,
      "outputs": [
        {
          "output_type": "execute_result",
          "data": {
            "text/plain": [
              "<matplotlib.axes._subplots.AxesSubplot at 0x7f5daee0d780>"
            ]
          },
          "metadata": {
            "tags": []
          },
          "execution_count": 111
        },
        {
          "output_type": "display_data",
          "data": {
            "image/png": "[encoded data removed]",
            "text/plain": [
              "<Figure size 432x288 with 1 Axes>"
            ]
          },
          "metadata": {
            "tags": []
          }
        }
      ]
    },
    {
      "cell_type": "code",
      "metadata": {
        "id": "IZVJqx_EDTgM",
        "colab_type": "code",
        "outputId": "522a9fe3-0626-46ea-b136-33bb93880d7d",
        "colab": {
          "base_uri": "https://localhost:8080/",
          "height": 282
        }
      },
      "source": [
        "Test_df.dew_temperature.hist()"
      ],
      "execution_count": 0,
      "outputs": [
        {
          "output_type": "execute_result",
          "data": {
            "text/plain": [
              "<matplotlib.axes._subplots.AxesSubplot at 0x7f5dae9d8278>"
            ]
          },
          "metadata": {
            "tags": []
          },
          "execution_count": 112
        },
        {
          "output_type": "display_data",
          "data": {
            "image/png": "[encoded data removed]",
            "text/plain": [
              "<Figure size 432x288 with 1 Axes>"
            ]
          },
          "metadata": {
            "tags": []
          }
        }
      ]
    },
    {
      "cell_type": "code",
      "metadata": {
        "id": "L1M4w3zdDhNs",
        "colab_type": "code",
        "outputId": "3a9f460c-48e2-4067-c5a0-8721733bcb2b",
        "colab": {
          "base_uri": "https://localhost:8080/",
          "height": 293
        }
      },
      "source": [
        "Test_df.wind_speed.hist()"
      ],
      "execution_count": 0,
      "outputs": [
        {
          "output_type": "execute_result",
          "data": {
            "text/plain": [
              "<matplotlib.axes._subplots.AxesSubplot at 0x7f5dae94ecf8>"
            ]
          },
          "metadata": {
            "tags": []
          },
          "execution_count": 113
        },
        {
          "output_type": "display_data",
          "data": {
            "image/png": "[encoded data removed]",
            "text/plain": [
              "<Figure size 432x288 with 1 Axes>"
            ]
          },
          "metadata": {
            "tags": []
          }
        }
      ]
    },
    {
      "cell_type": "markdown",
      "metadata": {
        "id": "nE-NbwQrB-li",
        "colab_type": "text"
      },
      "source": [
        "## **Saving preprocced data to use it in Pat2**"
      ]
    },
    {
      "cell_type": "code",
      "metadata": {
        "id": "sUlF6LjDDkZb",
        "colab_type": "code",
        "colab": {}
      },
      "source": [
        "Train_df.to_csv(path+'train_data.csv',index=False)\n",
        "Test_df.to_csv(path+'test_data.csv',index=False)"
      ],
      "execution_count": 0,
      "outputs": []
    },
    {
      "cell_type": "markdown",
      "metadata": {
        "id": "EVLgo3raCT9Z",
        "colab_type": "text"
      },
      "source": [
        "# _**Part 2: Modeling**_"
      ]
    },
    {
      "cell_type": "markdown",
      "metadata": {
        "id": "GZyL-LH_sfqx",
        "colab_type": "text"
      },
      "source": [
        "## **Imports**"
      ]
    },
    {
      "cell_type": "code",
      "metadata": {
        "id": "WzXyNBHJCsOm",
        "colab_type": "code",
        "outputId": "f474137f-f409-48bb-dc94-06081b846a2c",
        "colab": {
          "base_uri": "https://localhost:8080/",
          "height": 81
        }
      },
      "source": [
        "from keras.models import Sequential\n",
        "from keras.layers import Dense, Activation, Flatten , GRU , LSTM\n",
        "from sklearn.model_selection import train_test_split\n",
        "from sklearn.metrics import mean_absolute_error "
      ],
      "execution_count": 0,
      "outputs": [
        {
          "output_type": "stream",
          "text": [
            "Using TensorFlow backend.\n"
          ],
          "name": "stderr"
        },
        {
          "output_type": "display_data",
          "data": {
            "text/html": [
              "<p style=\"color: red;\">\n",
              "The default version of TensorFlow in Colab will soon switch to TensorFlow 2.x.<br>\n",
              "We recommend you <a href=\"https://www.tensorflow.org/guide/migrate\" target=\"_blank\">upgrade</a> now \n",
              "or ensure your notebook will continue to use TensorFlow 1.x via the <code>%tensorflow_version 1.x</code> magic:\n",
              "<a href=\"https://colab.research.google.com/notebooks/tensorflow_version.ipynb\" target=\"_blank\">more info</a>.</p>\n"
            ],
            "text/plain": [
              "<IPython.core.display.HTML object>"
            ]
          },
          "metadata": {
            "tags": []
          }
        }
      ]
    },
    {
      "cell_type": "markdown",
      "metadata": {
        "id": "KZiBssnjt_cV",
        "colab_type": "text"
      },
      "source": [
        "## **Loading train data**"
      ]
    },
    {
      "cell_type": "code",
      "metadata": {
        "id": "4ZPPMW-ICAyb",
        "colab_type": "code",
        "colab": {}
      },
      "source": [
        "train=pd.read_csv(path+'train_data.csv')"
      ],
      "execution_count": 0,
      "outputs": []
    },
    {
      "cell_type": "code",
      "metadata": {
        "id": "XXOOdV42CAwi",
        "colab_type": "code",
        "outputId": "75d00cfe-3fb8-4462-8692-48911cbf8698",
        "colab": {
          "base_uri": "https://localhost:8080/",
          "height": 197
        }
      },
      "source": [
        "train.head()"
      ],
      "execution_count": 0,
      "outputs": [
        {
          "output_type": "execute_result",
          "data": {
            "text/html": [
              "<div>\n",
              "<style scoped>\n",
              "    .dataframe tbody tr th:only-of-type {\n",
              "        vertical-align: middle;\n",
              "    }\n",
              "\n",
              "    .dataframe tbody tr th {\n",
              "        vertical-align: top;\n",
              "    }\n",
              "\n",
              "    .dataframe thead th {\n",
              "        text-align: right;\n",
              "    }\n",
              "</style>\n",
              "<table border=\"1\" class=\"dataframe\">\n",
              "  <thead>\n",
              "    <tr style=\"text-align: right;\">\n",
              "      <th></th>\n",
              "      <th>building_id</th>\n",
              "      <th>meter</th>\n",
              "      <th>timestamp</th>\n",
              "      <th>meter_reading</th>\n",
              "      <th>site_id</th>\n",
              "      <th>primary_use</th>\n",
              "      <th>square_feet</th>\n",
              "      <th>air_temperature</th>\n",
              "      <th>dew_temperature</th>\n",
              "      <th>wind_speed</th>\n",
              "    </tr>\n",
              "  </thead>\n",
              "  <tbody>\n",
              "    <tr>\n",
              "      <th>0</th>\n",
              "      <td>0</td>\n",
              "      <td>0</td>\n",
              "      <td>2016-01-01 00:00:00</td>\n",
              "      <td>0.0</td>\n",
              "      <td>0</td>\n",
              "      <td>0</td>\n",
              "      <td>8.913550</td>\n",
              "      <td>0.900164</td>\n",
              "      <td>0.900164</td>\n",
              "      <td>0.0</td>\n",
              "    </tr>\n",
              "    <tr>\n",
              "      <th>1</th>\n",
              "      <td>1</td>\n",
              "      <td>0</td>\n",
              "      <td>2016-01-01 00:00:00</td>\n",
              "      <td>0.0</td>\n",
              "      <td>0</td>\n",
              "      <td>0</td>\n",
              "      <td>7.908387</td>\n",
              "      <td>0.900164</td>\n",
              "      <td>0.900164</td>\n",
              "      <td>0.0</td>\n",
              "    </tr>\n",
              "    <tr>\n",
              "      <th>2</th>\n",
              "      <td>2</td>\n",
              "      <td>0</td>\n",
              "      <td>2016-01-01 00:00:00</td>\n",
              "      <td>0.0</td>\n",
              "      <td>0</td>\n",
              "      <td>0</td>\n",
              "      <td>8.589700</td>\n",
              "      <td>0.900164</td>\n",
              "      <td>0.900164</td>\n",
              "      <td>0.0</td>\n",
              "    </tr>\n",
              "    <tr>\n",
              "      <th>3</th>\n",
              "      <td>3</td>\n",
              "      <td>0</td>\n",
              "      <td>2016-01-01 00:00:00</td>\n",
              "      <td>0.0</td>\n",
              "      <td>0</td>\n",
              "      <td>0</td>\n",
              "      <td>10.072597</td>\n",
              "      <td>0.900164</td>\n",
              "      <td>0.900164</td>\n",
              "      <td>0.0</td>\n",
              "    </tr>\n",
              "    <tr>\n",
              "      <th>4</th>\n",
              "      <td>4</td>\n",
              "      <td>0</td>\n",
              "      <td>2016-01-01 00:00:00</td>\n",
              "      <td>0.0</td>\n",
              "      <td>0</td>\n",
              "      <td>0</td>\n",
              "      <td>11.666565</td>\n",
              "      <td>0.900164</td>\n",
              "      <td>0.900164</td>\n",
              "      <td>0.0</td>\n",
              "    </tr>\n",
              "  </tbody>\n",
              "</table>\n",
              "</div>"
            ],
            "text/plain": [
              "   building_id  meter  ... dew_temperature  wind_speed\n",
              "0            0      0  ...        0.900164         0.0\n",
              "1            1      0  ...        0.900164         0.0\n",
              "2            2      0  ...        0.900164         0.0\n",
              "3            3      0  ...        0.900164         0.0\n",
              "4            4      0  ...        0.900164         0.0\n",
              "\n",
              "[5 rows x 10 columns]"
            ]
          },
          "metadata": {
            "tags": []
          },
          "execution_count": 6
        }
      ]
    },
    {
      "cell_type": "markdown",
      "metadata": {
        "id": "lqWjrAvxuXV2",
        "colab_type": "text"
      },
      "source": [
        "### Delete 'building_id' and 'site_id' from Train data"
      ]
    },
    {
      "cell_type": "code",
      "metadata": {
        "id": "zxT3LKJJEz4Q",
        "colab_type": "code",
        "colab": {}
      },
      "source": [
        "del train['building_id'] \n",
        "del train['site_id']"
      ],
      "execution_count": 0,
      "outputs": []
    },
    {
      "cell_type": "code",
      "metadata": {
        "id": "t64gikkzGnQy",
        "colab_type": "code",
        "outputId": "0a67855e-fecc-4415-be41-d26d7941980f",
        "colab": {
          "base_uri": "https://localhost:8080/",
          "height": 197
        }
      },
      "source": [
        "train.head()"
      ],
      "execution_count": 0,
      "outputs": [
        {
          "output_type": "execute_result",
          "data": {
            "text/html": [
              "<div>\n",
              "<style scoped>\n",
              "    .dataframe tbody tr th:only-of-type {\n",
              "        vertical-align: middle;\n",
              "    }\n",
              "\n",
              "    .dataframe tbody tr th {\n",
              "        vertical-align: top;\n",
              "    }\n",
              "\n",
              "    .dataframe thead th {\n",
              "        text-align: right;\n",
              "    }\n",
              "</style>\n",
              "<table border=\"1\" class=\"dataframe\">\n",
              "  <thead>\n",
              "    <tr style=\"text-align: right;\">\n",
              "      <th></th>\n",
              "      <th>meter</th>\n",
              "      <th>timestamp</th>\n",
              "      <th>meter_reading</th>\n",
              "      <th>primary_use</th>\n",
              "      <th>square_feet</th>\n",
              "      <th>air_temperature</th>\n",
              "      <th>dew_temperature</th>\n",
              "      <th>wind_speed</th>\n",
              "    </tr>\n",
              "  </thead>\n",
              "  <tbody>\n",
              "    <tr>\n",
              "      <th>0</th>\n",
              "      <td>0</td>\n",
              "      <td>2016-01-01 00:00:00</td>\n",
              "      <td>0.0</td>\n",
              "      <td>0</td>\n",
              "      <td>8.913550</td>\n",
              "      <td>0.900164</td>\n",
              "      <td>0.900164</td>\n",
              "      <td>0.0</td>\n",
              "    </tr>\n",
              "    <tr>\n",
              "      <th>1</th>\n",
              "      <td>0</td>\n",
              "      <td>2016-01-01 00:00:00</td>\n",
              "      <td>0.0</td>\n",
              "      <td>0</td>\n",
              "      <td>7.908387</td>\n",
              "      <td>0.900164</td>\n",
              "      <td>0.900164</td>\n",
              "      <td>0.0</td>\n",
              "    </tr>\n",
              "    <tr>\n",
              "      <th>2</th>\n",
              "      <td>0</td>\n",
              "      <td>2016-01-01 00:00:00</td>\n",
              "      <td>0.0</td>\n",
              "      <td>0</td>\n",
              "      <td>8.589700</td>\n",
              "      <td>0.900164</td>\n",
              "      <td>0.900164</td>\n",
              "      <td>0.0</td>\n",
              "    </tr>\n",
              "    <tr>\n",
              "      <th>3</th>\n",
              "      <td>0</td>\n",
              "      <td>2016-01-01 00:00:00</td>\n",
              "      <td>0.0</td>\n",
              "      <td>0</td>\n",
              "      <td>10.072597</td>\n",
              "      <td>0.900164</td>\n",
              "      <td>0.900164</td>\n",
              "      <td>0.0</td>\n",
              "    </tr>\n",
              "    <tr>\n",
              "      <th>4</th>\n",
              "      <td>0</td>\n",
              "      <td>2016-01-01 00:00:00</td>\n",
              "      <td>0.0</td>\n",
              "      <td>0</td>\n",
              "      <td>11.666565</td>\n",
              "      <td>0.900164</td>\n",
              "      <td>0.900164</td>\n",
              "      <td>0.0</td>\n",
              "    </tr>\n",
              "  </tbody>\n",
              "</table>\n",
              "</div>"
            ],
            "text/plain": [
              "   meter            timestamp  ...  dew_temperature  wind_speed\n",
              "0      0  2016-01-01 00:00:00  ...         0.900164         0.0\n",
              "1      0  2016-01-01 00:00:00  ...         0.900164         0.0\n",
              "2      0  2016-01-01 00:00:00  ...         0.900164         0.0\n",
              "3      0  2016-01-01 00:00:00  ...         0.900164         0.0\n",
              "4      0  2016-01-01 00:00:00  ...         0.900164         0.0\n",
              "\n",
              "[5 rows x 8 columns]"
            ]
          },
          "metadata": {
            "tags": []
          },
          "execution_count": 8
        }
      ]
    },
    {
      "cell_type": "code",
      "metadata": {
        "id": "srP6QP5xU7Oc",
        "colab_type": "code",
        "colab": {}
      },
      "source": [
        "train['timestamp']=pd.to_datetime(train['timestamp'])"
      ],
      "execution_count": 0,
      "outputs": []
    },
    {
      "cell_type": "code",
      "metadata": {
        "id": "-ESGdyL2GtU8",
        "colab_type": "code",
        "colab": {}
      },
      "source": [
        "train=train.sort_values(by=['timestamp'])"
      ],
      "execution_count": 0,
      "outputs": []
    },
    {
      "cell_type": "markdown",
      "metadata": {
        "id": "lVv_tcppum17",
        "colab_type": "text"
      },
      "source": [
        "### Apply log normalization to target variable"
      ]
    },
    {
      "cell_type": "code",
      "metadata": {
        "id": "dM6E_RP0HR98",
        "colab_type": "code",
        "colab": {}
      },
      "source": [
        "target=train['meter_reading'].apply(lambda x: np.log(x+1))"
      ],
      "execution_count": 0,
      "outputs": []
    },
    {
      "cell_type": "code",
      "metadata": {
        "id": "PV8ZKMmJMglY",
        "colab_type": "code",
        "outputId": "9edc116a-4e29-4e99-829e-f409982f78ce",
        "colab": {
          "base_uri": "https://localhost:8080/",
          "height": 230
        }
      },
      "source": [
        "target"
      ],
      "execution_count": 0,
      "outputs": [
        {
          "output_type": "execute_result",
          "data": {
            "text/plain": [
              "0           0.000000\n",
              "1543        0.000000\n",
              "1542        4.965226\n",
              "1541        3.791459\n",
              "1540        8.081902\n",
              "              ...   \n",
              "20214523    1.246314\n",
              "20214524    2.737771\n",
              "20214525    3.899394\n",
              "20214509    0.810930\n",
              "20216099    1.348073\n",
              "Name: meter_reading, Length: 20216100, dtype: float64"
            ]
          },
          "metadata": {
            "tags": []
          },
          "execution_count": 12
        }
      ]
    },
    {
      "cell_type": "markdown",
      "metadata": {
        "id": "4jsZyd_6vJ1q",
        "colab_type": "text"
      },
      "source": [
        "### Split data into train and test"
      ]
    },
    {
      "cell_type": "code",
      "metadata": {
        "id": "s5piTX3qMhyZ",
        "colab_type": "code",
        "colab": {}
      },
      "source": [
        "X=train[['meter',\t'primary_use'\t,'square_feet',\t'air_temperature',\t'dew_temperature',\t'wind_speed']]"
      ],
      "execution_count": 0,
      "outputs": []
    },
    {
      "cell_type": "code",
      "metadata": {
        "id": "cPFTjWMNOMC9",
        "colab_type": "code",
        "outputId": "ea5b2f66-5cf5-4d7e-d642-b69cce4d4759",
        "colab": {
          "base_uri": "https://localhost:8080/",
          "height": 197
        }
      },
      "source": [
        "X.head()"
      ],
      "execution_count": 0,
      "outputs": [
        {
          "output_type": "execute_result",
          "data": {
            "text/html": [
              "<div>\n",
              "<style scoped>\n",
              "    .dataframe tbody tr th:only-of-type {\n",
              "        vertical-align: middle;\n",
              "    }\n",
              "\n",
              "    .dataframe tbody tr th {\n",
              "        vertical-align: top;\n",
              "    }\n",
              "\n",
              "    .dataframe thead th {\n",
              "        text-align: right;\n",
              "    }\n",
              "</style>\n",
              "<table border=\"1\" class=\"dataframe\">\n",
              "  <thead>\n",
              "    <tr style=\"text-align: right;\">\n",
              "      <th></th>\n",
              "      <th>meter</th>\n",
              "      <th>primary_use</th>\n",
              "      <th>square_feet</th>\n",
              "      <th>air_temperature</th>\n",
              "      <th>dew_temperature</th>\n",
              "      <th>wind_speed</th>\n",
              "    </tr>\n",
              "  </thead>\n",
              "  <tbody>\n",
              "    <tr>\n",
              "      <th>0</th>\n",
              "      <td>0</td>\n",
              "      <td>0</td>\n",
              "      <td>8.913550</td>\n",
              "      <td>0.900164</td>\n",
              "      <td>0.900164</td>\n",
              "      <td>0.000000</td>\n",
              "    </tr>\n",
              "    <tr>\n",
              "      <th>1543</th>\n",
              "      <td>1</td>\n",
              "      <td>6</td>\n",
              "      <td>12.204682</td>\n",
              "      <td>0.373159</td>\n",
              "      <td>0.373159</td>\n",
              "      <td>0.215789</td>\n",
              "    </tr>\n",
              "    <tr>\n",
              "      <th>1542</th>\n",
              "      <td>0</td>\n",
              "      <td>6</td>\n",
              "      <td>12.204682</td>\n",
              "      <td>0.373159</td>\n",
              "      <td>0.373159</td>\n",
              "      <td>0.215789</td>\n",
              "    </tr>\n",
              "    <tr>\n",
              "      <th>1541</th>\n",
              "      <td>0</td>\n",
              "      <td>5</td>\n",
              "      <td>10.081759</td>\n",
              "      <td>0.373159</td>\n",
              "      <td>0.373159</td>\n",
              "      <td>0.215789</td>\n",
              "    </tr>\n",
              "    <tr>\n",
              "      <th>1540</th>\n",
              "      <td>2</td>\n",
              "      <td>4</td>\n",
              "      <td>11.375811</td>\n",
              "      <td>0.373159</td>\n",
              "      <td>0.373159</td>\n",
              "      <td>0.215789</td>\n",
              "    </tr>\n",
              "  </tbody>\n",
              "</table>\n",
              "</div>"
            ],
            "text/plain": [
              "      meter  primary_use  ...  dew_temperature  wind_speed\n",
              "0         0            0  ...         0.900164    0.000000\n",
              "1543      1            6  ...         0.373159    0.215789\n",
              "1542      0            6  ...         0.373159    0.215789\n",
              "1541      0            5  ...         0.373159    0.215789\n",
              "1540      2            4  ...         0.373159    0.215789\n",
              "\n",
              "[5 rows x 6 columns]"
            ]
          },
          "metadata": {
            "tags": []
          },
          "execution_count": 14
        }
      ]
    },
    {
      "cell_type": "code",
      "metadata": {
        "id": "91sVF7U9OOM5",
        "colab_type": "code",
        "colab": {}
      },
      "source": [
        "X_train,X_test,Y_train,Y_test=train_test_split(X,target,test_size = 0.3, random_state=0)"
      ],
      "execution_count": 0,
      "outputs": []
    },
    {
      "cell_type": "markdown",
      "metadata": {
        "id": "zGyVqHCbvhUY",
        "colab_type": "text"
      },
      "source": [
        "## **Exploring different Models**"
      ]
    },
    {
      "cell_type": "markdown",
      "metadata": {
        "id": "Not-pW57wZ-z",
        "colab_type": "text"
      },
      "source": [
        "### 5 Dense layers model"
      ]
    },
    {
      "cell_type": "code",
      "metadata": {
        "id": "EESKamhoQpR3",
        "colab_type": "code",
        "outputId": "ab2baf5b-3eb1-4fbd-e7dc-52d313381d0b",
        "colab": {
          "base_uri": "https://localhost:8080/",
          "height": 183
        }
      },
      "source": [
        "NN_model = Sequential()\n",
        "\n",
        "# The Input Layer :\n",
        "NN_model.add(Dense(128, kernel_initializer='normal',input_dim = X_train.shape[1], activation='relu'))\n",
        "\n",
        "# The Hidden Layers :\n",
        "NN_model.add(Dense(256, kernel_initializer='normal',activation='relu'))\n",
        "NN_model.add(Dense(256, kernel_initializer='normal',activation='relu'))\n",
        "NN_model.add(Dense(256, kernel_initializer='normal',activation='relu'))\n",
        "\n",
        "# The Output Layer :\n",
        "NN_model.add(Dense(1, kernel_initializer='normal',activation='linear'))\n",
        "\n",
        "# Compile the network :\n",
        "NN_model.compile(loss='mean_absolute_error', optimizer='adam', metrics=['accuracy'])"
      ],
      "execution_count": 0,
      "outputs": [
        {
          "output_type": "stream",
          "text": [
            "WARNING:tensorflow:From /usr/local/lib/python3.6/dist-packages/keras/backend/tensorflow_backend.py:66: The name tf.get_default_graph is deprecated. Please use tf.compat.v1.get_default_graph instead.\n",
            "\n",
            "WARNING:tensorflow:From /usr/local/lib/python3.6/dist-packages/keras/backend/tensorflow_backend.py:541: The name tf.placeholder is deprecated. Please use tf.compat.v1.placeholder instead.\n",
            "\n",
            "WARNING:tensorflow:From /usr/local/lib/python3.6/dist-packages/keras/backend/tensorflow_backend.py:4409: The name tf.random_normal is deprecated. Please use tf.random.normal instead.\n",
            "\n",
            "WARNING:tensorflow:From /usr/local/lib/python3.6/dist-packages/keras/optimizers.py:793: The name tf.train.Optimizer is deprecated. Please use tf.compat.v1.train.Optimizer instead.\n",
            "\n"
          ],
          "name": "stdout"
        }
      ]
    },
    {
      "cell_type": "code",
      "metadata": {
        "id": "479BhNivSpeB",
        "colab_type": "code",
        "outputId": "3c1efd49-61e4-4a1d-9995-8d0dd556fb67",
        "colab": {
          "base_uri": "https://localhost:8080/",
          "height": 1000
        }
      },
      "source": [
        "%%time\n",
        "history=NN_model.fit(X_train,Y_train,validation_data=(X_test,Y_test), epochs=50, batch_size=64000,shuffle=True)\n"
      ],
      "execution_count": 0,
      "outputs": [
        {
          "output_type": "stream",
          "text": [
            "WARNING:tensorflow:From /usr/local/lib/python3.6/dist-packages/keras/backend/tensorflow_backend.py:1033: The name tf.assign_add is deprecated. Please use tf.compat.v1.assign_add instead.\n",
            "\n",
            "WARNING:tensorflow:From /usr/local/lib/python3.6/dist-packages/keras/backend/tensorflow_backend.py:1020: The name tf.assign is deprecated. Please use tf.compat.v1.assign instead.\n",
            "\n",
            "WARNING:tensorflow:From /usr/local/lib/python3.6/dist-packages/keras/backend/tensorflow_backend.py:3005: The name tf.Session is deprecated. Please use tf.compat.v1.Session instead.\n",
            "\n",
            "Train on 14151270 samples, validate on 6064830 samples\n",
            "Epoch 1/50\n",
            "WARNING:tensorflow:From /usr/local/lib/python3.6/dist-packages/keras/backend/tensorflow_backend.py:190: The name tf.get_default_session is deprecated. Please use tf.compat.v1.get_default_session instead.\n",
            "\n",
            "WARNING:tensorflow:From /usr/local/lib/python3.6/dist-packages/keras/backend/tensorflow_backend.py:197: The name tf.ConfigProto is deprecated. Please use tf.compat.v1.ConfigProto instead.\n",
            "\n",
            "WARNING:tensorflow:From /usr/local/lib/python3.6/dist-packages/keras/backend/tensorflow_backend.py:207: The name tf.global_variables is deprecated. Please use tf.compat.v1.global_variables instead.\n",
            "\n",
            "WARNING:tensorflow:From /usr/local/lib/python3.6/dist-packages/keras/backend/tensorflow_backend.py:216: The name tf.is_variable_initialized is deprecated. Please use tf.compat.v1.is_variable_initialized instead.\n",
            "\n",
            "WARNING:tensorflow:From /usr/local/lib/python3.6/dist-packages/keras/backend/tensorflow_backend.py:223: The name tf.variables_initializer is deprecated. Please use tf.compat.v1.variables_initializer instead.\n",
            "\n",
            "14151270/14151270 [==============================] - 22s 2us/step - loss: 1.5261 - acc: 0.0012 - val_loss: 1.3286 - val_acc: 3.2317e-05\n",
            "Epoch 2/50\n",
            "14151270/14151270 [==============================] - 12s 1us/step - loss: 1.2816 - acc: 1.0621e-04 - val_loss: 1.2552 - val_acc: 6.9911e-05\n",
            "Epoch 3/50\n",
            "14151270/14151270 [==============================] - 13s 1us/step - loss: 1.2404 - acc: 1.7165e-04 - val_loss: 1.2254 - val_acc: 1.9390e-04\n",
            "Epoch 4/50\n",
            "14151270/14151270 [==============================] - 12s 1us/step - loss: 1.2240 - acc: 1.9673e-04 - val_loss: 1.2302 - val_acc: 1.0058e-04\n",
            "Epoch 5/50\n",
            "14151270/14151270 [==============================] - 12s 1us/step - loss: 1.2148 - acc: 2.2938e-04 - val_loss: 1.2110 - val_acc: 3.7759e-04\n",
            "Epoch 6/50\n",
            "14151270/14151270 [==============================] - 12s 1us/step - loss: 1.2069 - acc: 3.2534e-04 - val_loss: 1.2166 - val_acc: 1.1987e-04\n",
            "Epoch 7/50\n",
            "14151270/14151270 [==============================] - 12s 1us/step - loss: 1.2010 - acc: 5.4787e-04 - val_loss: 1.1968 - val_acc: 7.4165e-04\n",
            "Epoch 8/50\n",
            "14151270/14151270 [==============================] - 13s 1us/step - loss: 1.1985 - acc: 8.9017e-04 - val_loss: 1.1924 - val_acc: 0.0012\n",
            "Epoch 9/50\n",
            "14151270/14151270 [==============================] - 12s 1us/step - loss: 1.1940 - acc: 0.0013 - val_loss: 1.1918 - val_acc: 0.0012\n",
            "Epoch 10/50\n",
            "14151270/14151270 [==============================] - 12s 1us/step - loss: 1.1896 - acc: 0.0015 - val_loss: 1.1851 - val_acc: 0.0016\n",
            "Epoch 11/50\n",
            "14151270/14151270 [==============================] - 12s 1us/step - loss: 1.1875 - acc: 0.0016 - val_loss: 1.2038 - val_acc: 0.0023\n",
            "Epoch 12/50\n",
            "14151270/14151270 [==============================] - 12s 1us/step - loss: 1.1855 - acc: 0.0017 - val_loss: 1.1864 - val_acc: 0.0020\n",
            "Epoch 13/50\n",
            "14151270/14151270 [==============================] - 12s 1us/step - loss: 1.1817 - acc: 0.0018 - val_loss: 1.1780 - val_acc: 0.0019\n",
            "Epoch 14/50\n",
            "14151270/14151270 [==============================] - 12s 1us/step - loss: 1.1813 - acc: 0.0018 - val_loss: 1.1945 - val_acc: 0.0013\n",
            "Epoch 15/50\n",
            "14151270/14151270 [==============================] - 12s 1us/step - loss: 1.1786 - acc: 0.0019 - val_loss: 1.1745 - val_acc: 0.0023\n",
            "Epoch 16/50\n",
            "14151270/14151270 [==============================] - 12s 1us/step - loss: 1.1772 - acc: 0.0020 - val_loss: 1.1746 - val_acc: 0.0018\n",
            "Epoch 17/50\n",
            "14151270/14151270 [==============================] - 12s 1us/step - loss: 1.1767 - acc: 0.0020 - val_loss: 1.1746 - val_acc: 0.0023\n",
            "Epoch 18/50\n",
            "14151270/14151270 [==============================] - 12s 1us/step - loss: 1.1735 - acc: 0.0021 - val_loss: 1.1697 - val_acc: 0.0022\n",
            "Epoch 19/50\n",
            "14151270/14151270 [==============================] - 12s 1us/step - loss: 1.1729 - acc: 0.0021 - val_loss: 1.1766 - val_acc: 0.0023\n",
            "Epoch 20/50\n",
            "14151270/14151270 [==============================] - 12s 1us/step - loss: 1.1720 - acc: 0.0022 - val_loss: 1.1718 - val_acc: 0.0022\n",
            "Epoch 21/50\n",
            "14151270/14151270 [==============================] - 12s 1us/step - loss: 1.1702 - acc: 0.0022 - val_loss: 1.1690 - val_acc: 0.0024\n",
            "Epoch 22/50\n",
            "14151270/14151270 [==============================] - 12s 1us/step - loss: 1.1685 - acc: 0.0023 - val_loss: 1.1834 - val_acc: 0.0029\n",
            "Epoch 23/50\n",
            "14151270/14151270 [==============================] - 12s 1us/step - loss: 1.1690 - acc: 0.0023 - val_loss: 1.1643 - val_acc: 0.0020\n",
            "Epoch 24/50\n",
            "14151270/14151270 [==============================] - 12s 1us/step - loss: 1.1662 - acc: 0.0024 - val_loss: 1.1705 - val_acc: 0.0020\n",
            "Epoch 25/50\n",
            "14151270/14151270 [==============================] - 12s 1us/step - loss: 1.1653 - acc: 0.0024 - val_loss: 1.1611 - val_acc: 0.0026\n",
            "Epoch 26/50\n",
            "14151270/14151270 [==============================] - 12s 1us/step - loss: 1.1637 - acc: 0.0026 - val_loss: 1.1619 - val_acc: 0.0020\n",
            "Epoch 27/50\n",
            "14151270/14151270 [==============================] - 12s 1us/step - loss: 1.1628 - acc: 0.0026 - val_loss: 1.1588 - val_acc: 0.0026\n",
            "Epoch 28/50\n",
            "14151270/14151270 [==============================] - 12s 1us/step - loss: 1.1617 - acc: 0.0027 - val_loss: 1.1584 - val_acc: 0.0029\n",
            "Epoch 29/50\n",
            "14151270/14151270 [==============================] - 12s 1us/step - loss: 1.1603 - acc: 0.0028 - val_loss: 1.1613 - val_acc: 0.0021\n",
            "Epoch 30/50\n",
            "14151270/14151270 [==============================] - 12s 1us/step - loss: 1.1580 - acc: 0.0029 - val_loss: 1.1556 - val_acc: 0.0027\n",
            "Epoch 31/50\n",
            "14151270/14151270 [==============================] - 12s 1us/step - loss: 1.1588 - acc: 0.0030 - val_loss: 1.1769 - val_acc: 0.0034\n",
            "Epoch 32/50\n",
            "14151270/14151270 [==============================] - 12s 1us/step - loss: 1.1553 - acc: 0.0031 - val_loss: 1.1690 - val_acc: 0.0027\n",
            "Epoch 33/50\n",
            "14151270/14151270 [==============================] - 12s 1us/step - loss: 1.1555 - acc: 0.0033 - val_loss: 1.1547 - val_acc: 0.0041\n",
            "Epoch 34/50\n",
            "14151270/14151270 [==============================] - 12s 1us/step - loss: 1.1535 - acc: 0.0035 - val_loss: 1.1508 - val_acc: 0.0031\n",
            "Epoch 35/50\n",
            "14151270/14151270 [==============================] - 12s 1us/step - loss: 1.1527 - acc: 0.0036 - val_loss: 1.1487 - val_acc: 0.0037\n",
            "Epoch 36/50\n",
            "14151270/14151270 [==============================] - 12s 1us/step - loss: 1.1515 - acc: 0.0037 - val_loss: 1.1504 - val_acc: 0.0040\n",
            "Epoch 37/50\n",
            "14151270/14151270 [==============================] - 12s 1us/step - loss: 1.1498 - acc: 0.0039 - val_loss: 1.1522 - val_acc: 0.0050\n",
            "Epoch 38/50\n",
            "14151270/14151270 [==============================] - 12s 1us/step - loss: 1.1501 - acc: 0.0039 - val_loss: 1.1510 - val_acc: 0.0038\n",
            "Epoch 39/50\n",
            "14151270/14151270 [==============================] - 12s 1us/step - loss: 1.1478 - acc: 0.0040 - val_loss: 1.1475 - val_acc: 0.0040\n",
            "Epoch 40/50\n",
            "14151270/14151270 [==============================] - 12s 1us/step - loss: 1.1483 - acc: 0.0041 - val_loss: 1.1485 - val_acc: 0.0032\n",
            "Epoch 41/50\n",
            "14151270/14151270 [==============================] - 12s 1us/step - loss: 1.1472 - acc: 0.0041 - val_loss: 1.1492 - val_acc: 0.0052\n",
            "Epoch 42/50\n",
            "14151270/14151270 [==============================] - 12s 1us/step - loss: 1.1457 - acc: 0.0042 - val_loss: 1.1470 - val_acc: 0.0033\n",
            "Epoch 43/50\n",
            "14151270/14151270 [==============================] - 12s 1us/step - loss: 1.1449 - acc: 0.0042 - val_loss: 1.1443 - val_acc: 0.0037\n",
            "Epoch 44/50\n",
            "14151270/14151270 [==============================] - 12s 1us/step - loss: 1.1442 - acc: 0.0043 - val_loss: 1.1447 - val_acc: 0.0044\n",
            "Epoch 45/50\n",
            "14151270/14151270 [==============================] - 12s 1us/step - loss: 1.1435 - acc: 0.0044 - val_loss: 1.1450 - val_acc: 0.0053\n",
            "Epoch 46/50\n",
            "14151270/14151270 [==============================] - 12s 1us/step - loss: 1.1426 - acc: 0.0044 - val_loss: 1.1410 - val_acc: 0.0044\n",
            "Epoch 47/50\n",
            "14151270/14151270 [==============================] - 12s 1us/step - loss: 1.1415 - acc: 0.0045 - val_loss: 1.1405 - val_acc: 0.0049\n",
            "Epoch 48/50\n",
            "14151270/14151270 [==============================] - 12s 1us/step - loss: 1.1413 - acc: 0.0045 - val_loss: 1.1399 - val_acc: 0.0044\n",
            "Epoch 49/50\n",
            "14151270/14151270 [==============================] - 12s 1us/step - loss: 1.1402 - acc: 0.0046 - val_loss: 1.1679 - val_acc: 0.0026\n",
            "Epoch 50/50\n",
            "14151270/14151270 [==============================] - 12s 1us/step - loss: 1.1390 - acc: 0.0047 - val_loss: 1.1519 - val_acc: 0.0052\n",
            "CPU times: user 8min 41s, sys: 1min 12s, total: 9min 53s\n",
            "Wall time: 10min 18s\n"
          ],
          "name": "stdout"
        }
      ]
    },
    {
      "cell_type": "code",
      "metadata": {
        "id": "AWt56EEvTNsd",
        "colab_type": "code",
        "outputId": "692513a7-7bc9-4168-a898-1270d919e976",
        "colab": {
          "base_uri": "https://localhost:8080/",
          "height": 281
        }
      },
      "source": [
        "loss = history.history['loss']\n",
        "val_loss = history.history['val_loss']\n",
        "epochs = range(1, len(loss) + 1)\n",
        "plt.figure()\n",
        "plt.plot(epochs, loss, 'b', label='Training loss')\n",
        "plt.plot(epochs, val_loss, 'r', label='Validation loss')\n",
        "plt.title('Training and validation loss')\n",
        "plt.legend()\n",
        "plt.show()"
      ],
      "execution_count": 0,
      "outputs": [
        {
          "output_type": "display_data",
          "data": {
            "image/png": "[encoded data removed]",
            "text/plain": [
              "<Figure size 432x288 with 1 Axes>"
            ]
          },
          "metadata": {
            "tags": []
          }
        }
      ]
    },
    {
      "cell_type": "code",
      "metadata": {
        "id": "wOdb_5LAwvTr",
        "colab_type": "code",
        "outputId": "57886db8-13a4-4912-d8cd-743d4f5f508e",
        "colab": {
          "base_uri": "https://localhost:8080/",
          "height": 281
        }
      },
      "source": [
        "acc = history.history['acc']\n",
        "val_acc = history.history['val_acc']\n",
        "epochs = range(1, len(loss) + 1)\n",
        "plt.figure()\n",
        "plt.plot(epochs, acc, 'b', label='Training accuracy')\n",
        "plt.plot(epochs, val_acc, 'r', label='Validation accuracy')\n",
        "plt.title('Training and validation accuracy')\n",
        "plt.legend()\n",
        "plt.show()"
      ],
      "execution_count": 0,
      "outputs": [
        {
          "output_type": "display_data",
          "data": {
            "image/png": "[encoded data removed]",
            "text/plain": [
              "<Figure size 432x288 with 1 Axes>"
            ]
          },
          "metadata": {
            "tags": []
          }
        }
      ]
    },
    {
      "cell_type": "markdown",
      "metadata": {
        "id": "-W-zCxWxFexO",
        "colab_type": "text"
      },
      "source": [
        "### 3 Dense layers model"
      ]
    },
    {
      "cell_type": "code",
      "metadata": {
        "id": "X5dOqQnZTY1a",
        "colab_type": "code",
        "outputId": "1abc5185-b690-4521-d527-e268df5c7594",
        "colab": {
          "base_uri": "https://localhost:8080/",
          "height": 74
        }
      },
      "source": [
        "model = Sequential()\n",
        "model.add(Dense(12, input_dim=X_train.shape[1], kernel_initializer='normal', activation='relu'))\n",
        "model.add(Dense(8, activation='relu'))\n",
        "model.add(Dense(1, activation='linear'))\n",
        "model.compile(loss='mse', optimizer='adam', metrics=['accuracy'])\n"
      ],
      "execution_count": 0,
      "outputs": [
        {
          "output_type": "stream",
          "text": [
            "WARNING:tensorflow:From /usr/local/lib/python3.6/dist-packages/keras/backend/tensorflow_backend.py:4432: The name tf.random_uniform is deprecated. Please use tf.random.uniform instead.\n",
            "\n"
          ],
          "name": "stdout"
        }
      ]
    },
    {
      "cell_type": "code",
      "metadata": {
        "id": "DX9NW_GXd6v3",
        "colab_type": "code",
        "outputId": "175d5816-929e-4760-ff6b-c3de8e1244fb",
        "colab": {
          "base_uri": "https://localhost:8080/",
          "height": 1000
        }
      },
      "source": [
        "hist = model.fit(X_train, Y_train,validation_data=(X_test,Y_test), epochs=50, batch_size=6400)"
      ],
      "execution_count": 0,
      "outputs": [
        {
          "output_type": "stream",
          "text": [
            "Train on 14151270 samples, validate on 6064830 samples\n",
            "Epoch 1/50\n",
            "14151270/14151270 [==============================] - 14s 1us/step - loss: 3.4113 - acc: 2.6492e-04 - val_loss: 3.4073 - val_acc: 2.9267e-04\n",
            "Epoch 2/50\n",
            "14151270/14151270 [==============================] - 14s 1us/step - loss: 3.4075 - acc: 2.6824e-04 - val_loss: 3.4075 - val_acc: 3.1839e-04\n",
            "Epoch 3/50\n",
            "14151270/14151270 [==============================] - 14s 1us/step - loss: 3.4049 - acc: 2.5969e-04 - val_loss: 3.4004 - val_acc: 2.5063e-04\n",
            "Epoch 4/50\n",
            "14151270/14151270 [==============================] - 14s 1us/step - loss: 3.4031 - acc: 2.3708e-04 - val_loss: 3.3992 - val_acc: 2.1682e-04\n",
            "Epoch 5/50\n",
            "14151270/14151270 [==============================] - 14s 1us/step - loss: 3.4020 - acc: 2.0804e-04 - val_loss: 3.3998 - val_acc: 2.1320e-04\n",
            "Epoch 6/50\n",
            "14151270/14151270 [==============================] - 14s 1us/step - loss: 3.3977 - acc: 1.5285e-04 - val_loss: 3.3814 - val_acc: 8.4751e-05\n",
            "Epoch 7/50\n",
            "14151270/14151270 [==============================] - 14s 1us/step - loss: 3.2492 - acc: 1.6500e-04 - val_loss: 3.1601 - val_acc: 4.5723e-04\n",
            "Epoch 8/50\n",
            "14151270/14151270 [==============================] - 14s 1us/step - loss: 3.1497 - acc: 5.7550e-04 - val_loss: 3.1407 - val_acc: 5.7611e-04\n",
            "Epoch 9/50\n",
            "14151270/14151270 [==============================] - 14s 1us/step - loss: 3.1322 - acc: 5.9337e-04 - val_loss: 3.1273 - val_acc: 5.9342e-04\n",
            "Epoch 10/50\n",
            "14151270/14151270 [==============================] - 14s 1us/step - loss: 3.1194 - acc: 6.0786e-04 - val_loss: 3.1148 - val_acc: 6.2013e-04\n",
            "Epoch 11/50\n",
            "14151270/14151270 [==============================] - 14s 1us/step - loss: 3.1104 - acc: 6.2913e-04 - val_loss: 3.1050 - val_acc: 6.2920e-04\n",
            "Epoch 12/50\n",
            "14151270/14151270 [==============================] - 15s 1us/step - loss: 3.1051 - acc: 6.5238e-04 - val_loss: 3.1044 - val_acc: 6.3926e-04\n",
            "Epoch 13/50\n",
            "14151270/14151270 [==============================] - 14s 1us/step - loss: 3.1020 - acc: 6.6453e-04 - val_loss: 3.1047 - val_acc: 6.2656e-04\n",
            "Epoch 14/50\n",
            "14151270/14151270 [==============================] - 14s 1us/step - loss: 3.1004 - acc: 6.7259e-04 - val_loss: 3.1000 - val_acc: 5.6836e-04\n",
            "Epoch 15/50\n",
            "14151270/14151270 [==============================] - 14s 1us/step - loss: 3.0993 - acc: 6.8057e-04 - val_loss: 3.1095 - val_acc: 7.7100e-04\n",
            "Epoch 16/50\n",
            "14151270/14151270 [==============================] - 14s 1us/step - loss: 3.0987 - acc: 6.8241e-04 - val_loss: 3.1020 - val_acc: 5.4676e-04\n",
            "Epoch 17/50\n",
            "14151270/14151270 [==============================] - 14s 1us/step - loss: 3.0981 - acc: 6.8884e-04 - val_loss: 3.0989 - val_acc: 7.2335e-04\n",
            "Epoch 18/50\n",
            "14151270/14151270 [==============================] - 14s 1us/step - loss: 3.0981 - acc: 6.9089e-04 - val_loss: 3.1044 - val_acc: 7.6243e-04\n",
            "Epoch 19/50\n",
            "14151270/14151270 [==============================] - 14s 1us/step - loss: 3.0977 - acc: 6.9506e-04 - val_loss: 3.0954 - val_acc: 6.7537e-04\n",
            "Epoch 20/50\n",
            "14151270/14151270 [==============================] - 14s 1us/step - loss: 3.0972 - acc: 7.0234e-04 - val_loss: 3.0971 - val_acc: 5.8452e-04\n",
            "Epoch 21/50\n",
            "14151270/14151270 [==============================] - 14s 1us/step - loss: 3.0967 - acc: 7.0510e-04 - val_loss: 3.0941 - val_acc: 7.3094e-04\n",
            "Epoch 22/50\n",
            "14151270/14151270 [==============================] - 14s 1us/step - loss: 3.0962 - acc: 7.1322e-04 - val_loss: 3.0951 - val_acc: 6.6696e-04\n",
            "Epoch 23/50\n",
            "14151270/14151270 [==============================] - 14s 1us/step - loss: 3.0957 - acc: 7.1287e-04 - val_loss: 3.0937 - val_acc: 7.0010e-04\n",
            "Epoch 24/50\n",
            "14151270/14151270 [==============================] - 14s 1us/step - loss: 3.0956 - acc: 7.1054e-04 - val_loss: 3.0967 - val_acc: 6.1040e-04\n",
            "Epoch 25/50\n",
            "14151270/14151270 [==============================] - 14s 1us/step - loss: 3.0951 - acc: 7.1414e-04 - val_loss: 3.0941 - val_acc: 7.4660e-04\n",
            "Epoch 26/50\n",
            "14151270/14151270 [==============================] - 14s 1us/step - loss: 3.0954 - acc: 7.1379e-04 - val_loss: 3.0934 - val_acc: 6.8658e-04\n",
            "Epoch 27/50\n",
            "14151270/14151270 [==============================] - 14s 1us/step - loss: 3.0952 - acc: 7.0863e-04 - val_loss: 3.0979 - val_acc: 5.4313e-04\n",
            "Epoch 28/50\n",
            "14151270/14151270 [==============================] - 14s 1us/step - loss: 3.0948 - acc: 7.1994e-04 - val_loss: 3.0937 - val_acc: 7.4792e-04\n",
            "Epoch 29/50\n",
            "14151270/14151270 [==============================] - 14s 1us/step - loss: 3.0948 - acc: 7.1011e-04 - val_loss: 3.0998 - val_acc: 5.4330e-04\n",
            "Epoch 30/50\n",
            "14151270/14151270 [==============================] - 14s 1us/step - loss: 3.0944 - acc: 7.0905e-04 - val_loss: 3.0974 - val_acc: 7.6045e-04\n",
            "Epoch 31/50\n",
            "14151270/14151270 [==============================] - 14s 1us/step - loss: 3.0937 - acc: 6.6998e-04 - val_loss: 3.0913 - val_acc: 7.1577e-04\n",
            "Epoch 32/50\n",
            "14151270/14151270 [==============================] - 14s 1us/step - loss: 3.0932 - acc: 6.7358e-04 - val_loss: 3.0938 - val_acc: 7.3489e-04\n",
            "Epoch 33/50\n",
            "14151270/14151270 [==============================] - 14s 1us/step - loss: 3.0927 - acc: 6.6538e-04 - val_loss: 3.0921 - val_acc: 6.8114e-04\n",
            "Epoch 34/50\n",
            "14151270/14151270 [==============================] - 15s 1us/step - loss: 3.0922 - acc: 6.6503e-04 - val_loss: 3.0902 - val_acc: 6.8675e-04\n",
            "Epoch 35/50\n",
            "14151270/14151270 [==============================] - 14s 1us/step - loss: 3.0921 - acc: 6.5563e-04 - val_loss: 3.0930 - val_acc: 5.7396e-04\n",
            "Epoch 36/50\n",
            "14151270/14151270 [==============================] - 14s 1us/step - loss: 3.0917 - acc: 6.5323e-04 - val_loss: 3.0913 - val_acc: 6.1651e-04\n",
            "Epoch 37/50\n",
            "14151270/14151270 [==============================] - 14s 1us/step - loss: 3.0912 - acc: 6.4220e-04 - val_loss: 3.0915 - val_acc: 5.3324e-04\n",
            "Epoch 38/50\n",
            "14151270/14151270 [==============================] - 14s 1us/step - loss: 3.0907 - acc: 6.4030e-04 - val_loss: 3.0887 - val_acc: 5.5830e-04\n",
            "Epoch 39/50\n",
            "14151270/14151270 [==============================] - 14s 1us/step - loss: 3.0901 - acc: 6.3394e-04 - val_loss: 3.1009 - val_acc: 4.6217e-04\n",
            "Epoch 40/50\n",
            "14151270/14151270 [==============================] - 14s 1us/step - loss: 3.0894 - acc: 6.2659e-04 - val_loss: 3.0882 - val_acc: 6.9680e-04\n",
            "Epoch 41/50\n",
            "14151270/14151270 [==============================] - 14s 1us/step - loss: 3.0888 - acc: 6.2546e-04 - val_loss: 3.0891 - val_acc: 5.2780e-04\n",
            "Epoch 42/50\n",
            "14151270/14151270 [==============================] - 14s 1us/step - loss: 3.0882 - acc: 6.2609e-04 - val_loss: 3.0856 - val_acc: 6.2986e-04\n",
            "Epoch 43/50\n",
            "14151270/14151270 [==============================] - 14s 1us/step - loss: 3.0878 - acc: 6.2553e-04 - val_loss: 3.0859 - val_acc: 6.9367e-04\n",
            "Epoch 44/50\n",
            "14151270/14151270 [==============================] - 14s 1us/step - loss: 3.0871 - acc: 6.2468e-04 - val_loss: 3.0845 - val_acc: 6.3794e-04\n",
            "Epoch 45/50\n",
            "14151270/14151270 [==============================] - 14s 1us/step - loss: 3.0869 - acc: 6.2609e-04 - val_loss: 3.0855 - val_acc: 5.5484e-04\n",
            "Epoch 46/50\n",
            "14151270/14151270 [==============================] - 14s 1us/step - loss: 3.0865 - acc: 6.2383e-04 - val_loss: 3.0862 - val_acc: 6.3547e-04\n",
            "Epoch 47/50\n",
            "14151270/14151270 [==============================] - 14s 1us/step - loss: 3.0860 - acc: 6.3118e-04 - val_loss: 3.0850 - val_acc: 5.5731e-04\n",
            "Epoch 48/50\n",
            "14151270/14151270 [==============================] - 14s 1us/step - loss: 3.0856 - acc: 6.2546e-04 - val_loss: 3.0914 - val_acc: 5.0257e-04\n",
            "Epoch 49/50\n",
            "14151270/14151270 [==============================] - 14s 1us/step - loss: 3.0854 - acc: 6.2842e-04 - val_loss: 3.0853 - val_acc: 7.1247e-04\n",
            "Epoch 50/50\n",
            "14151270/14151270 [==============================] - 14s 1us/step - loss: 3.0848 - acc: 6.4143e-04 - val_loss: 3.0833 - val_acc: 6.5558e-04\n"
          ],
          "name": "stdout"
        }
      ]
    },
    {
      "cell_type": "code",
      "metadata": {
        "id": "MRCwLO4Xd6t-",
        "colab_type": "code",
        "outputId": "19a9733d-35de-417f-f208-2242b93a8c59",
        "colab": {
          "base_uri": "https://localhost:8080/",
          "height": 313
        }
      },
      "source": [
        "print(hist.history.keys())\n",
        "# \"Loss\"\n",
        "plt.plot(hist.history['loss'])\n",
        "plt.plot(hist.history['val_loss'])\n",
        "plt.title('model loss')\n",
        "plt.ylabel('loss')\n",
        "plt.xlabel('epoch')\n",
        "plt.legend(['train', 'validation'], loc='upper left')\n",
        "plt.show()"
      ],
      "execution_count": 0,
      "outputs": [
        {
          "output_type": "stream",
          "text": [
            "dict_keys(['val_loss', 'val_acc', 'loss', 'acc'])\n"
          ],
          "name": "stdout"
        },
        {
          "output_type": "display_data",
          "data": {
            "image/png": "[encoded data removed]",
            "text/plain": [
              "<Figure size 432x288 with 1 Axes>"
            ]
          },
          "metadata": {
            "tags": []
          }
        }
      ]
    },
    {
      "cell_type": "code",
      "metadata": {
        "id": "hpyN2aL7FHZE",
        "colab_type": "code",
        "outputId": "e160d037-e800-4ccb-9d27-e8fe049c39c0",
        "colab": {
          "base_uri": "https://localhost:8080/",
          "height": 295
        }
      },
      "source": [
        "plt.plot(hist.history['acc'])\n",
        "plt.plot(hist.history['val_acc'])\n",
        "plt.title('model accuracy')\n",
        "plt.ylabel('acc')\n",
        "plt.xlabel('epoch')\n",
        "plt.legend(['train', 'validation'], loc='upper left')\n",
        "plt.show()"
      ],
      "execution_count": 0,
      "outputs": [
        {
          "output_type": "display_data",
          "data": {
            "image/png": "[encoded data removed]",
            "text/plain": [
              "<Figure size 432x288 with 1 Axes>"
            ]
          },
          "metadata": {
            "tags": []
          }
        }
      ]
    },
    {
      "cell_type": "markdown",
      "metadata": {
        "id": "nL_z2DmOFRC3",
        "colab_type": "text"
      },
      "source": [
        "### GRU model"
      ]
    },
    {
      "cell_type": "code",
      "metadata": {
        "id": "d8H9nNEoMVgy",
        "colab_type": "code",
        "colab": {}
      },
      "source": [
        "x_train=X_train.to_numpy()\n",
        "y_train=Y_train.to_numpy()\n",
        "x_test=X_test.to_numpy()\n",
        "y_test=Y_test.to_numpy()"
      ],
      "execution_count": 0,
      "outputs": []
    },
    {
      "cell_type": "code",
      "metadata": {
        "id": "G4R_Rp6KLltR",
        "colab_type": "code",
        "colab": {}
      },
      "source": [
        "x_train=x_train.reshape((x_train.shape[0],x_train.shape[-1],1))\n",
        "y_train=y_train.reshape((y_train.shape[0],1))\n",
        "x_test=x_test.reshape((x_test.shape[0],x_test.shape[-1],1))\n",
        "y_test=y_test.reshape((y_test.shape[0],1))\n"
      ],
      "execution_count": 0,
      "outputs": []
    },
    {
      "cell_type": "code",
      "metadata": {
        "id": "-gVMbkiIR1z1",
        "colab_type": "code",
        "outputId": "ae572dbd-1a00-4dad-e00f-b330cac0dcc2",
        "colab": {
          "base_uri": "https://localhost:8080/",
          "height": 34
        }
      },
      "source": [
        "x_train.shape,y_train.shape, x_test.shape,y_test.shape"
      ],
      "execution_count": 0,
      "outputs": [
        {
          "output_type": "execute_result",
          "data": {
            "text/plain": [
              "((14151270, 6, 1), (14151270, 1), (6064830, 6, 1), (6064830, 1))"
            ]
          },
          "metadata": {
            "tags": []
          },
          "execution_count": 18
        }
      ]
    },
    {
      "cell_type": "code",
      "metadata": {
        "id": "X0FFAJqBKtYj",
        "colab_type": "code",
        "colab": {}
      },
      "source": [
        "from tensorflow.keras.metrics import RootMeanSquaredError"
      ],
      "execution_count": 0,
      "outputs": []
    },
    {
      "cell_type": "code",
      "metadata": {
        "id": "pYH2sagud6rF",
        "colab_type": "code",
        "colab": {}
      },
      "source": [
        "model = Sequential()\n",
        "model.add(GRU(32, \n",
        "               input_shape=( x_train.shape[1],1), \n",
        "               dropout=0.2,\n",
        "               recurrent_dropout= 0.2\n",
        "              ))\n",
        "model.add(Dense(1))\n",
        "\n",
        "model.compile(optimizer='adam', loss='mse',metrics=['accuracy'])"
      ],
      "execution_count": 0,
      "outputs": []
    },
    {
      "cell_type": "code",
      "metadata": {
        "id": "RrNcZb7MRrif",
        "colab_type": "code",
        "outputId": "ecba9240-5e29-4a98-816f-2ba40ea957d7",
        "colab": {
          "base_uri": "https://localhost:8080/",
          "height": 235
        }
      },
      "source": [
        "model.summary()"
      ],
      "execution_count": 0,
      "outputs": [
        {
          "output_type": "stream",
          "text": [
            "Model: \"sequential_3\"\n",
            "_________________________________________________________________\n",
            "Layer (type)                 Output Shape              Param #   \n",
            "=================================================================\n",
            "gru_1 (GRU)                  (None, 32)                3264      \n",
            "_________________________________________________________________\n",
            "dense_9 (Dense)              (None, 1)                 33        \n",
            "=================================================================\n",
            "Total params: 3,297\n",
            "Trainable params: 3,297\n",
            "Non-trainable params: 0\n",
            "_________________________________________________________________\n"
          ],
          "name": "stdout"
        }
      ]
    },
    {
      "cell_type": "code",
      "metadata": {
        "id": "BWh5h7BCCEaZ",
        "colab_type": "code",
        "outputId": "1d2c8429-980c-4ac1-b0f9-162c964f5db8",
        "colab": {
          "base_uri": "https://localhost:8080/",
          "height": 1000
        }
      },
      "source": [
        "\n",
        "history = model.fit(x_train,y_train,\n",
        "                              epochs=20, \n",
        "                              validation_data = (x_test,y_test), \n",
        "                              #steps_per_epoch=500,\n",
        "                              batch_size=6000)"
      ],
      "execution_count": 0,
      "outputs": [
        {
          "output_type": "stream",
          "text": [
            "WARNING:tensorflow:From /usr/local/lib/python3.6/dist-packages/tensorflow_core/python/ops/math_grad.py:1424: where (from tensorflow.python.ops.array_ops) is deprecated and will be removed in a future version.\n",
            "Instructions for updating:\n",
            "Use tf.where in 2.0, which has the same broadcast rule as np.where\n",
            "WARNING:tensorflow:From /usr/local/lib/python3.6/dist-packages/keras/backend/tensorflow_backend.py:1033: The name tf.assign_add is deprecated. Please use tf.compat.v1.assign_add instead.\n",
            "\n",
            "WARNING:tensorflow:From /usr/local/lib/python3.6/dist-packages/keras/backend/tensorflow_backend.py:1020: The name tf.assign is deprecated. Please use tf.compat.v1.assign instead.\n",
            "\n",
            "WARNING:tensorflow:From /usr/local/lib/python3.6/dist-packages/keras/backend/tensorflow_backend.py:3005: The name tf.Session is deprecated. Please use tf.compat.v1.Session instead.\n",
            "\n",
            "Train on 14151270 samples, validate on 6064830 samples\n",
            "Epoch 1/20\n",
            "WARNING:tensorflow:From /usr/local/lib/python3.6/dist-packages/keras/backend/tensorflow_backend.py:190: The name tf.get_default_session is deprecated. Please use tf.compat.v1.get_default_session instead.\n",
            "\n",
            "WARNING:tensorflow:From /usr/local/lib/python3.6/dist-packages/keras/backend/tensorflow_backend.py:197: The name tf.ConfigProto is deprecated. Please use tf.compat.v1.ConfigProto instead.\n",
            "\n",
            "WARNING:tensorflow:From /usr/local/lib/python3.6/dist-packages/keras/backend/tensorflow_backend.py:207: The name tf.global_variables is deprecated. Please use tf.compat.v1.global_variables instead.\n",
            "\n",
            "WARNING:tensorflow:From /usr/local/lib/python3.6/dist-packages/keras/backend/tensorflow_backend.py:216: The name tf.is_variable_initialized is deprecated. Please use tf.compat.v1.is_variable_initialized instead.\n",
            "\n",
            "WARNING:tensorflow:From /usr/local/lib/python3.6/dist-packages/keras/backend/tensorflow_backend.py:223: The name tf.variables_initializer is deprecated. Please use tf.compat.v1.variables_initializer instead.\n",
            "\n",
            "14151270/14151270 [==============================] - 59s 4us/step - loss: 4.4745 - acc: 4.8907e-04 - val_loss: 6.8441 - val_acc: 0.0000e+00\n",
            "Epoch 2/20\n",
            "14151270/14151270 [==============================] - 48s 3us/step - loss: 3.8075 - acc: 2.8337e-05 - val_loss: 7.0284 - val_acc: 7.3786e-04\n",
            "Epoch 3/20\n",
            "14151270/14151270 [==============================] - 49s 3us/step - loss: 3.6898 - acc: 4.4943e-05 - val_loss: 7.4259 - val_acc: 0.0012\n",
            "Epoch 4/20\n",
            "14151270/14151270 [==============================] - 48s 3us/step - loss: 3.5358 - acc: 1.0126e-04 - val_loss: 7.1570 - val_acc: 0.0045\n",
            "Epoch 5/20\n",
            "14151270/14151270 [==============================] - 48s 3us/step - loss: 3.3554 - acc: 1.4500e-04 - val_loss: 7.4272 - val_acc: 0.0078\n",
            "Epoch 6/20\n",
            "14151270/14151270 [==============================] - 48s 3us/step - loss: 3.3131 - acc: 1.3419e-04 - val_loss: 7.6865 - val_acc: 0.0082\n",
            "Epoch 7/20\n",
            "14151270/14151270 [==============================] - 48s 3us/step - loss: 3.2915 - acc: 1.2091e-04 - val_loss: 7.3825 - val_acc: 0.0071\n",
            "Epoch 8/20\n",
            "14151270/14151270 [==============================] - 48s 3us/step - loss: 3.2770 - acc: 1.1222e-04 - val_loss: 7.9555 - val_acc: 0.0095\n",
            "Epoch 9/20\n",
            "14151270/14151270 [==============================] - 48s 3us/step - loss: 3.2660 - acc: 9.9638e-05 - val_loss: 7.7982 - val_acc: 0.0083\n",
            "Epoch 10/20\n",
            "14151270/14151270 [==============================] - 48s 3us/step - loss: 3.2571 - acc: 9.4550e-05 - val_loss: 8.1203 - val_acc: 0.0084\n",
            "Epoch 11/20\n",
            "14151270/14151270 [==============================] - 48s 3us/step - loss: 3.2510 - acc: 9.0946e-05 - val_loss: 7.7305 - val_acc: 0.0064\n",
            "Epoch 12/20\n",
            "14151270/14151270 [==============================] - 48s 3us/step - loss: 3.2454 - acc: 8.1406e-05 - val_loss: 7.9817 - val_acc: 0.0072\n",
            "Epoch 13/20\n",
            "14151270/14151270 [==============================] - 48s 3us/step - loss: 3.2389 - acc: 8.1194e-05 - val_loss: 8.1285 - val_acc: 0.0079\n",
            "Epoch 14/20\n",
            "14151270/14151270 [==============================] - 48s 3us/step - loss: 3.2324 - acc: 8.7059e-05 - val_loss: 7.6807 - val_acc: 0.0063\n",
            "Epoch 15/20\n",
            "14151270/14151270 [==============================] - 48s 3us/step - loss: 3.2262 - acc: 8.3385e-05 - val_loss: 7.9004 - val_acc: 0.0070\n",
            "Epoch 16/20\n",
            "14151270/14151270 [==============================] - 49s 3us/step - loss: 3.2187 - acc: 8.2325e-05 - val_loss: 7.8062 - val_acc: 0.0068\n",
            "Epoch 17/20\n",
            "14151270/14151270 [==============================] - 48s 3us/step - loss: 3.2102 - acc: 8.0629e-05 - val_loss: 7.9956 - val_acc: 0.0075\n",
            "Epoch 18/20\n",
            "14151270/14151270 [==============================] - 49s 3us/step - loss: 3.2028 - acc: 8.0205e-05 - val_loss: 7.2326 - val_acc: 0.0059\n",
            "Epoch 19/20\n",
            "14151270/14151270 [==============================] - 48s 3us/step - loss: 3.1964 - acc: 8.7766e-05 - val_loss: 7.2408 - val_acc: 0.0067\n",
            "Epoch 20/20\n",
            "14151270/14151270 [==============================] - 48s 3us/step - loss: 3.1931 - acc: 8.6423e-05 - val_loss: 7.1835 - val_acc: 0.0059\n"
          ],
          "name": "stdout"
        }
      ]
    },
    {
      "cell_type": "code",
      "metadata": {
        "id": "Xq68THBRCEYY",
        "colab_type": "code",
        "outputId": "3f61e6a4-8346-4276-bd9d-5d01aed42ecf",
        "colab": {
          "base_uri": "https://localhost:8080/",
          "height": 312
        }
      },
      "source": [
        "print(history.history.keys())\n",
        "# \"Loss\"\n",
        "plt.plot(history.history['loss'])\n",
        "plt.plot(history.history['val_loss'])\n",
        "plt.title('model loss')\n",
        "plt.ylabel('loss')\n",
        "plt.xlabel('epoch')\n",
        "plt.legend(['train', 'validation'], loc='upper left')\n",
        "plt.show()"
      ],
      "execution_count": 0,
      "outputs": [
        {
          "output_type": "stream",
          "text": [
            "dict_keys(['val_loss', 'val_acc', 'loss', 'acc'])\n"
          ],
          "name": "stdout"
        },
        {
          "output_type": "display_data",
          "data": {
            "image/png": "[encoded data removed]",
            "text/plain": [
              "<Figure size 432x288 with 1 Axes>"
            ]
          },
          "metadata": {
            "tags": []
          }
        }
      ]
    },
    {
      "cell_type": "code",
      "metadata": {
        "id": "_F2lNgnhCEVa",
        "colab_type": "code",
        "outputId": "51375194-1928-42af-c5a6-ba09cb8b9828",
        "colab": {
          "base_uri": "https://localhost:8080/",
          "height": 294
        }
      },
      "source": [
        "plt.plot(history.history['acc'])\n",
        "plt.plot(history.history['val_acc'])\n",
        "plt.title('model accuracy')\n",
        "plt.ylabel('acc')\n",
        "plt.xlabel('epoch')\n",
        "plt.legend(['train', 'validation'], loc='upper left')\n",
        "plt.show()"
      ],
      "execution_count": 0,
      "outputs": [
        {
          "output_type": "display_data",
          "data": {
            "image/png": "[encoded data removed]",
            "text/plain": [
              "<Figure size 432x288 with 1 Axes>"
            ]
          },
          "metadata": {
            "tags": []
          }
        }
      ]
    },
    {
      "cell_type": "markdown",
      "metadata": {
        "id": "a78jNSRuyJwQ",
        "colab_type": "text"
      },
      "source": [
        "### LSTM Model"
      ]
    },
    {
      "cell_type": "code",
      "metadata": {
        "colab_type": "code",
        "id": "_zdjcTX5yeEv",
        "colab": {}
      },
      "source": [
        "x_train=X_train.to_numpy()\n",
        "y_train=Y_train.to_numpy()\n",
        "x_test=X_test.to_numpy()\n",
        "y_test=Y_test.to_numpy()"
      ],
      "execution_count": 0,
      "outputs": []
    },
    {
      "cell_type": "code",
      "metadata": {
        "colab_type": "code",
        "id": "TFTxch4EyeEz",
        "colab": {}
      },
      "source": [
        "x_train=x_train.reshape((x_train.shape[0],x_train.shape[-1],1))\n",
        "y_train=y_train.reshape((y_train.shape[0],1))\n",
        "x_test=x_test.reshape((x_test.shape[0],x_test.shape[-1],1))\n",
        "y_test=y_test.reshape((y_test.shape[0],1))\n"
      ],
      "execution_count": 0,
      "outputs": []
    },
    {
      "cell_type": "code",
      "metadata": {
        "colab_type": "code",
        "id": "qbt-RxkNyeE1",
        "outputId": "93805832-a92a-47c2-8fd1-27e9c371c320",
        "colab": {
          "base_uri": "https://localhost:8080/",
          "height": 34
        }
      },
      "source": [
        "x_train.shape,y_train.shape, x_test.shape,y_test.shape"
      ],
      "execution_count": 0,
      "outputs": [
        {
          "output_type": "execute_result",
          "data": {
            "text/plain": [
              "((14151270, 6, 1), (14151270, 1), (6064830, 6, 1), (6064830, 1))"
            ]
          },
          "metadata": {
            "tags": []
          },
          "execution_count": 31
        }
      ]
    },
    {
      "cell_type": "code",
      "metadata": {
        "colab_type": "code",
        "id": "hI24h0M3yeE4",
        "colab": {}
      },
      "source": [
        "model = Sequential()\n",
        "model.add(LSTM(32, \n",
        "               input_shape=( x_train.shape[1],1), \n",
        "               dropout=0.2,\n",
        "               recurrent_dropout= 0.2\n",
        "              ))\n",
        "model.add(Dense(1))\n",
        "\n",
        "model.compile(optimizer='rmsprop', loss='mse',metrics=['mse'])"
      ],
      "execution_count": 0,
      "outputs": []
    },
    {
      "cell_type": "code",
      "metadata": {
        "colab_type": "code",
        "id": "g-_sDtP-yeE6",
        "outputId": "99da2a86-09a3-4496-ee0d-e88e144175d5",
        "colab": {
          "base_uri": "https://localhost:8080/",
          "height": 230
        }
      },
      "source": [
        "model.summary()"
      ],
      "execution_count": 0,
      "outputs": [
        {
          "output_type": "stream",
          "text": [
            "Model: \"sequential_5\"\n",
            "_________________________________________________________________\n",
            "Layer (type)                 Output Shape              Param #   \n",
            "=================================================================\n",
            "lstm_1 (LSTM)                (None, 32)                4352      \n",
            "_________________________________________________________________\n",
            "dense_5 (Dense)              (None, 1)                 33        \n",
            "=================================================================\n",
            "Total params: 4,385\n",
            "Trainable params: 4,385\n",
            "Non-trainable params: 0\n",
            "_________________________________________________________________\n"
          ],
          "name": "stdout"
        }
      ]
    },
    {
      "cell_type": "code",
      "metadata": {
        "colab_type": "code",
        "id": "yujKT3k-yeFA",
        "outputId": "39e97fab-fa1f-4dcd-fb33-0d379dccd31a",
        "colab": {
          "base_uri": "https://localhost:8080/",
          "height": 943
        }
      },
      "source": [
        "\n",
        "history = model.fit(x_train,y_train,\n",
        "                              epochs=25, \n",
        "                              validation_data = (x_test,y_test), \n",
        "                              #steps_per_epoch=500,\n",
        "                              batch_size=6000)"
      ],
      "execution_count": 0,
      "outputs": [
        {
          "output_type": "stream",
          "text": [
            "Train on 14151270 samples, validate on 6064830 samples\n",
            "Epoch 1/25\n",
            "14151270/14151270 [==============================] - 56s 4us/step - loss: 4.3374 - mean_squared_error: 4.3374 - val_loss: 6.6076 - val_mean_squared_error: 6.6076\n",
            "Epoch 2/25\n",
            "14151270/14151270 [==============================] - 55s 4us/step - loss: 3.8994 - mean_squared_error: 3.8994 - val_loss: 7.5852 - val_mean_squared_error: 7.5852\n",
            "Epoch 3/25\n",
            "14151270/14151270 [==============================] - 54s 4us/step - loss: 3.8165 - mean_squared_error: 3.8165 - val_loss: 6.8164 - val_mean_squared_error: 6.8164\n",
            "Epoch 4/25\n",
            "14151270/14151270 [==============================] - 55s 4us/step - loss: 3.6723 - mean_squared_error: 3.6723 - val_loss: 7.2114 - val_mean_squared_error: 7.2114\n",
            "Epoch 5/25\n",
            "14151270/14151270 [==============================] - 54s 4us/step - loss: 3.5490 - mean_squared_error: 3.5490 - val_loss: 7.0757 - val_mean_squared_error: 7.0757\n",
            "Epoch 6/25\n",
            "14151270/14151270 [==============================] - 53s 4us/step - loss: 3.4957 - mean_squared_error: 3.4957 - val_loss: 6.7536 - val_mean_squared_error: 6.7536\n",
            "Epoch 7/25\n",
            "14151270/14151270 [==============================] - 54s 4us/step - loss: 3.4330 - mean_squared_error: 3.4330 - val_loss: 6.2404 - val_mean_squared_error: 6.2404\n",
            "Epoch 8/25\n",
            "14151270/14151270 [==============================] - 54s 4us/step - loss: 3.3612 - mean_squared_error: 3.3612 - val_loss: 6.5745 - val_mean_squared_error: 6.5745\n",
            "Epoch 9/25\n",
            "14151270/14151270 [==============================] - 54s 4us/step - loss: 3.3340 - mean_squared_error: 3.3340 - val_loss: 6.1204 - val_mean_squared_error: 6.1204\n",
            "Epoch 10/25\n",
            "14151270/14151270 [==============================] - 54s 4us/step - loss: 3.3146 - mean_squared_error: 3.3146 - val_loss: 6.8346 - val_mean_squared_error: 6.8346\n",
            "Epoch 11/25\n",
            "14151270/14151270 [==============================] - 54s 4us/step - loss: 3.3023 - mean_squared_error: 3.3023 - val_loss: 6.5838 - val_mean_squared_error: 6.5838\n",
            "Epoch 12/25\n",
            "14151270/14151270 [==============================] - 54s 4us/step - loss: 3.2917 - mean_squared_error: 3.2917 - val_loss: 6.5235 - val_mean_squared_error: 6.5235\n",
            "Epoch 13/25\n",
            "14151270/14151270 [==============================] - 53s 4us/step - loss: 3.2830 - mean_squared_error: 3.2830 - val_loss: 6.1912 - val_mean_squared_error: 6.1912\n",
            "Epoch 14/25\n",
            "14151270/14151270 [==============================] - 53s 4us/step - loss: 3.2770 - mean_squared_error: 3.2770 - val_loss: 6.2917 - val_mean_squared_error: 6.2917\n",
            "Epoch 15/25\n",
            "14151270/14151270 [==============================] - 54s 4us/step - loss: 3.2700 - mean_squared_error: 3.2700 - val_loss: 6.3924 - val_mean_squared_error: 6.3924\n",
            "Epoch 16/25\n",
            "14151270/14151270 [==============================] - 54s 4us/step - loss: 3.2642 - mean_squared_error: 3.2642 - val_loss: 6.9746 - val_mean_squared_error: 6.9746\n",
            "Epoch 17/25\n",
            "14151270/14151270 [==============================] - 54s 4us/step - loss: 3.2584 - mean_squared_error: 3.2584 - val_loss: 6.4694 - val_mean_squared_error: 6.4694\n",
            "Epoch 18/25\n",
            "14151270/14151270 [==============================] - 54s 4us/step - loss: 3.2535 - mean_squared_error: 3.2535 - val_loss: 6.7159 - val_mean_squared_error: 6.7159\n",
            "Epoch 19/25\n",
            "14151270/14151270 [==============================] - 55s 4us/step - loss: 3.2485 - mean_squared_error: 3.2485 - val_loss: 6.0403 - val_mean_squared_error: 6.0403\n",
            "Epoch 20/25\n",
            "14151270/14151270 [==============================] - 55s 4us/step - loss: 3.2432 - mean_squared_error: 3.2432 - val_loss: 6.6622 - val_mean_squared_error: 6.6622\n",
            "Epoch 21/25\n",
            "14151270/14151270 [==============================] - 55s 4us/step - loss: 3.2395 - mean_squared_error: 3.2395 - val_loss: 6.2203 - val_mean_squared_error: 6.2203\n",
            "Epoch 22/25\n",
            "14151270/14151270 [==============================] - 56s 4us/step - loss: 3.2340 - mean_squared_error: 3.2340 - val_loss: 6.6026 - val_mean_squared_error: 6.6026\n",
            "Epoch 23/25\n",
            "14151270/14151270 [==============================] - 55s 4us/step - loss: 3.2284 - mean_squared_error: 3.2284 - val_loss: 6.0214 - val_mean_squared_error: 6.0214\n",
            "Epoch 24/25\n",
            "14151270/14151270 [==============================] - 56s 4us/step - loss: 3.2241 - mean_squared_error: 3.2241 - val_loss: 6.7494 - val_mean_squared_error: 6.7494\n",
            "Epoch 25/25\n",
            "14151270/14151270 [==============================] - 55s 4us/step - loss: 3.2192 - mean_squared_error: 3.2192 - val_loss: 6.5086 - val_mean_squared_error: 6.5086\n"
          ],
          "name": "stdout"
        }
      ]
    },
    {
      "cell_type": "code",
      "metadata": {
        "colab_type": "code",
        "id": "PZbKIrduyeFC",
        "outputId": "e8599bce-3972-4678-f72b-dee23945f20c",
        "colab": {
          "base_uri": "https://localhost:8080/",
          "height": 312
        }
      },
      "source": [
        "print(history.history.keys())\n",
        "# \"Loss\"\n",
        "plt.plot(history.history['loss'])\n",
        "plt.plot(history.history['val_loss'])\n",
        "plt.title('model loss')\n",
        "plt.ylabel('loss')\n",
        "plt.xlabel('epoch')\n",
        "plt.legend(['train', 'validation'], loc='upper left')\n",
        "plt.show()"
      ],
      "execution_count": 0,
      "outputs": [
        {
          "output_type": "stream",
          "text": [
            "dict_keys(['val_loss', 'val_mean_squared_error', 'loss', 'mean_squared_error'])\n"
          ],
          "name": "stdout"
        },
        {
          "output_type": "display_data",
          "data": {
            "image/png": "[encoded data removed]",
            "text/plain": [
              "<Figure size 432x288 with 1 Axes>"
            ]
          },
          "metadata": {
            "tags": []
          }
        }
      ]
    },
    {
      "cell_type": "code",
      "metadata": {
        "colab_type": "code",
        "id": "qAf2g4BmyeFE",
        "outputId": "0d9ee9a0-6b7a-472f-ba27-c92c5b76c73a",
        "colab": {
          "base_uri": "https://localhost:8080/",
          "height": 294
        }
      },
      "source": [
        "plt.plot(history.history['mean_squared_error'])\n",
        "plt.plot(history.history['val_mean_squared_error'])\n",
        "plt.title('model mse')\n",
        "plt.ylabel('mse')\n",
        "plt.xlabel('epoch')\n",
        "plt.legend(['train', 'validation'], loc='upper left')\n",
        "plt.show()"
      ],
      "execution_count": 0,
      "outputs": [
        {
          "output_type": "display_data",
          "data": {
            "image/png": "[encoded data removed]",
            "text/plain": [
              "<Figure size 432x288 with 1 Axes>"
            ]
          },
          "metadata": {
            "tags": []
          }
        }
      ]
    },
    {
      "cell_type": "code",
      "metadata": {
        "id": "a_eI4HV_QGO2",
        "colab_type": "code",
        "colab": {}
      },
      "source": [
        ""
      ],
      "execution_count": 0,
      "outputs": []
    }
  ]
}